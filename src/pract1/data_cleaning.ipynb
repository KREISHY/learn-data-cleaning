{
 "cells": [
  {
   "metadata": {
    "collapsed": true
   },
   "cell_type": "code",
   "source": [
    "import pandas as pd\n",
    "import numpy as np\n",
    "import json"
   ],
   "id": "initial_id",
   "outputs": [],
   "execution_count": null
  },
  {
   "metadata": {},
   "cell_type": "markdown",
   "source": "Read file shop_users.csv",
   "id": "66f5903bd3f5b881"
  },
  {
   "metadata": {},
   "cell_type": "code",
   "source": "df = pd.read_csv('shop_users.csv')",
   "id": "8496ccdb50d6191c",
   "outputs": [],
   "execution_count": null
  },
  {
   "metadata": {},
   "cell_type": "markdown",
   "source": "# *View*",
   "id": "4ad0f2f25b78f86c"
  },
  {
   "metadata": {
    "ExecuteTime": {
     "end_time": "2024-12-21T08:11:37.872160Z",
     "start_time": "2024-12-21T08:11:37.860210Z"
    }
   },
   "cell_type": "code",
   "source": "df",
   "id": "632118a00b1c4c67",
   "outputs": [
    {
     "data": {
      "text/plain": [
       "      Unnamed: 0         id       bdate  \\\n",
       "0              0         19    1.1.2005   \n",
       "1              1        510    1.1.1985   \n",
       "2              2        674    1.1.1979   \n",
       "3              3       1018    1.1.2002   \n",
       "4              4       1586    1.1.1989   \n",
       "...          ...        ...         ...   \n",
       "3520        3520  741237782   22.2.2000   \n",
       "3521        3521  741237783    4.8.2005   \n",
       "3522        3522  741237784  30.11.2002   \n",
       "3523        3523  741237785    5.6.2008   \n",
       "3524        3524  741237786   24.7.1990   \n",
       "\n",
       "                                        city  \\\n",
       "0     {'id': 2, 'title': 'Saint-Petersburg'}   \n",
       "1                                        NaN   \n",
       "2         {'id': 99, 'title': 'Новосибирск'}   \n",
       "3     {'id': 2, 'title': 'Saint-Petersburg'}   \n",
       "4                                        NaN   \n",
       "...                                      ...   \n",
       "3520                                     NaN   \n",
       "3521            {'id': 1, 'title': 'Россия'}   \n",
       "3522            {'id': 1, 'title': 'Россия'}   \n",
       "3523            {'id': 1, 'title': 'Россия'}   \n",
       "3524            {'id': 1, 'title': 'Россия'}   \n",
       "\n",
       "                                  country  \\\n",
       "0            {'id': 1, 'title': 'Россия'}   \n",
       "1            {'id': 1, 'title': 'Россия'}   \n",
       "2            {'id': 1, 'title': 'Россия'}   \n",
       "3            {'id': 1, 'title': 'Россия'}   \n",
       "4            {'id': 1, 'title': 'Россия'}   \n",
       "...                                   ...   \n",
       "3520         {'id': 1, 'title': 'Россия'}   \n",
       "3521  {'platform': 4, 'time': 1658820057}   \n",
       "3522  {'platform': 2, 'time': 1662237422}   \n",
       "3523  {'platform': 4, 'time': 1662232523}   \n",
       "3524  {'platform': 4, 'time': 1661793146}   \n",
       "\n",
       "                                last_seen  followers_count  common_count  sex  \\\n",
       "0     {'platform': 2, 'time': 1662237362}          39326.0             0    1   \n",
       "1     {'platform': 7, 'time': 1661321803}          19698.0             0    2   \n",
       "2     {'platform': 7, 'time': 1662202619}              NaN             0    2   \n",
       "3     {'platform': 1, 'time': 1613708136}              NaN             0    2   \n",
       "4     {'platform': 7, 'time': 1619550770}          31433.0             0    2   \n",
       "...                                   ...              ...           ...  ...   \n",
       "3520  {'platform': 4, 'time': 1661793146}              NaN             0    2   \n",
       "3521                                  NaN              0.0             2    1   \n",
       "3522                                    0              0.0             2    0   \n",
       "3523                                    1              0.0             2    0   \n",
       "3524                                  NaN              0.0             2    1   \n",
       "\n",
       "      is_closed home_town                             relation  \\\n",
       "0           0.0       NaN                                  NaN   \n",
       "1           0.0       NaN                                  NaN   \n",
       "2           1.0       NaN                                  NaN   \n",
       "3           1.0       NaN                                  NaN   \n",
       "4           0.0       NaN                                  NaN   \n",
       "...         ...       ...                                  ...   \n",
       "3520        1.0       NaN                                  NaN   \n",
       "3521        NaN       NaN  {'costs': 50000, 'currency': 'RUR'}   \n",
       "3522        NaN         0  {'costs': 50000, 'currency': 'RUR'}   \n",
       "3523        NaN       NaN  {'costs': 25000, 'currency': 'RUR'}   \n",
       "3524        NaN       NaN  {'costs': 25000, 'currency': 'RUR'}   \n",
       "\n",
       "                                                  costs  \\\n",
       "0                   {'costs': 25000, 'currency': 'RUR'}   \n",
       "1                   {'costs': 50000, 'currency': 'RUR'}   \n",
       "2                   {'costs': 75000, 'currency': 'RUR'}   \n",
       "3                  {'costs': 100000, 'currency': 'RUR'}   \n",
       "4                  {'costs': 100000, 'currency': 'RUR'}   \n",
       "...                                                 ...   \n",
       "3520                {'costs': 25000, 'currency': 'RUR'}   \n",
       "3521                             [{'name': 'Fortnite'}]   \n",
       "3522  [{'name': 'PUBG'}, {'name': 'Hearthstone'}, {'...   \n",
       "3523                                 [{'name': 'FIFA'}]   \n",
       "3524  [{'name': 'StarCraft 2'}, {'name': 'Warface'},...   \n",
       "\n",
       "                                                  games  \n",
       "0     [{'name': 'Dota 2'}, {'name': 'CS:GO'}, {'name...  \n",
       "1     [{'name': 'League of Legends'}, {'name': 'Valo...  \n",
       "2                                [{'name': 'Fortnite'}]  \n",
       "3     [{'name': 'PUBG'}, {'name': 'Hearthstone'}, {'...  \n",
       "4                                    [{'name': 'FIFA'}]  \n",
       "...                                                 ...  \n",
       "3520                                [{'name': 'CS:GO'}]  \n",
       "3521                                                 no  \n",
       "3522                                                 no  \n",
       "3523                                                 no  \n",
       "3524                                                 no  \n",
       "\n",
       "[3525 rows x 14 columns]"
      ],
      "text/html": [
       "<div>\n",
       "<style scoped>\n",
       "    .dataframe tbody tr th:only-of-type {\n",
       "        vertical-align: middle;\n",
       "    }\n",
       "\n",
       "    .dataframe tbody tr th {\n",
       "        vertical-align: top;\n",
       "    }\n",
       "\n",
       "    .dataframe thead th {\n",
       "        text-align: right;\n",
       "    }\n",
       "</style>\n",
       "<table border=\"1\" class=\"dataframe\">\n",
       "  <thead>\n",
       "    <tr style=\"text-align: right;\">\n",
       "      <th></th>\n",
       "      <th>Unnamed: 0</th>\n",
       "      <th>id</th>\n",
       "      <th>bdate</th>\n",
       "      <th>city</th>\n",
       "      <th>country</th>\n",
       "      <th>last_seen</th>\n",
       "      <th>followers_count</th>\n",
       "      <th>common_count</th>\n",
       "      <th>sex</th>\n",
       "      <th>is_closed</th>\n",
       "      <th>home_town</th>\n",
       "      <th>relation</th>\n",
       "      <th>costs</th>\n",
       "      <th>games</th>\n",
       "    </tr>\n",
       "  </thead>\n",
       "  <tbody>\n",
       "    <tr>\n",
       "      <th>0</th>\n",
       "      <td>0</td>\n",
       "      <td>19</td>\n",
       "      <td>1.1.2005</td>\n",
       "      <td>{'id': 2, 'title': 'Saint-Petersburg'}</td>\n",
       "      <td>{'id': 1, 'title': 'Россия'}</td>\n",
       "      <td>{'platform': 2, 'time': 1662237362}</td>\n",
       "      <td>39326.0</td>\n",
       "      <td>0</td>\n",
       "      <td>1</td>\n",
       "      <td>0.0</td>\n",
       "      <td>NaN</td>\n",
       "      <td>NaN</td>\n",
       "      <td>{'costs': 25000, 'currency': 'RUR'}</td>\n",
       "      <td>[{'name': 'Dota 2'}, {'name': 'CS:GO'}, {'name...</td>\n",
       "    </tr>\n",
       "    <tr>\n",
       "      <th>1</th>\n",
       "      <td>1</td>\n",
       "      <td>510</td>\n",
       "      <td>1.1.1985</td>\n",
       "      <td>NaN</td>\n",
       "      <td>{'id': 1, 'title': 'Россия'}</td>\n",
       "      <td>{'platform': 7, 'time': 1661321803}</td>\n",
       "      <td>19698.0</td>\n",
       "      <td>0</td>\n",
       "      <td>2</td>\n",
       "      <td>0.0</td>\n",
       "      <td>NaN</td>\n",
       "      <td>NaN</td>\n",
       "      <td>{'costs': 50000, 'currency': 'RUR'}</td>\n",
       "      <td>[{'name': 'League of Legends'}, {'name': 'Valo...</td>\n",
       "    </tr>\n",
       "    <tr>\n",
       "      <th>2</th>\n",
       "      <td>2</td>\n",
       "      <td>674</td>\n",
       "      <td>1.1.1979</td>\n",
       "      <td>{'id': 99, 'title': 'Новосибирск'}</td>\n",
       "      <td>{'id': 1, 'title': 'Россия'}</td>\n",
       "      <td>{'platform': 7, 'time': 1662202619}</td>\n",
       "      <td>NaN</td>\n",
       "      <td>0</td>\n",
       "      <td>2</td>\n",
       "      <td>1.0</td>\n",
       "      <td>NaN</td>\n",
       "      <td>NaN</td>\n",
       "      <td>{'costs': 75000, 'currency': 'RUR'}</td>\n",
       "      <td>[{'name': 'Fortnite'}]</td>\n",
       "    </tr>\n",
       "    <tr>\n",
       "      <th>3</th>\n",
       "      <td>3</td>\n",
       "      <td>1018</td>\n",
       "      <td>1.1.2002</td>\n",
       "      <td>{'id': 2, 'title': 'Saint-Petersburg'}</td>\n",
       "      <td>{'id': 1, 'title': 'Россия'}</td>\n",
       "      <td>{'platform': 1, 'time': 1613708136}</td>\n",
       "      <td>NaN</td>\n",
       "      <td>0</td>\n",
       "      <td>2</td>\n",
       "      <td>1.0</td>\n",
       "      <td>NaN</td>\n",
       "      <td>NaN</td>\n",
       "      <td>{'costs': 100000, 'currency': 'RUR'}</td>\n",
       "      <td>[{'name': 'PUBG'}, {'name': 'Hearthstone'}, {'...</td>\n",
       "    </tr>\n",
       "    <tr>\n",
       "      <th>4</th>\n",
       "      <td>4</td>\n",
       "      <td>1586</td>\n",
       "      <td>1.1.1989</td>\n",
       "      <td>NaN</td>\n",
       "      <td>{'id': 1, 'title': 'Россия'}</td>\n",
       "      <td>{'platform': 7, 'time': 1619550770}</td>\n",
       "      <td>31433.0</td>\n",
       "      <td>0</td>\n",
       "      <td>2</td>\n",
       "      <td>0.0</td>\n",
       "      <td>NaN</td>\n",
       "      <td>NaN</td>\n",
       "      <td>{'costs': 100000, 'currency': 'RUR'}</td>\n",
       "      <td>[{'name': 'FIFA'}]</td>\n",
       "    </tr>\n",
       "    <tr>\n",
       "      <th>...</th>\n",
       "      <td>...</td>\n",
       "      <td>...</td>\n",
       "      <td>...</td>\n",
       "      <td>...</td>\n",
       "      <td>...</td>\n",
       "      <td>...</td>\n",
       "      <td>...</td>\n",
       "      <td>...</td>\n",
       "      <td>...</td>\n",
       "      <td>...</td>\n",
       "      <td>...</td>\n",
       "      <td>...</td>\n",
       "      <td>...</td>\n",
       "      <td>...</td>\n",
       "    </tr>\n",
       "    <tr>\n",
       "      <th>3520</th>\n",
       "      <td>3520</td>\n",
       "      <td>741237782</td>\n",
       "      <td>22.2.2000</td>\n",
       "      <td>NaN</td>\n",
       "      <td>{'id': 1, 'title': 'Россия'}</td>\n",
       "      <td>{'platform': 4, 'time': 1661793146}</td>\n",
       "      <td>NaN</td>\n",
       "      <td>0</td>\n",
       "      <td>2</td>\n",
       "      <td>1.0</td>\n",
       "      <td>NaN</td>\n",
       "      <td>NaN</td>\n",
       "      <td>{'costs': 25000, 'currency': 'RUR'}</td>\n",
       "      <td>[{'name': 'CS:GO'}]</td>\n",
       "    </tr>\n",
       "    <tr>\n",
       "      <th>3521</th>\n",
       "      <td>3521</td>\n",
       "      <td>741237783</td>\n",
       "      <td>4.8.2005</td>\n",
       "      <td>{'id': 1, 'title': 'Россия'}</td>\n",
       "      <td>{'platform': 4, 'time': 1658820057}</td>\n",
       "      <td>NaN</td>\n",
       "      <td>0.0</td>\n",
       "      <td>2</td>\n",
       "      <td>1</td>\n",
       "      <td>NaN</td>\n",
       "      <td>NaN</td>\n",
       "      <td>{'costs': 50000, 'currency': 'RUR'}</td>\n",
       "      <td>[{'name': 'Fortnite'}]</td>\n",
       "      <td>no</td>\n",
       "    </tr>\n",
       "    <tr>\n",
       "      <th>3522</th>\n",
       "      <td>3522</td>\n",
       "      <td>741237784</td>\n",
       "      <td>30.11.2002</td>\n",
       "      <td>{'id': 1, 'title': 'Россия'}</td>\n",
       "      <td>{'platform': 2, 'time': 1662237422}</td>\n",
       "      <td>0</td>\n",
       "      <td>0.0</td>\n",
       "      <td>2</td>\n",
       "      <td>0</td>\n",
       "      <td>NaN</td>\n",
       "      <td>0</td>\n",
       "      <td>{'costs': 50000, 'currency': 'RUR'}</td>\n",
       "      <td>[{'name': 'PUBG'}, {'name': 'Hearthstone'}, {'...</td>\n",
       "      <td>no</td>\n",
       "    </tr>\n",
       "    <tr>\n",
       "      <th>3523</th>\n",
       "      <td>3523</td>\n",
       "      <td>741237785</td>\n",
       "      <td>5.6.2008</td>\n",
       "      <td>{'id': 1, 'title': 'Россия'}</td>\n",
       "      <td>{'platform': 4, 'time': 1662232523}</td>\n",
       "      <td>1</td>\n",
       "      <td>0.0</td>\n",
       "      <td>2</td>\n",
       "      <td>0</td>\n",
       "      <td>NaN</td>\n",
       "      <td>NaN</td>\n",
       "      <td>{'costs': 25000, 'currency': 'RUR'}</td>\n",
       "      <td>[{'name': 'FIFA'}]</td>\n",
       "      <td>no</td>\n",
       "    </tr>\n",
       "    <tr>\n",
       "      <th>3524</th>\n",
       "      <td>3524</td>\n",
       "      <td>741237786</td>\n",
       "      <td>24.7.1990</td>\n",
       "      <td>{'id': 1, 'title': 'Россия'}</td>\n",
       "      <td>{'platform': 4, 'time': 1661793146}</td>\n",
       "      <td>NaN</td>\n",
       "      <td>0.0</td>\n",
       "      <td>2</td>\n",
       "      <td>1</td>\n",
       "      <td>NaN</td>\n",
       "      <td>NaN</td>\n",
       "      <td>{'costs': 25000, 'currency': 'RUR'}</td>\n",
       "      <td>[{'name': 'StarCraft 2'}, {'name': 'Warface'},...</td>\n",
       "      <td>no</td>\n",
       "    </tr>\n",
       "  </tbody>\n",
       "</table>\n",
       "<p>3525 rows × 14 columns</p>\n",
       "</div>"
      ]
     },
     "execution_count": 10,
     "metadata": {},
     "output_type": "execute_result"
    }
   ],
   "execution_count": 10
  },
  {
   "metadata": {},
   "cell_type": "code",
   "source": "df.head(n=2)",
   "id": "b95e0206ad56bacf",
   "outputs": [],
   "execution_count": null
  },
  {
   "metadata": {},
   "cell_type": "code",
   "source": "df.tail(n=3)",
   "id": "96fccdeb5fc30fae",
   "outputs": [],
   "execution_count": null
  },
  {
   "metadata": {},
   "cell_type": "code",
   "source": "df.sample(n=4)",
   "id": "db3c4b824cbe0b66",
   "outputs": [],
   "execution_count": null
  },
  {
   "metadata": {
    "ExecuteTime": {
     "end_time": "2024-12-21T08:13:37.911290Z",
     "start_time": "2024-12-21T08:13:37.905900Z"
    }
   },
   "cell_type": "code",
   "source": "type(df)",
   "id": "847fb5b172dab232",
   "outputs": [
    {
     "data": {
      "text/plain": [
       "pandas.core.series.Series"
      ]
     },
     "execution_count": 15,
     "metadata": {},
     "output_type": "execute_result"
    }
   ],
   "execution_count": 15
  },
  {
   "metadata": {
    "ExecuteTime": {
     "end_time": "2024-12-21T08:13:56.456246Z",
     "start_time": "2024-12-21T08:13:56.451462Z"
    }
   },
   "cell_type": "code",
   "source": "type(df['id'])",
   "id": "876a3a49d43029cf",
   "outputs": [
    {
     "data": {
      "text/plain": [
       "pandas.core.series.Series"
      ]
     },
     "execution_count": 16,
     "metadata": {},
     "output_type": "execute_result"
    }
   ],
   "execution_count": 16
  },
  {
   "metadata": {
    "ExecuteTime": {
     "end_time": "2024-12-21T08:14:19.957889Z",
     "start_time": "2024-12-21T08:14:19.952824Z"
    }
   },
   "cell_type": "code",
   "source": [
    "# size dataset\n",
    "len(df)"
   ],
   "id": "f69f808c98c5234d",
   "outputs": [
    {
     "data": {
      "text/plain": [
       "3525"
      ]
     },
     "execution_count": 17,
     "metadata": {},
     "output_type": "execute_result"
    }
   ],
   "execution_count": 17
  },
  {
   "metadata": {
    "ExecuteTime": {
     "end_time": "2024-12-21T08:14:51.885086Z",
     "start_time": "2024-12-21T08:14:51.880663Z"
    }
   },
   "cell_type": "code",
   "source": "len(df.axes[1])",
   "id": "4e7b5d37f46a9484",
   "outputs": [
    {
     "data": {
      "text/plain": [
       "14"
      ]
     },
     "execution_count": 18,
     "metadata": {},
     "output_type": "execute_result"
    }
   ],
   "execution_count": 18
  },
  {
   "metadata": {
    "ExecuteTime": {
     "end_time": "2024-12-21T08:20:15.922456Z",
     "start_time": "2024-12-21T08:20:15.918103Z"
    }
   },
   "cell_type": "code",
   "source": "df.shape",
   "id": "5c55e69087f96e19",
   "outputs": [
    {
     "data": {
      "text/plain": [
       "(3525, 14)"
      ]
     },
     "execution_count": 20,
     "metadata": {},
     "output_type": "execute_result"
    }
   ],
   "execution_count": 20
  },
  {
   "metadata": {
    "ExecuteTime": {
     "end_time": "2024-12-21T08:20:42.014602Z",
     "start_time": "2024-12-21T08:20:42.006279Z"
    }
   },
   "cell_type": "code",
   "source": "df.dtypes",
   "id": "3c9d2ad3a11927dc",
   "outputs": [
    {
     "data": {
      "text/plain": [
       "Unnamed: 0           int64\n",
       "id                   int64\n",
       "bdate               object\n",
       "city                object\n",
       "country             object\n",
       "last_seen           object\n",
       "followers_count    float64\n",
       "common_count         int64\n",
       "sex                  int64\n",
       "is_closed          float64\n",
       "home_town           object\n",
       "relation            object\n",
       "costs               object\n",
       "games               object\n",
       "dtype: object"
      ]
     },
     "execution_count": 21,
     "metadata": {},
     "output_type": "execute_result"
    }
   ],
   "execution_count": 21
  },
  {
   "metadata": {
    "ExecuteTime": {
     "end_time": "2024-12-21T08:21:19.489355Z",
     "start_time": "2024-12-21T08:21:19.470799Z"
    }
   },
   "cell_type": "code",
   "source": "df.info()",
   "id": "e09b760bd54ed4f5",
   "outputs": [
    {
     "name": "stdout",
     "output_type": "stream",
     "text": [
      "<class 'pandas.core.frame.DataFrame'>\n",
      "RangeIndex: 3525 entries, 0 to 3524\n",
      "Data columns (total 14 columns):\n",
      " #   Column           Non-Null Count  Dtype  \n",
      "---  ------           --------------  -----  \n",
      " 0   Unnamed: 0       3525 non-null   int64  \n",
      " 1   id               3525 non-null   int64  \n",
      " 2   bdate            3525 non-null   object \n",
      " 3   city             1972 non-null   object \n",
      " 4   country          3525 non-null   object \n",
      " 5   last_seen        3499 non-null   object \n",
      " 6   followers_count  2652 non-null   float64\n",
      " 7   common_count     3525 non-null   int64  \n",
      " 8   sex              3525 non-null   int64  \n",
      " 9   is_closed        3521 non-null   float64\n",
      " 10  home_town        558 non-null    object \n",
      " 11  relation         1584 non-null   object \n",
      " 12  costs            3495 non-null   object \n",
      " 13  games            3495 non-null   object \n",
      "dtypes: float64(2), int64(4), object(8)\n",
      "memory usage: 385.7+ KB\n"
     ]
    }
   ],
   "execution_count": 22
  },
  {
   "metadata": {},
   "cell_type": "markdown",
   "source": "## Выявление проблем",
   "id": "afcadc6e224febee"
  },
  {
   "metadata": {},
   "cell_type": "markdown",
   "source": [
    "1. Наличие признаков, не представляющих ценности в рамках кейса ('Unnamed: 0', 'common_count', 'is_closed', 'home_town', 'relation')\n",
    "2. Возможно наличие дубликатов\n",
    "3. Наличие незаполненных значений ('city', 'last_seen', 'followers_count', 'costs', 'games')\n",
    "4. Наличие вложенных значений (словарей по признакам 'city', 'country', 'last_seen', 'costs' и списков словарей по признаку 'games')\n",
    "5. Приведение признаков в необходимый формат (в datetime: 'bdate, 'last_seen', в float: затраты из признака 'costs')\n",
    "6. Необходимость расчета признака 'age' (от признака 'bdate')\n",
    "7. Наличие закодированных значений (по признаку 'sex')\n",
    "8. Возможные другие проблемы, которые могут быть выявлены в процессе предобработки данных"
   ],
   "id": "2a9094340c1adbd2"
  },
  {
   "metadata": {},
   "cell_type": "markdown",
   "source": "## Исключение признаков, не представляющих ценности в рамках кейса",
   "id": "67f32d07c58098c9"
  },
  {
   "metadata": {},
   "cell_type": "markdown",
   "source": "Перед проведением манипуляций рекомендовано создать копию исходного датасета в отдельную переменную, чтобы в случае необходимости или ошибки при обработке без труда вернуться к исходной версии",
   "id": "d8549b92e366d910"
  },
  {
   "metadata": {
    "ExecuteTime": {
     "end_time": "2024-12-21T08:30:33.312067Z",
     "start_time": "2024-12-21T08:30:33.305536Z"
    }
   },
   "cell_type": "code",
   "source": "df_copy = df.copy()",
   "id": "1282b49caa968856",
   "outputs": [],
   "execution_count": 23
  },
  {
   "metadata": {},
   "cell_type": "code",
   "outputs": [],
   "execution_count": null,
   "source": [
    "# при использовании выражения:\n",
    "# df_copy = df\n",
    "# копия не создастся, а датафрейм просто сохранится также в переменную df_copy,\n",
    "# и при его изменении при обращении к переменной df_copy он также будет изменен в переменной df."
   ],
   "id": "708ea4e874d46d01"
  },
  {
   "metadata": {
    "ExecuteTime": {
     "end_time": "2024-12-21T08:32:33.310166Z",
     "start_time": "2024-12-21T08:32:33.305425Z"
    }
   },
   "cell_type": "code",
   "source": [
    "# выводит список колонок датафрейма\n",
    "df_copy.columns"
   ],
   "id": "8237c86585c812d",
   "outputs": [
    {
     "data": {
      "text/plain": [
       "Index(['Unnamed: 0', 'id', 'bdate', 'city', 'country', 'last_seen',\n",
       "       'followers_count', 'common_count', 'sex', 'is_closed', 'home_town',\n",
       "       'relation', 'costs', 'games'],\n",
       "      dtype='object')"
      ]
     },
     "execution_count": 27,
     "metadata": {},
     "output_type": "execute_result"
    }
   ],
   "execution_count": 27
  },
  {
   "metadata": {
    "ExecuteTime": {
     "end_time": "2024-12-21T15:21:01.609670Z",
     "start_time": "2024-12-21T15:21:01.606168Z"
    }
   },
   "cell_type": "code",
   "source": "drop_columns = ['Unnamed: 0', 'common_count', 'is_closed', 'home_town', 'relation']",
   "id": "c89ed14b09e0264a",
   "outputs": [],
   "execution_count": 29
  },
  {
   "metadata": {
    "ExecuteTime": {
     "end_time": "2024-12-21T15:21:03.182005Z",
     "start_time": "2024-12-21T15:21:03.153752Z"
    }
   },
   "cell_type": "code",
   "source": [
    "# параметр inplace=True позволяет автоматически перезаписать текущий датафрейм\n",
    "# без использования конструкции: df_copy = df_copy.drop(columns=columns)\n",
    "df_copy.drop(columns=drop_columns, inplace=True)\n",
    "# также с помощью drop() можно удалять и сами наблюдения (см. тех. документацию)"
   ],
   "id": "9952f99db3001cd0",
   "outputs": [],
   "execution_count": 30
  },
  {
   "metadata": {
    "ExecuteTime": {
     "end_time": "2024-12-21T15:21:04.500755Z",
     "start_time": "2024-12-21T15:21:04.489426Z"
    }
   },
   "cell_type": "code",
   "source": [
    "# проверка списка колонок датафрейма\n",
    "df_copy.columns"
   ],
   "id": "2b9e8977e256337a",
   "outputs": [
    {
     "data": {
      "text/plain": [
       "Index(['id', 'bdate', 'city', 'country', 'last_seen', 'followers_count', 'sex',\n",
       "       'costs', 'games'],\n",
       "      dtype='object')"
      ]
     },
     "execution_count": 31,
     "metadata": {},
     "output_type": "execute_result"
    }
   ],
   "execution_count": 31
  },
  {
   "metadata": {},
   "cell_type": "markdown",
   "source": "## Проверка и исключение дубликатов",
   "id": "60139f9b37564089"
  },
  {
   "metadata": {},
   "cell_type": "markdown",
   "source": "### Проверка на дубликаты",
   "id": "d840ab8a0a048dd4"
  },
  {
   "metadata": {
    "ExecuteTime": {
     "end_time": "2024-12-21T15:22:39.168485Z",
     "start_time": "2024-12-21T15:22:39.135951Z"
    }
   },
   "cell_type": "code",
   "source": [
    "# проверка на дубликаты: выдает объект Series с булевыми значениями True/False\n",
    "df_copy.duplicated()"
   ],
   "id": "ada915438fc188d2",
   "outputs": [
    {
     "data": {
      "text/plain": [
       "0       False\n",
       "1       False\n",
       "2       False\n",
       "3       False\n",
       "4       False\n",
       "        ...  \n",
       "3520    False\n",
       "3521    False\n",
       "3522    False\n",
       "3523    False\n",
       "3524    False\n",
       "Length: 3525, dtype: bool"
      ]
     },
     "execution_count": 32,
     "metadata": {},
     "output_type": "execute_result"
    }
   ],
   "execution_count": 32
  },
  {
   "metadata": {
    "ExecuteTime": {
     "end_time": "2024-12-21T15:23:29.679910Z",
     "start_time": "2024-12-21T15:23:29.672429Z"
    }
   },
   "cell_type": "code",
   "source": [
    "# нас интересует количество дубликатов\n",
    "# т.к. True = 1, False = 0, то необходимо сложить все значения по данному объекту Series\n",
    "df_copy.duplicated().sum()"
   ],
   "id": "1319e39e56a8b802",
   "outputs": [
    {
     "data": {
      "text/plain": [
       "np.int64(158)"
      ]
     },
     "execution_count": 34,
     "metadata": {},
     "output_type": "execute_result"
    }
   ],
   "execution_count": 34
  },
  {
   "metadata": {
    "ExecuteTime": {
     "end_time": "2024-12-21T15:23:45.239506Z",
     "start_time": "2024-12-21T15:23:45.233885Z"
    }
   },
   "cell_type": "code",
   "source": [
    "# проверка дубликатов по столбцу id\n",
    "df_copy.duplicated(subset='id').sum()"
   ],
   "id": "f288e45b7b63e459",
   "outputs": [
    {
     "data": {
      "text/plain": [
       "np.int64(158)"
      ]
     },
     "execution_count": 35,
     "metadata": {},
     "output_type": "execute_result"
    }
   ],
   "execution_count": 35
  },
  {
   "metadata": {
    "ExecuteTime": {
     "end_time": "2024-12-21T15:24:46.639960Z",
     "start_time": "2024-12-21T15:24:46.632955Z"
    }
   },
   "cell_type": "code",
   "source": [
    "# проверка дубликатов по нескольким столбцам\n",
    "# (например, сколько однополых людей, родившихся в одинаковые дни)\n",
    "# параметр keep=False присваивает значения True всем найденным дубликатам\n",
    "# (по умолчанию keep='first', т.е. присваивает значение False первому из совпадений)\n",
    "df_copy.duplicated(subset=['bdate', 'sex'], keep=False).sum()"
   ],
   "id": "2a002888a61bccb4",
   "outputs": [
    {
     "data": {
      "text/plain": [
       "np.int64(1760)"
      ]
     },
     "execution_count": 36,
     "metadata": {},
     "output_type": "execute_result"
    }
   ],
   "execution_count": 36
  },
  {
   "metadata": {},
   "cell_type": "markdown",
   "source": "### Исключение дубликатов",
   "id": "cf230f44d14ae08e"
  },
  {
   "metadata": {
    "ExecuteTime": {
     "end_time": "2024-12-21T15:45:48.274479Z",
     "start_time": "2024-12-21T15:45:48.258811Z"
    }
   },
   "cell_type": "code",
   "source": [
    "# исключение дубликатов по всем признакам датафрейма\n",
    "df_copy.drop_duplicates(inplace=True)"
   ],
   "id": "27a83ef5025c12fe",
   "outputs": [],
   "execution_count": 38
  },
  {
   "metadata": {},
   "cell_type": "code",
   "outputs": [],
   "execution_count": null,
   "source": [
    "# исключение дубликатов по столбцу\n",
    "# (в нашем случае операция аналогична предыдущей)\n",
    "# df_copy.drop_duplicates(subset='id', inplace=True)"
   ],
   "id": "ea242d04df2c6244"
  },
  {
   "metadata": {},
   "cell_type": "code",
   "outputs": [],
   "execution_count": null,
   "source": [
    "# исключение дубликатов по нескольким столбцам\n",
    "# (в нашем случае нет необходимости)\n",
    "# параметр keep=False удаляет все найденные дубликаты\n",
    "# (по умолчанию keep='first', т.е. удаляет все дубликаты, кроме первого)\n",
    "# df_copy.drop_duplicates(subset=['bdate', 'sex'], keep=False, inplace=True)"
   ],
   "id": "a0c78ab4687bf1a2"
  },
  {
   "metadata": {
    "ExecuteTime": {
     "end_time": "2024-12-21T15:45:50.653929Z",
     "start_time": "2024-12-21T15:45:50.649421Z"
    }
   },
   "cell_type": "code",
   "source": "df_copy.shape",
   "id": "e8e428a9353ced01",
   "outputs": [
    {
     "data": {
      "text/plain": [
       "(3367, 9)"
      ]
     },
     "execution_count": 39,
     "metadata": {},
     "output_type": "execute_result"
    }
   ],
   "execution_count": 39
  },
  {
   "metadata": {},
   "cell_type": "markdown",
   "source": "# **Проверка данных на пропуски, их обработка или исключение**",
   "id": "8c79dc19994e634b"
  },
  {
   "metadata": {},
   "cell_type": "markdown",
   "source": [
    "**NaN** и **None**:\n",
    "* **NaN** отвечает за отсутствующее в ячейке число. Его тип данных float, поэтому с NaN можно проводить математические операции.\n",
    "* **None**\n",
    "принадлежит к нечисловому типу NoneType, и математические операции\n",
    "с ним неосуществимы.\n",
    "\n",
    "Строки с этими значениями **не\n",
    "всегда стоит удалять**, иногда их наличие несет ценность для анализа, в некоторых случаях пропуски можно восстановить."
   ],
   "id": "321e813f16cb8f8d"
  },
  {
   "metadata": {},
   "cell_type": "markdown",
   "source": "## Проверка на пропущенные значения",
   "id": "7285a5a2c8da1145"
  },
  {
   "metadata": {
    "ExecuteTime": {
     "end_time": "2024-12-21T18:31:34.656480Z",
     "start_time": "2024-12-21T18:31:34.594999Z"
    }
   },
   "cell_type": "code",
   "source": [
    "# проверка на пропущенные значения: выдает объект DataFrame с булевыми значениями True/False\n",
    "df_copy.isna()"
   ],
   "id": "1b55de27a3286905",
   "outputs": [
    {
     "data": {
      "text/plain": [
       "         id  bdate   city  country  last_seen  followers_count    sex  costs  \\\n",
       "0     False  False  False    False      False            False  False  False   \n",
       "1     False  False   True    False      False            False  False  False   \n",
       "2     False  False  False    False      False             True  False  False   \n",
       "3     False  False  False    False      False             True  False  False   \n",
       "4     False  False   True    False      False            False  False  False   \n",
       "...     ...    ...    ...      ...        ...              ...    ...    ...   \n",
       "3520  False  False   True    False      False             True  False  False   \n",
       "3521  False  False  False    False       True            False  False  False   \n",
       "3522  False  False  False    False      False            False  False  False   \n",
       "3523  False  False  False    False      False            False  False  False   \n",
       "3524  False  False  False    False       True            False  False  False   \n",
       "\n",
       "      games  \n",
       "0     False  \n",
       "1     False  \n",
       "2     False  \n",
       "3     False  \n",
       "4     False  \n",
       "...     ...  \n",
       "3520  False  \n",
       "3521  False  \n",
       "3522  False  \n",
       "3523  False  \n",
       "3524  False  \n",
       "\n",
       "[3367 rows x 9 columns]"
      ],
      "text/html": [
       "<div>\n",
       "<style scoped>\n",
       "    .dataframe tbody tr th:only-of-type {\n",
       "        vertical-align: middle;\n",
       "    }\n",
       "\n",
       "    .dataframe tbody tr th {\n",
       "        vertical-align: top;\n",
       "    }\n",
       "\n",
       "    .dataframe thead th {\n",
       "        text-align: right;\n",
       "    }\n",
       "</style>\n",
       "<table border=\"1\" class=\"dataframe\">\n",
       "  <thead>\n",
       "    <tr style=\"text-align: right;\">\n",
       "      <th></th>\n",
       "      <th>id</th>\n",
       "      <th>bdate</th>\n",
       "      <th>city</th>\n",
       "      <th>country</th>\n",
       "      <th>last_seen</th>\n",
       "      <th>followers_count</th>\n",
       "      <th>sex</th>\n",
       "      <th>costs</th>\n",
       "      <th>games</th>\n",
       "    </tr>\n",
       "  </thead>\n",
       "  <tbody>\n",
       "    <tr>\n",
       "      <th>0</th>\n",
       "      <td>False</td>\n",
       "      <td>False</td>\n",
       "      <td>False</td>\n",
       "      <td>False</td>\n",
       "      <td>False</td>\n",
       "      <td>False</td>\n",
       "      <td>False</td>\n",
       "      <td>False</td>\n",
       "      <td>False</td>\n",
       "    </tr>\n",
       "    <tr>\n",
       "      <th>1</th>\n",
       "      <td>False</td>\n",
       "      <td>False</td>\n",
       "      <td>True</td>\n",
       "      <td>False</td>\n",
       "      <td>False</td>\n",
       "      <td>False</td>\n",
       "      <td>False</td>\n",
       "      <td>False</td>\n",
       "      <td>False</td>\n",
       "    </tr>\n",
       "    <tr>\n",
       "      <th>2</th>\n",
       "      <td>False</td>\n",
       "      <td>False</td>\n",
       "      <td>False</td>\n",
       "      <td>False</td>\n",
       "      <td>False</td>\n",
       "      <td>True</td>\n",
       "      <td>False</td>\n",
       "      <td>False</td>\n",
       "      <td>False</td>\n",
       "    </tr>\n",
       "    <tr>\n",
       "      <th>3</th>\n",
       "      <td>False</td>\n",
       "      <td>False</td>\n",
       "      <td>False</td>\n",
       "      <td>False</td>\n",
       "      <td>False</td>\n",
       "      <td>True</td>\n",
       "      <td>False</td>\n",
       "      <td>False</td>\n",
       "      <td>False</td>\n",
       "    </tr>\n",
       "    <tr>\n",
       "      <th>4</th>\n",
       "      <td>False</td>\n",
       "      <td>False</td>\n",
       "      <td>True</td>\n",
       "      <td>False</td>\n",
       "      <td>False</td>\n",
       "      <td>False</td>\n",
       "      <td>False</td>\n",
       "      <td>False</td>\n",
       "      <td>False</td>\n",
       "    </tr>\n",
       "    <tr>\n",
       "      <th>...</th>\n",
       "      <td>...</td>\n",
       "      <td>...</td>\n",
       "      <td>...</td>\n",
       "      <td>...</td>\n",
       "      <td>...</td>\n",
       "      <td>...</td>\n",
       "      <td>...</td>\n",
       "      <td>...</td>\n",
       "      <td>...</td>\n",
       "    </tr>\n",
       "    <tr>\n",
       "      <th>3520</th>\n",
       "      <td>False</td>\n",
       "      <td>False</td>\n",
       "      <td>True</td>\n",
       "      <td>False</td>\n",
       "      <td>False</td>\n",
       "      <td>True</td>\n",
       "      <td>False</td>\n",
       "      <td>False</td>\n",
       "      <td>False</td>\n",
       "    </tr>\n",
       "    <tr>\n",
       "      <th>3521</th>\n",
       "      <td>False</td>\n",
       "      <td>False</td>\n",
       "      <td>False</td>\n",
       "      <td>False</td>\n",
       "      <td>True</td>\n",
       "      <td>False</td>\n",
       "      <td>False</td>\n",
       "      <td>False</td>\n",
       "      <td>False</td>\n",
       "    </tr>\n",
       "    <tr>\n",
       "      <th>3522</th>\n",
       "      <td>False</td>\n",
       "      <td>False</td>\n",
       "      <td>False</td>\n",
       "      <td>False</td>\n",
       "      <td>False</td>\n",
       "      <td>False</td>\n",
       "      <td>False</td>\n",
       "      <td>False</td>\n",
       "      <td>False</td>\n",
       "    </tr>\n",
       "    <tr>\n",
       "      <th>3523</th>\n",
       "      <td>False</td>\n",
       "      <td>False</td>\n",
       "      <td>False</td>\n",
       "      <td>False</td>\n",
       "      <td>False</td>\n",
       "      <td>False</td>\n",
       "      <td>False</td>\n",
       "      <td>False</td>\n",
       "      <td>False</td>\n",
       "    </tr>\n",
       "    <tr>\n",
       "      <th>3524</th>\n",
       "      <td>False</td>\n",
       "      <td>False</td>\n",
       "      <td>False</td>\n",
       "      <td>False</td>\n",
       "      <td>True</td>\n",
       "      <td>False</td>\n",
       "      <td>False</td>\n",
       "      <td>False</td>\n",
       "      <td>False</td>\n",
       "    </tr>\n",
       "  </tbody>\n",
       "</table>\n",
       "<p>3367 rows × 9 columns</p>\n",
       "</div>"
      ]
     },
     "execution_count": 40,
     "metadata": {},
     "output_type": "execute_result"
    }
   ],
   "execution_count": 40
  },
  {
   "metadata": {
    "ExecuteTime": {
     "end_time": "2024-12-21T19:16:23.035837Z",
     "start_time": "2024-12-21T19:16:22.951777Z"
    }
   },
   "cell_type": "code",
   "source": [
    "# нас интересует, в первую очередь, количество пропущенных значений\n",
    "# т.к. True = 1, False = 0, то необходимо сложить все значения по столбцам данного объекта DataFrame\n",
    "df_copy.isna().sum()"
   ],
   "id": "fe54ae1112771901",
   "outputs": [
    {
     "data": {
      "text/plain": [
       "id                    0\n",
       "bdate                 0\n",
       "city               1534\n",
       "country               0\n",
       "last_seen            26\n",
       "followers_count     836\n",
       "sex                   0\n",
       "costs                29\n",
       "games                29\n",
       "dtype: int64"
      ]
     },
     "execution_count": 41,
     "metadata": {},
     "output_type": "execute_result"
    }
   ],
   "execution_count": 41
  },
  {
   "metadata": {
    "ExecuteTime": {
     "end_time": "2024-12-21T19:17:33.208339Z",
     "start_time": "2024-12-21T19:17:33.196712Z"
    }
   },
   "cell_type": "code",
   "source": [
    "# isnull() - альтернативный метод проверки на пустые значения\n",
    "# можно оценить количество пропущенных значений в процентах, применив обычную арифметику\n",
    "df_copy.isnull().mean()*100"
   ],
   "id": "ab39fd68e086931e",
   "outputs": [
    {
     "data": {
      "text/plain": [
       "id                  0.000000\n",
       "bdate               0.000000\n",
       "city               45.559846\n",
       "country             0.000000\n",
       "last_seen           0.772201\n",
       "followers_count    24.829225\n",
       "sex                 0.000000\n",
       "costs               0.861301\n",
       "games               0.861301\n",
       "dtype: float64"
      ]
     },
     "execution_count": 42,
     "metadata": {},
     "output_type": "execute_result"
    }
   ],
   "execution_count": 42
  },
  {
   "metadata": {
    "ExecuteTime": {
     "end_time": "2024-12-21T19:18:16.476820Z",
     "start_time": "2024-12-21T19:18:16.469811Z"
    }
   },
   "cell_type": "code",
   "source": [
    "# обратные методы: notna() и notnull() - количество заполненных значений\n",
    "df_copy.notna().sum()"
   ],
   "id": "32fd0d0852eeefc0",
   "outputs": [
    {
     "data": {
      "text/plain": [
       "id                 3367\n",
       "bdate              3367\n",
       "city               1833\n",
       "country            3367\n",
       "last_seen          3341\n",
       "followers_count    2531\n",
       "sex                3367\n",
       "costs              3338\n",
       "games              3338\n",
       "dtype: int64"
      ]
     },
     "execution_count": 44,
     "metadata": {},
     "output_type": "execute_result"
    }
   ],
   "execution_count": 44
  },
  {
   "metadata": {},
   "cell_type": "markdown",
   "source": [
    "**Обзор пропущенных значений** по признакам:\n",
    "1. 'city' - пользователи указывают город по желанию (по кейсу нет необходимости в исключении пропущенных значений; восстановить пропуски нет возможности)\n",
    "2. 'last_seen' - должно быть указано значение последнего входа в магазин (скорее всего, ошибка в базе данных, либо при выгрузке данных в файл; по кейсу не указана необходимость в исключении пропущенных значений)\n",
    "3. 'followers_count' - по пользователям с закрытым аккаунтом информация не предоставляется (по кейсу нет необходимости в исключении пропущенных значений; восстановить пропуски нет возможности)\n",
    "4. 'costs' - затраты в магазине (по кейсу требование - исключить пропущенные значения; восстановить пропуски нет возможности)\n",
    "5. 'games' - списки игр, которыми интересуются пользователи (по кейсу требование - исключить пропущенные значения; восстановить пропуски нет возможности)"
   ],
   "id": "c842f56362bd3d7c"
  },
  {
   "metadata": {},
   "cell_type": "markdown",
   "source": "## Исключение пропусков",
   "id": "688d56ef1c489737"
  },
  {
   "metadata": {
    "ExecuteTime": {
     "end_time": "2024-12-21T19:19:25.529221Z",
     "start_time": "2024-12-21T19:19:25.509760Z"
    }
   },
   "cell_type": "code",
   "source": [
    "# необходимо исключить наблюдения с пропусками по признакам 'costs' и 'games'\n",
    "df_copy.dropna(subset=['costs', 'games'], inplace=True)"
   ],
   "id": "187e2be47addc45e",
   "outputs": [],
   "execution_count": 45
  },
  {
   "metadata": {},
   "cell_type": "code",
   "outputs": [],
   "execution_count": null,
   "source": [
    "# применение метода dropna() без указания значений параметра subset\n",
    "# df_copy.dropna(inplace=True)\n",
    "# приведет к удалению всех наблюдений датасета, где есть хотя бы одно пустое значение"
   ],
   "id": "3bd377c677a3c031"
  },
  {
   "metadata": {
    "ExecuteTime": {
     "end_time": "2024-12-21T19:19:29.317019Z",
     "start_time": "2024-12-21T19:19:29.311598Z"
    }
   },
   "cell_type": "code",
   "source": [
    "# контроль размеров датафрейма\n",
    "df_copy.shape"
   ],
   "id": "669dcbe67ed7db36",
   "outputs": [
    {
     "data": {
      "text/plain": [
       "(3338, 9)"
      ]
     },
     "execution_count": 46,
     "metadata": {},
     "output_type": "execute_result"
    }
   ],
   "execution_count": 46
  },
  {
   "metadata": {
    "ExecuteTime": {
     "end_time": "2024-12-21T19:21:00.462239Z",
     "start_time": "2024-12-21T19:21:00.455472Z"
    }
   },
   "cell_type": "code",
   "source": [
    "# контроль пропусков\n",
    "df_copy.isna().sum()"
   ],
   "id": "1dc73486c32f5b45",
   "outputs": [
    {
     "data": {
      "text/plain": [
       "id                    0\n",
       "bdate                 0\n",
       "city               1529\n",
       "country               0\n",
       "last_seen            26\n",
       "followers_count     828\n",
       "sex                   0\n",
       "costs                 0\n",
       "games                 0\n",
       "dtype: int64"
      ]
     },
     "execution_count": 47,
     "metadata": {},
     "output_type": "execute_result"
    }
   ],
   "execution_count": 47
  },
  {
   "metadata": {
    "ExecuteTime": {
     "end_time": "2024-12-21T19:21:02.577773Z",
     "start_time": "2024-12-21T19:21:02.544683Z"
    }
   },
   "cell_type": "code",
   "source": "df_copy.info()",
   "id": "e6fbf95d27ad4eac",
   "outputs": [
    {
     "name": "stdout",
     "output_type": "stream",
     "text": [
      "<class 'pandas.core.frame.DataFrame'>\n",
      "Index: 3338 entries, 0 to 3524\n",
      "Data columns (total 9 columns):\n",
      " #   Column           Non-Null Count  Dtype  \n",
      "---  ------           --------------  -----  \n",
      " 0   id               3338 non-null   int64  \n",
      " 1   bdate            3338 non-null   object \n",
      " 2   city             1809 non-null   object \n",
      " 3   country          3338 non-null   object \n",
      " 4   last_seen        3312 non-null   object \n",
      " 5   followers_count  2510 non-null   float64\n",
      " 6   sex              3338 non-null   int64  \n",
      " 7   costs            3338 non-null   object \n",
      " 8   games            3338 non-null   object \n",
      "dtypes: float64(1), int64(2), object(6)\n",
      "memory usage: 260.8+ KB\n"
     ]
    }
   ],
   "execution_count": 48
  },
  {
   "metadata": {
    "ExecuteTime": {
     "end_time": "2024-12-21T19:21:28.421648Z",
     "start_time": "2024-12-21T19:21:28.417858Z"
    }
   },
   "cell_type": "code",
   "source": [
    "# количество данных изменилось, однако значения индексов остались в диапазоне от 0 до 3520\n",
    "# следует перезаписать индексы по порядку (в нашем случае нет необходимости сохранять исходные индексы),\n",
    "# передав параметр drop=True для автоматического удаления исходного индексного столбца\n",
    "df_copy.reset_index(drop=True, inplace=True)"
   ],
   "id": "1e054dd95a7f7bad",
   "outputs": [],
   "execution_count": 49
  },
  {
   "metadata": {
    "ExecuteTime": {
     "end_time": "2024-12-21T19:21:30.378380Z",
     "start_time": "2024-12-21T19:21:30.372916Z"
    }
   },
   "cell_type": "code",
   "source": [
    "# проверка диапазона индексов\n",
    "df_copy.index"
   ],
   "id": "e6a715a5d7565089",
   "outputs": [
    {
     "data": {
      "text/plain": [
       "RangeIndex(start=0, stop=3338, step=1)"
      ]
     },
     "execution_count": 50,
     "metadata": {},
     "output_type": "execute_result"
    }
   ],
   "execution_count": 50
  },
  {
   "metadata": {},
   "cell_type": "markdown",
   "source": "## Обработка пропусков",
   "id": "9637a88370778dcd"
  },
  {
   "metadata": {},
   "cell_type": "code",
   "outputs": [],
   "execution_count": null,
   "source": [
    "# метод для заполнения пропусков - fillna()\n",
    "# (в нашем случае нет необходимости)\n",
    "# df_copy['city'].fillna('Moscow', inplace=True)\n",
    "# df_copy['followers_count'].fillna(0, inplace=True)"
   ],
   "id": "cbf7789cb11911e1"
  },
  {
   "metadata": {},
   "cell_type": "markdown",
   "source": "# **Работа с JSON и вложенными структурами данных**",
   "id": "23c126ddcfed5c27"
  },
  {
   "metadata": {
    "ExecuteTime": {
     "end_time": "2024-12-22T06:22:40.026618Z",
     "start_time": "2024-12-22T06:22:40.010574Z"
    }
   },
   "cell_type": "code",
   "source": "df_copy.head(3)",
   "id": "210999f40c4d68bd",
   "outputs": [
    {
     "data": {
      "text/plain": [
       "    id     bdate                                    city  \\\n",
       "0   19  1.1.2005  {'id': 2, 'title': 'Saint-Petersburg'}   \n",
       "1  510  1.1.1985                                     NaN   \n",
       "2  674  1.1.1979      {'id': 99, 'title': 'Новосибирск'}   \n",
       "\n",
       "                        country                            last_seen  \\\n",
       "0  {'id': 1, 'title': 'Россия'}  {'platform': 2, 'time': 1662237362}   \n",
       "1  {'id': 1, 'title': 'Россия'}  {'platform': 7, 'time': 1661321803}   \n",
       "2  {'id': 1, 'title': 'Россия'}  {'platform': 7, 'time': 1662202619}   \n",
       "\n",
       "   followers_count  sex                                costs  \\\n",
       "0          39326.0    1  {'costs': 25000, 'currency': 'RUR'}   \n",
       "1          19698.0    2  {'costs': 50000, 'currency': 'RUR'}   \n",
       "2              NaN    2  {'costs': 75000, 'currency': 'RUR'}   \n",
       "\n",
       "                                               games  \n",
       "0  [{'name': 'Dota 2'}, {'name': 'CS:GO'}, {'name...  \n",
       "1  [{'name': 'League of Legends'}, {'name': 'Valo...  \n",
       "2                             [{'name': 'Fortnite'}]  "
      ],
      "text/html": [
       "<div>\n",
       "<style scoped>\n",
       "    .dataframe tbody tr th:only-of-type {\n",
       "        vertical-align: middle;\n",
       "    }\n",
       "\n",
       "    .dataframe tbody tr th {\n",
       "        vertical-align: top;\n",
       "    }\n",
       "\n",
       "    .dataframe thead th {\n",
       "        text-align: right;\n",
       "    }\n",
       "</style>\n",
       "<table border=\"1\" class=\"dataframe\">\n",
       "  <thead>\n",
       "    <tr style=\"text-align: right;\">\n",
       "      <th></th>\n",
       "      <th>id</th>\n",
       "      <th>bdate</th>\n",
       "      <th>city</th>\n",
       "      <th>country</th>\n",
       "      <th>last_seen</th>\n",
       "      <th>followers_count</th>\n",
       "      <th>sex</th>\n",
       "      <th>costs</th>\n",
       "      <th>games</th>\n",
       "    </tr>\n",
       "  </thead>\n",
       "  <tbody>\n",
       "    <tr>\n",
       "      <th>0</th>\n",
       "      <td>19</td>\n",
       "      <td>1.1.2005</td>\n",
       "      <td>{'id': 2, 'title': 'Saint-Petersburg'}</td>\n",
       "      <td>{'id': 1, 'title': 'Россия'}</td>\n",
       "      <td>{'platform': 2, 'time': 1662237362}</td>\n",
       "      <td>39326.0</td>\n",
       "      <td>1</td>\n",
       "      <td>{'costs': 25000, 'currency': 'RUR'}</td>\n",
       "      <td>[{'name': 'Dota 2'}, {'name': 'CS:GO'}, {'name...</td>\n",
       "    </tr>\n",
       "    <tr>\n",
       "      <th>1</th>\n",
       "      <td>510</td>\n",
       "      <td>1.1.1985</td>\n",
       "      <td>NaN</td>\n",
       "      <td>{'id': 1, 'title': 'Россия'}</td>\n",
       "      <td>{'platform': 7, 'time': 1661321803}</td>\n",
       "      <td>19698.0</td>\n",
       "      <td>2</td>\n",
       "      <td>{'costs': 50000, 'currency': 'RUR'}</td>\n",
       "      <td>[{'name': 'League of Legends'}, {'name': 'Valo...</td>\n",
       "    </tr>\n",
       "    <tr>\n",
       "      <th>2</th>\n",
       "      <td>674</td>\n",
       "      <td>1.1.1979</td>\n",
       "      <td>{'id': 99, 'title': 'Новосибирск'}</td>\n",
       "      <td>{'id': 1, 'title': 'Россия'}</td>\n",
       "      <td>{'platform': 7, 'time': 1662202619}</td>\n",
       "      <td>NaN</td>\n",
       "      <td>2</td>\n",
       "      <td>{'costs': 75000, 'currency': 'RUR'}</td>\n",
       "      <td>[{'name': 'Fortnite'}]</td>\n",
       "    </tr>\n",
       "  </tbody>\n",
       "</table>\n",
       "</div>"
      ]
     },
     "execution_count": 51,
     "metadata": {},
     "output_type": "execute_result"
    }
   ],
   "execution_count": 51
  },
  {
   "metadata": {},
   "cell_type": "markdown",
   "source": "'city', 'country', 'last_seen', 'costs', 'games'",
   "id": "4518b2b4a56aa47d"
  },
  {
   "metadata": {
    "ExecuteTime": {
     "end_time": "2024-12-22T06:25:23.652992Z",
     "start_time": "2024-12-22T06:25:23.648192Z"
    }
   },
   "cell_type": "code",
   "source": "df_copy['city'][0]",
   "id": "bab30e97fbbf5155",
   "outputs": [
    {
     "data": {
      "text/plain": [
       "\"{'id': 2, 'title': 'Saint-Petersburg'}\""
      ]
     },
     "execution_count": 52,
     "metadata": {},
     "output_type": "execute_result"
    }
   ],
   "execution_count": 52
  },
  {
   "metadata": {
    "ExecuteTime": {
     "end_time": "2024-12-22T06:25:46.745096Z",
     "start_time": "2024-12-22T06:25:46.690169Z"
    }
   },
   "cell_type": "code",
   "source": [
    "# пробуем достать значение с помощью модуля json\n",
    "json.loads(df_copy['city'][0])"
   ],
   "id": "a185af82ffba2544",
   "outputs": [
    {
     "ename": "JSONDecodeError",
     "evalue": "Expecting property name enclosed in double quotes: line 1 column 2 (char 1)",
     "output_type": "error",
     "traceback": [
      "\u001B[0;31m---------------------------------------------------------------------------\u001B[0m",
      "\u001B[0;31mJSONDecodeError\u001B[0m                           Traceback (most recent call last)",
      "Cell \u001B[0;32mIn[53], line 2\u001B[0m\n\u001B[1;32m      1\u001B[0m \u001B[38;5;66;03m# пробуем достать значение с помощью модуля json\u001B[39;00m\n\u001B[0;32m----> 2\u001B[0m \u001B[43mjson\u001B[49m\u001B[38;5;241;43m.\u001B[39;49m\u001B[43mloads\u001B[49m\u001B[43m(\u001B[49m\u001B[43mdf_copy\u001B[49m\u001B[43m[\u001B[49m\u001B[38;5;124;43m'\u001B[39;49m\u001B[38;5;124;43mcity\u001B[39;49m\u001B[38;5;124;43m'\u001B[39;49m\u001B[43m]\u001B[49m\u001B[43m[\u001B[49m\u001B[38;5;241;43m0\u001B[39;49m\u001B[43m]\u001B[49m\u001B[43m)\u001B[49m\n",
      "File \u001B[0;32m/usr/lib/python3.12/json/__init__.py:346\u001B[0m, in \u001B[0;36mloads\u001B[0;34m(s, cls, object_hook, parse_float, parse_int, parse_constant, object_pairs_hook, **kw)\u001B[0m\n\u001B[1;32m    341\u001B[0m     s \u001B[38;5;241m=\u001B[39m s\u001B[38;5;241m.\u001B[39mdecode(detect_encoding(s), \u001B[38;5;124m'\u001B[39m\u001B[38;5;124msurrogatepass\u001B[39m\u001B[38;5;124m'\u001B[39m)\n\u001B[1;32m    343\u001B[0m \u001B[38;5;28;01mif\u001B[39;00m (\u001B[38;5;28mcls\u001B[39m \u001B[38;5;129;01mis\u001B[39;00m \u001B[38;5;28;01mNone\u001B[39;00m \u001B[38;5;129;01mand\u001B[39;00m object_hook \u001B[38;5;129;01mis\u001B[39;00m \u001B[38;5;28;01mNone\u001B[39;00m \u001B[38;5;129;01mand\u001B[39;00m\n\u001B[1;32m    344\u001B[0m         parse_int \u001B[38;5;129;01mis\u001B[39;00m \u001B[38;5;28;01mNone\u001B[39;00m \u001B[38;5;129;01mand\u001B[39;00m parse_float \u001B[38;5;129;01mis\u001B[39;00m \u001B[38;5;28;01mNone\u001B[39;00m \u001B[38;5;129;01mand\u001B[39;00m\n\u001B[1;32m    345\u001B[0m         parse_constant \u001B[38;5;129;01mis\u001B[39;00m \u001B[38;5;28;01mNone\u001B[39;00m \u001B[38;5;129;01mand\u001B[39;00m object_pairs_hook \u001B[38;5;129;01mis\u001B[39;00m \u001B[38;5;28;01mNone\u001B[39;00m \u001B[38;5;129;01mand\u001B[39;00m \u001B[38;5;129;01mnot\u001B[39;00m kw):\n\u001B[0;32m--> 346\u001B[0m     \u001B[38;5;28;01mreturn\u001B[39;00m \u001B[43m_default_decoder\u001B[49m\u001B[38;5;241;43m.\u001B[39;49m\u001B[43mdecode\u001B[49m\u001B[43m(\u001B[49m\u001B[43ms\u001B[49m\u001B[43m)\u001B[49m\n\u001B[1;32m    347\u001B[0m \u001B[38;5;28;01mif\u001B[39;00m \u001B[38;5;28mcls\u001B[39m \u001B[38;5;129;01mis\u001B[39;00m \u001B[38;5;28;01mNone\u001B[39;00m:\n\u001B[1;32m    348\u001B[0m     \u001B[38;5;28mcls\u001B[39m \u001B[38;5;241m=\u001B[39m JSONDecoder\n",
      "File \u001B[0;32m/usr/lib/python3.12/json/decoder.py:337\u001B[0m, in \u001B[0;36mJSONDecoder.decode\u001B[0;34m(self, s, _w)\u001B[0m\n\u001B[1;32m    332\u001B[0m \u001B[38;5;28;01mdef\u001B[39;00m \u001B[38;5;21mdecode\u001B[39m(\u001B[38;5;28mself\u001B[39m, s, _w\u001B[38;5;241m=\u001B[39mWHITESPACE\u001B[38;5;241m.\u001B[39mmatch):\n\u001B[1;32m    333\u001B[0m \u001B[38;5;250m    \u001B[39m\u001B[38;5;124;03m\"\"\"Return the Python representation of ``s`` (a ``str`` instance\u001B[39;00m\n\u001B[1;32m    334\u001B[0m \u001B[38;5;124;03m    containing a JSON document).\u001B[39;00m\n\u001B[1;32m    335\u001B[0m \n\u001B[1;32m    336\u001B[0m \u001B[38;5;124;03m    \"\"\"\u001B[39;00m\n\u001B[0;32m--> 337\u001B[0m     obj, end \u001B[38;5;241m=\u001B[39m \u001B[38;5;28;43mself\u001B[39;49m\u001B[38;5;241;43m.\u001B[39;49m\u001B[43mraw_decode\u001B[49m\u001B[43m(\u001B[49m\u001B[43ms\u001B[49m\u001B[43m,\u001B[49m\u001B[43m \u001B[49m\u001B[43midx\u001B[49m\u001B[38;5;241;43m=\u001B[39;49m\u001B[43m_w\u001B[49m\u001B[43m(\u001B[49m\u001B[43ms\u001B[49m\u001B[43m,\u001B[49m\u001B[43m \u001B[49m\u001B[38;5;241;43m0\u001B[39;49m\u001B[43m)\u001B[49m\u001B[38;5;241;43m.\u001B[39;49m\u001B[43mend\u001B[49m\u001B[43m(\u001B[49m\u001B[43m)\u001B[49m\u001B[43m)\u001B[49m\n\u001B[1;32m    338\u001B[0m     end \u001B[38;5;241m=\u001B[39m _w(s, end)\u001B[38;5;241m.\u001B[39mend()\n\u001B[1;32m    339\u001B[0m     \u001B[38;5;28;01mif\u001B[39;00m end \u001B[38;5;241m!=\u001B[39m \u001B[38;5;28mlen\u001B[39m(s):\n",
      "File \u001B[0;32m/usr/lib/python3.12/json/decoder.py:353\u001B[0m, in \u001B[0;36mJSONDecoder.raw_decode\u001B[0;34m(self, s, idx)\u001B[0m\n\u001B[1;32m    344\u001B[0m \u001B[38;5;250m\u001B[39m\u001B[38;5;124;03m\"\"\"Decode a JSON document from ``s`` (a ``str`` beginning with\u001B[39;00m\n\u001B[1;32m    345\u001B[0m \u001B[38;5;124;03ma JSON document) and return a 2-tuple of the Python\u001B[39;00m\n\u001B[1;32m    346\u001B[0m \u001B[38;5;124;03mrepresentation and the index in ``s`` where the document ended.\u001B[39;00m\n\u001B[0;32m   (...)\u001B[0m\n\u001B[1;32m    350\u001B[0m \n\u001B[1;32m    351\u001B[0m \u001B[38;5;124;03m\"\"\"\u001B[39;00m\n\u001B[1;32m    352\u001B[0m \u001B[38;5;28;01mtry\u001B[39;00m:\n\u001B[0;32m--> 353\u001B[0m     obj, end \u001B[38;5;241m=\u001B[39m \u001B[38;5;28;43mself\u001B[39;49m\u001B[38;5;241;43m.\u001B[39;49m\u001B[43mscan_once\u001B[49m\u001B[43m(\u001B[49m\u001B[43ms\u001B[49m\u001B[43m,\u001B[49m\u001B[43m \u001B[49m\u001B[43midx\u001B[49m\u001B[43m)\u001B[49m\n\u001B[1;32m    354\u001B[0m \u001B[38;5;28;01mexcept\u001B[39;00m \u001B[38;5;167;01mStopIteration\u001B[39;00m \u001B[38;5;28;01mas\u001B[39;00m err:\n\u001B[1;32m    355\u001B[0m     \u001B[38;5;28;01mraise\u001B[39;00m JSONDecodeError(\u001B[38;5;124m\"\u001B[39m\u001B[38;5;124mExpecting value\u001B[39m\u001B[38;5;124m\"\u001B[39m, s, err\u001B[38;5;241m.\u001B[39mvalue) \u001B[38;5;28;01mfrom\u001B[39;00m \u001B[38;5;28;01mNone\u001B[39;00m\n",
      "\u001B[0;31mJSONDecodeError\u001B[0m: Expecting property name enclosed in double quotes: line 1 column 2 (char 1)"
     ]
    }
   ],
   "execution_count": 53
  },
  {
   "metadata": {
    "ExecuteTime": {
     "end_time": "2024-12-22T06:26:31.118512Z",
     "start_time": "2024-12-22T06:26:31.113369Z"
    }
   },
   "cell_type": "code",
   "source": [
    "# судя по ошибке не устраивает наличие одинарных кавычек\n",
    "# пробуем заменить на двойные кавычки с помощью метода replace()\n",
    "df_copy['city'][0].replace(\"'\", '\"')"
   ],
   "id": "912652b164889ad2",
   "outputs": [
    {
     "data": {
      "text/plain": [
       "'{\"id\": 2, \"title\": \"Saint-Petersburg\"}'"
      ]
     },
     "execution_count": 54,
     "metadata": {},
     "output_type": "execute_result"
    }
   ],
   "execution_count": 54
  },
  {
   "metadata": {
    "ExecuteTime": {
     "end_time": "2024-12-22T06:26:33.198028Z",
     "start_time": "2024-12-22T06:26:33.193331Z"
    }
   },
   "cell_type": "code",
   "source": "json.loads(df_copy['city'][0].replace(\"'\", '\"'))",
   "id": "20d406b434bd535d",
   "outputs": [
    {
     "data": {
      "text/plain": [
       "{'id': 2, 'title': 'Saint-Petersburg'}"
      ]
     },
     "execution_count": 55,
     "metadata": {},
     "output_type": "execute_result"
    }
   ],
   "execution_count": 55
  },
  {
   "metadata": {
    "ExecuteTime": {
     "end_time": "2024-12-22T06:27:03.221492Z",
     "start_time": "2024-12-22T06:27:03.215949Z"
    }
   },
   "cell_type": "code",
   "source": [
    "# пробуем достать значение по ключу title\n",
    "json.loads(df_copy['city'][0].replace(\"'\", '\"'))['title']"
   ],
   "id": "b72135554fd08ab4",
   "outputs": [
    {
     "data": {
      "text/plain": [
       "'Saint-Petersburg'"
      ]
     },
     "execution_count": 56,
     "metadata": {},
     "output_type": "execute_result"
    }
   ],
   "execution_count": 56
  },
  {
   "metadata": {
    "ExecuteTime": {
     "end_time": "2024-12-22T06:28:07.606092Z",
     "start_time": "2024-12-22T06:28:07.602445Z"
    }
   },
   "cell_type": "code",
   "source": [
    "def text_to_json(text):\n",
    "  if pd.isna(text):\n",
    "    result = 'Город не указан'\n",
    "  else:\n",
    "    result = json.loads(text.replace(\"'\", '\"'))['title']\n",
    "  return result"
   ],
   "id": "f4a96205b759e3d3",
   "outputs": [],
   "execution_count": 57
  },
  {
   "metadata": {
    "ExecuteTime": {
     "end_time": "2024-12-22T06:28:16.351786Z",
     "start_time": "2024-12-22T06:28:16.342933Z"
    }
   },
   "cell_type": "code",
   "source": [
    "# применяем функцию к столбцу\n",
    "df_copy['city'] = df_copy['city'].apply(text_to_json)"
   ],
   "id": "172755f52df97231",
   "outputs": [],
   "execution_count": 58
  },
  {
   "metadata": {
    "ExecuteTime": {
     "end_time": "2024-12-22T06:28:26.281536Z",
     "start_time": "2024-12-22T06:28:26.276051Z"
    }
   },
   "cell_type": "code",
   "source": [
    "# контроль результата\n",
    "df_copy.city"
   ],
   "id": "641c10315d3faabf",
   "outputs": [
    {
     "data": {
      "text/plain": [
       "0       Saint-Petersburg\n",
       "1        Город не указан\n",
       "2            Новосибирск\n",
       "3       Saint-Petersburg\n",
       "4        Город не указан\n",
       "              ...       \n",
       "3333     Город не указан\n",
       "3334              Россия\n",
       "3335              Россия\n",
       "3336              Россия\n",
       "3337              Россия\n",
       "Name: city, Length: 3338, dtype: object"
      ]
     },
     "execution_count": 59,
     "metadata": {},
     "output_type": "execute_result"
    }
   ],
   "execution_count": 59
  },
  {
   "metadata": {},
   "cell_type": "code",
   "outputs": [],
   "execution_count": null,
   "source": [
    "# данные записались корректно,\n",
    "# однако стоит отметить, что они не приведены к единому регистру, языку,\n",
    "# например, различное написание русских городов на разных языках: Saint-Petersburg и Новосибирск,\n",
    "# а также наличие названия страны \"Россия\" в последних наблюдениях.\n",
    "# откорректируем данные несоответствия в одной из следующих тем"
   ],
   "id": "bce5d74ad8671ac0"
  },
  {
   "metadata": {},
   "cell_type": "markdown",
   "source": "## 'country'",
   "id": "177a7f0d15d2b781"
  },
  {
   "metadata": {
    "ExecuteTime": {
     "end_time": "2024-12-22T06:29:17.276346Z",
     "start_time": "2024-12-22T06:29:17.270503Z"
    }
   },
   "cell_type": "code",
   "source": "df_copy['country'][0]",
   "id": "527ff514fb165be4",
   "outputs": [
    {
     "data": {
      "text/plain": [
       "\"{'id': 1, 'title': 'Россия'}\""
      ]
     },
     "execution_count": 60,
     "metadata": {},
     "output_type": "execute_result"
    }
   ],
   "execution_count": 60
  },
  {
   "metadata": {
    "ExecuteTime": {
     "end_time": "2024-12-22T06:29:29.136691Z",
     "start_time": "2024-12-22T06:29:29.131819Z"
    }
   },
   "cell_type": "code",
   "source": [
    "# альтернативный метод: приведение значений в словарь с помощью функции eval()\n",
    "eval(df_copy['country'][0])"
   ],
   "id": "bc6b38757ce6671f",
   "outputs": [
    {
     "data": {
      "text/plain": [
       "{'id': 1, 'title': 'Россия'}"
      ]
     },
     "execution_count": 61,
     "metadata": {},
     "output_type": "execute_result"
    }
   ],
   "execution_count": 61
  },
  {
   "metadata": {
    "ExecuteTime": {
     "end_time": "2024-12-22T06:29:51.721217Z",
     "start_time": "2024-12-22T06:29:51.716055Z"
    }
   },
   "cell_type": "code",
   "source": "eval(df_copy['country'][0])['title']",
   "id": "845cc42679ffd361",
   "outputs": [
    {
     "data": {
      "text/plain": [
       "'Россия'"
      ]
     },
     "execution_count": 62,
     "metadata": {},
     "output_type": "execute_result"
    }
   ],
   "execution_count": 62
  },
  {
   "metadata": {
    "ExecuteTime": {
     "end_time": "2024-12-22T06:30:03.932369Z",
     "start_time": "2024-12-22T06:30:03.643464Z"
    }
   },
   "cell_type": "code",
   "source": [
    "# применим функцию к столбцу\n",
    "# т.к. по столбцу нет пропусков, то попробуем применить\n",
    "# анонимную lambda-функцию для записи наименования страны\n",
    "df_copy['country'] = df_copy['country'].apply(lambda x: eval(x)['title'])"
   ],
   "id": "49c6c77d3cd2eee1",
   "outputs": [
    {
     "ename": "KeyError",
     "evalue": "'title'",
     "output_type": "error",
     "traceback": [
      "\u001B[0;31m---------------------------------------------------------------------------\u001B[0m",
      "\u001B[0;31mKeyError\u001B[0m                                  Traceback (most recent call last)",
      "Cell \u001B[0;32mIn[63], line 4\u001B[0m\n\u001B[1;32m      1\u001B[0m \u001B[38;5;66;03m# применим функцию к столбцу\u001B[39;00m\n\u001B[1;32m      2\u001B[0m \u001B[38;5;66;03m# т.к. по столбцу нет пропусков, то попробуем применить\u001B[39;00m\n\u001B[1;32m      3\u001B[0m \u001B[38;5;66;03m# анонимную lambda-функцию для записи наименования страны\u001B[39;00m\n\u001B[0;32m----> 4\u001B[0m df_copy[\u001B[38;5;124m'\u001B[39m\u001B[38;5;124mcountry\u001B[39m\u001B[38;5;124m'\u001B[39m] \u001B[38;5;241m=\u001B[39m \u001B[43mdf_copy\u001B[49m\u001B[43m[\u001B[49m\u001B[38;5;124;43m'\u001B[39;49m\u001B[38;5;124;43mcountry\u001B[39;49m\u001B[38;5;124;43m'\u001B[39;49m\u001B[43m]\u001B[49m\u001B[38;5;241;43m.\u001B[39;49m\u001B[43mapply\u001B[49m\u001B[43m(\u001B[49m\u001B[38;5;28;43;01mlambda\u001B[39;49;00m\u001B[43m \u001B[49m\u001B[43mx\u001B[49m\u001B[43m:\u001B[49m\u001B[43m \u001B[49m\u001B[38;5;28;43meval\u001B[39;49m\u001B[43m(\u001B[49m\u001B[43mx\u001B[49m\u001B[43m)\u001B[49m\u001B[43m[\u001B[49m\u001B[38;5;124;43m'\u001B[39;49m\u001B[38;5;124;43mtitle\u001B[39;49m\u001B[38;5;124;43m'\u001B[39;49m\u001B[43m]\u001B[49m\u001B[43m)\u001B[49m\n",
      "File \u001B[0;32m~/PyCharmProjects/data-cleaning-learn/venv/lib/python3.12/site-packages/pandas/core/series.py:4924\u001B[0m, in \u001B[0;36mSeries.apply\u001B[0;34m(self, func, convert_dtype, args, by_row, **kwargs)\u001B[0m\n\u001B[1;32m   4789\u001B[0m \u001B[38;5;28;01mdef\u001B[39;00m \u001B[38;5;21mapply\u001B[39m(\n\u001B[1;32m   4790\u001B[0m     \u001B[38;5;28mself\u001B[39m,\n\u001B[1;32m   4791\u001B[0m     func: AggFuncType,\n\u001B[0;32m   (...)\u001B[0m\n\u001B[1;32m   4796\u001B[0m     \u001B[38;5;241m*\u001B[39m\u001B[38;5;241m*\u001B[39mkwargs,\n\u001B[1;32m   4797\u001B[0m ) \u001B[38;5;241m-\u001B[39m\u001B[38;5;241m>\u001B[39m DataFrame \u001B[38;5;241m|\u001B[39m Series:\n\u001B[1;32m   4798\u001B[0m \u001B[38;5;250m    \u001B[39m\u001B[38;5;124;03m\"\"\"\u001B[39;00m\n\u001B[1;32m   4799\u001B[0m \u001B[38;5;124;03m    Invoke function on values of Series.\u001B[39;00m\n\u001B[1;32m   4800\u001B[0m \n\u001B[0;32m   (...)\u001B[0m\n\u001B[1;32m   4915\u001B[0m \u001B[38;5;124;03m    dtype: float64\u001B[39;00m\n\u001B[1;32m   4916\u001B[0m \u001B[38;5;124;03m    \"\"\"\u001B[39;00m\n\u001B[1;32m   4917\u001B[0m     \u001B[38;5;28;01mreturn\u001B[39;00m \u001B[43mSeriesApply\u001B[49m\u001B[43m(\u001B[49m\n\u001B[1;32m   4918\u001B[0m \u001B[43m        \u001B[49m\u001B[38;5;28;43mself\u001B[39;49m\u001B[43m,\u001B[49m\n\u001B[1;32m   4919\u001B[0m \u001B[43m        \u001B[49m\u001B[43mfunc\u001B[49m\u001B[43m,\u001B[49m\n\u001B[1;32m   4920\u001B[0m \u001B[43m        \u001B[49m\u001B[43mconvert_dtype\u001B[49m\u001B[38;5;241;43m=\u001B[39;49m\u001B[43mconvert_dtype\u001B[49m\u001B[43m,\u001B[49m\n\u001B[1;32m   4921\u001B[0m \u001B[43m        \u001B[49m\u001B[43mby_row\u001B[49m\u001B[38;5;241;43m=\u001B[39;49m\u001B[43mby_row\u001B[49m\u001B[43m,\u001B[49m\n\u001B[1;32m   4922\u001B[0m \u001B[43m        \u001B[49m\u001B[43margs\u001B[49m\u001B[38;5;241;43m=\u001B[39;49m\u001B[43margs\u001B[49m\u001B[43m,\u001B[49m\n\u001B[1;32m   4923\u001B[0m \u001B[43m        \u001B[49m\u001B[43mkwargs\u001B[49m\u001B[38;5;241;43m=\u001B[39;49m\u001B[43mkwargs\u001B[49m\u001B[43m,\u001B[49m\n\u001B[0;32m-> 4924\u001B[0m \u001B[43m    \u001B[49m\u001B[43m)\u001B[49m\u001B[38;5;241;43m.\u001B[39;49m\u001B[43mapply\u001B[49m\u001B[43m(\u001B[49m\u001B[43m)\u001B[49m\n",
      "File \u001B[0;32m~/PyCharmProjects/data-cleaning-learn/venv/lib/python3.12/site-packages/pandas/core/apply.py:1427\u001B[0m, in \u001B[0;36mSeriesApply.apply\u001B[0;34m(self)\u001B[0m\n\u001B[1;32m   1424\u001B[0m     \u001B[38;5;28;01mreturn\u001B[39;00m \u001B[38;5;28mself\u001B[39m\u001B[38;5;241m.\u001B[39mapply_compat()\n\u001B[1;32m   1426\u001B[0m \u001B[38;5;66;03m# self.func is Callable\u001B[39;00m\n\u001B[0;32m-> 1427\u001B[0m \u001B[38;5;28;01mreturn\u001B[39;00m \u001B[38;5;28;43mself\u001B[39;49m\u001B[38;5;241;43m.\u001B[39;49m\u001B[43mapply_standard\u001B[49m\u001B[43m(\u001B[49m\u001B[43m)\u001B[49m\n",
      "File \u001B[0;32m~/PyCharmProjects/data-cleaning-learn/venv/lib/python3.12/site-packages/pandas/core/apply.py:1507\u001B[0m, in \u001B[0;36mSeriesApply.apply_standard\u001B[0;34m(self)\u001B[0m\n\u001B[1;32m   1501\u001B[0m \u001B[38;5;66;03m# row-wise access\u001B[39;00m\n\u001B[1;32m   1502\u001B[0m \u001B[38;5;66;03m# apply doesn't have a `na_action` keyword and for backward compat reasons\u001B[39;00m\n\u001B[1;32m   1503\u001B[0m \u001B[38;5;66;03m# we need to give `na_action=\"ignore\"` for categorical data.\u001B[39;00m\n\u001B[1;32m   1504\u001B[0m \u001B[38;5;66;03m# TODO: remove the `na_action=\"ignore\"` when that default has been changed in\u001B[39;00m\n\u001B[1;32m   1505\u001B[0m \u001B[38;5;66;03m#  Categorical (GH51645).\u001B[39;00m\n\u001B[1;32m   1506\u001B[0m action \u001B[38;5;241m=\u001B[39m \u001B[38;5;124m\"\u001B[39m\u001B[38;5;124mignore\u001B[39m\u001B[38;5;124m\"\u001B[39m \u001B[38;5;28;01mif\u001B[39;00m \u001B[38;5;28misinstance\u001B[39m(obj\u001B[38;5;241m.\u001B[39mdtype, CategoricalDtype) \u001B[38;5;28;01melse\u001B[39;00m \u001B[38;5;28;01mNone\u001B[39;00m\n\u001B[0;32m-> 1507\u001B[0m mapped \u001B[38;5;241m=\u001B[39m \u001B[43mobj\u001B[49m\u001B[38;5;241;43m.\u001B[39;49m\u001B[43m_map_values\u001B[49m\u001B[43m(\u001B[49m\n\u001B[1;32m   1508\u001B[0m \u001B[43m    \u001B[49m\u001B[43mmapper\u001B[49m\u001B[38;5;241;43m=\u001B[39;49m\u001B[43mcurried\u001B[49m\u001B[43m,\u001B[49m\u001B[43m \u001B[49m\u001B[43mna_action\u001B[49m\u001B[38;5;241;43m=\u001B[39;49m\u001B[43maction\u001B[49m\u001B[43m,\u001B[49m\u001B[43m \u001B[49m\u001B[43mconvert\u001B[49m\u001B[38;5;241;43m=\u001B[39;49m\u001B[38;5;28;43mself\u001B[39;49m\u001B[38;5;241;43m.\u001B[39;49m\u001B[43mconvert_dtype\u001B[49m\n\u001B[1;32m   1509\u001B[0m \u001B[43m\u001B[49m\u001B[43m)\u001B[49m\n\u001B[1;32m   1511\u001B[0m \u001B[38;5;28;01mif\u001B[39;00m \u001B[38;5;28mlen\u001B[39m(mapped) \u001B[38;5;129;01mand\u001B[39;00m \u001B[38;5;28misinstance\u001B[39m(mapped[\u001B[38;5;241m0\u001B[39m], ABCSeries):\n\u001B[1;32m   1512\u001B[0m     \u001B[38;5;66;03m# GH#43986 Need to do list(mapped) in order to get treated as nested\u001B[39;00m\n\u001B[1;32m   1513\u001B[0m     \u001B[38;5;66;03m#  See also GH#25959 regarding EA support\u001B[39;00m\n\u001B[1;32m   1514\u001B[0m     \u001B[38;5;28;01mreturn\u001B[39;00m obj\u001B[38;5;241m.\u001B[39m_constructor_expanddim(\u001B[38;5;28mlist\u001B[39m(mapped), index\u001B[38;5;241m=\u001B[39mobj\u001B[38;5;241m.\u001B[39mindex)\n",
      "File \u001B[0;32m~/PyCharmProjects/data-cleaning-learn/venv/lib/python3.12/site-packages/pandas/core/base.py:921\u001B[0m, in \u001B[0;36mIndexOpsMixin._map_values\u001B[0;34m(self, mapper, na_action, convert)\u001B[0m\n\u001B[1;32m    918\u001B[0m \u001B[38;5;28;01mif\u001B[39;00m \u001B[38;5;28misinstance\u001B[39m(arr, ExtensionArray):\n\u001B[1;32m    919\u001B[0m     \u001B[38;5;28;01mreturn\u001B[39;00m arr\u001B[38;5;241m.\u001B[39mmap(mapper, na_action\u001B[38;5;241m=\u001B[39mna_action)\n\u001B[0;32m--> 921\u001B[0m \u001B[38;5;28;01mreturn\u001B[39;00m \u001B[43malgorithms\u001B[49m\u001B[38;5;241;43m.\u001B[39;49m\u001B[43mmap_array\u001B[49m\u001B[43m(\u001B[49m\u001B[43marr\u001B[49m\u001B[43m,\u001B[49m\u001B[43m \u001B[49m\u001B[43mmapper\u001B[49m\u001B[43m,\u001B[49m\u001B[43m \u001B[49m\u001B[43mna_action\u001B[49m\u001B[38;5;241;43m=\u001B[39;49m\u001B[43mna_action\u001B[49m\u001B[43m,\u001B[49m\u001B[43m \u001B[49m\u001B[43mconvert\u001B[49m\u001B[38;5;241;43m=\u001B[39;49m\u001B[43mconvert\u001B[49m\u001B[43m)\u001B[49m\n",
      "File \u001B[0;32m~/PyCharmProjects/data-cleaning-learn/venv/lib/python3.12/site-packages/pandas/core/algorithms.py:1743\u001B[0m, in \u001B[0;36mmap_array\u001B[0;34m(arr, mapper, na_action, convert)\u001B[0m\n\u001B[1;32m   1741\u001B[0m values \u001B[38;5;241m=\u001B[39m arr\u001B[38;5;241m.\u001B[39mastype(\u001B[38;5;28mobject\u001B[39m, copy\u001B[38;5;241m=\u001B[39m\u001B[38;5;28;01mFalse\u001B[39;00m)\n\u001B[1;32m   1742\u001B[0m \u001B[38;5;28;01mif\u001B[39;00m na_action \u001B[38;5;129;01mis\u001B[39;00m \u001B[38;5;28;01mNone\u001B[39;00m:\n\u001B[0;32m-> 1743\u001B[0m     \u001B[38;5;28;01mreturn\u001B[39;00m \u001B[43mlib\u001B[49m\u001B[38;5;241;43m.\u001B[39;49m\u001B[43mmap_infer\u001B[49m\u001B[43m(\u001B[49m\u001B[43mvalues\u001B[49m\u001B[43m,\u001B[49m\u001B[43m \u001B[49m\u001B[43mmapper\u001B[49m\u001B[43m,\u001B[49m\u001B[43m \u001B[49m\u001B[43mconvert\u001B[49m\u001B[38;5;241;43m=\u001B[39;49m\u001B[43mconvert\u001B[49m\u001B[43m)\u001B[49m\n\u001B[1;32m   1744\u001B[0m \u001B[38;5;28;01melse\u001B[39;00m:\n\u001B[1;32m   1745\u001B[0m     \u001B[38;5;28;01mreturn\u001B[39;00m lib\u001B[38;5;241m.\u001B[39mmap_infer_mask(\n\u001B[1;32m   1746\u001B[0m         values, mapper, mask\u001B[38;5;241m=\u001B[39misna(values)\u001B[38;5;241m.\u001B[39mview(np\u001B[38;5;241m.\u001B[39muint8), convert\u001B[38;5;241m=\u001B[39mconvert\n\u001B[1;32m   1747\u001B[0m     )\n",
      "File \u001B[0;32mlib.pyx:2972\u001B[0m, in \u001B[0;36mpandas._libs.lib.map_infer\u001B[0;34m()\u001B[0m\n",
      "Cell \u001B[0;32mIn[63], line 4\u001B[0m, in \u001B[0;36m<lambda>\u001B[0;34m(x)\u001B[0m\n\u001B[1;32m      1\u001B[0m \u001B[38;5;66;03m# применим функцию к столбцу\u001B[39;00m\n\u001B[1;32m      2\u001B[0m \u001B[38;5;66;03m# т.к. по столбцу нет пропусков, то попробуем применить\u001B[39;00m\n\u001B[1;32m      3\u001B[0m \u001B[38;5;66;03m# анонимную lambda-функцию для записи наименования страны\u001B[39;00m\n\u001B[0;32m----> 4\u001B[0m df_copy[\u001B[38;5;124m'\u001B[39m\u001B[38;5;124mcountry\u001B[39m\u001B[38;5;124m'\u001B[39m] \u001B[38;5;241m=\u001B[39m df_copy[\u001B[38;5;124m'\u001B[39m\u001B[38;5;124mcountry\u001B[39m\u001B[38;5;124m'\u001B[39m]\u001B[38;5;241m.\u001B[39mapply(\u001B[38;5;28;01mlambda\u001B[39;00m x: \u001B[38;5;28;43meval\u001B[39;49m\u001B[43m(\u001B[49m\u001B[43mx\u001B[49m\u001B[43m)\u001B[49m\u001B[43m[\u001B[49m\u001B[38;5;124;43m'\u001B[39;49m\u001B[38;5;124;43mtitle\u001B[39;49m\u001B[38;5;124;43m'\u001B[39;49m\u001B[43m]\u001B[49m)\n",
      "\u001B[0;31mKeyError\u001B[0m: 'title'"
     ]
    }
   ],
   "execution_count": 63
  },
  {
   "metadata": {
    "ExecuteTime": {
     "end_time": "2024-12-22T06:30:30.880900Z",
     "start_time": "2024-12-22T06:30:30.844924Z"
    }
   },
   "cell_type": "code",
   "source": [
    "# ошибка, связанная с тем, что по каким-то наблюдениям в словаре нет ключа 'title',\n",
    "# но по данному признаку может быть только два ключа - 'id' и 'title'\n",
    "# ищем проблемные значения с помощью конструкции обработки исключений try-except\n",
    "for item in df_copy.country:\n",
    "  try:\n",
    "    eval(item)['title']\n",
    "  except:\n",
    "    print(item)"
   ],
   "id": "73dbe78c7c7ba63b",
   "outputs": [
    {
     "name": "stdout",
     "output_type": "stream",
     "text": [
      "{'platform': 4, 'time': 1658820057}\n",
      "{'platform': 2, 'time': 1662237422}\n",
      "{'platform': 4, 'time': 1662232523}\n",
      "{'platform': 4, 'time': 1661793146}\n"
     ]
    }
   ],
   "execution_count": 64
  },
  {
   "metadata": {
    "ExecuteTime": {
     "end_time": "2024-12-22T06:40:52.867342Z",
     "start_time": "2024-12-22T06:40:52.855214Z"
    }
   },
   "cell_type": "code",
   "source": [
    "# несоответствия по данному признаку, относящиеся к другому - 'last_seen'\n",
    "# посмотрим на эти наблюдения по всем признакам с помощью метода contains()\n",
    "# (str. производит принудительный перевод в строковое значение)\n",
    "df_copy[df_copy.country.str.contains('platform')]"
   ],
   "id": "936d97ae422a5850",
   "outputs": [
    {
     "data": {
      "text/plain": [
       "             id       bdate    city                              country  \\\n",
       "3334  741237783    4.8.2005  Россия  {'platform': 4, 'time': 1658820057}   \n",
       "3335  741237784  30.11.2002  Россия  {'platform': 2, 'time': 1662237422}   \n",
       "3336  741237785    5.6.2008  Россия  {'platform': 4, 'time': 1662232523}   \n",
       "3337  741237786   24.7.1990  Россия  {'platform': 4, 'time': 1661793146}   \n",
       "\n",
       "     last_seen  followers_count  sex  \\\n",
       "3334       NaN              0.0    1   \n",
       "3335         0              0.0    0   \n",
       "3336         1              0.0    0   \n",
       "3337       NaN              0.0    1   \n",
       "\n",
       "                                                  costs games  \n",
       "3334                             [{'name': 'Fortnite'}]    no  \n",
       "3335  [{'name': 'PUBG'}, {'name': 'Hearthstone'}, {'...    no  \n",
       "3336                                 [{'name': 'FIFA'}]    no  \n",
       "3337  [{'name': 'StarCraft 2'}, {'name': 'Warface'},...    no  "
      ],
      "text/html": [
       "<div>\n",
       "<style scoped>\n",
       "    .dataframe tbody tr th:only-of-type {\n",
       "        vertical-align: middle;\n",
       "    }\n",
       "\n",
       "    .dataframe tbody tr th {\n",
       "        vertical-align: top;\n",
       "    }\n",
       "\n",
       "    .dataframe thead th {\n",
       "        text-align: right;\n",
       "    }\n",
       "</style>\n",
       "<table border=\"1\" class=\"dataframe\">\n",
       "  <thead>\n",
       "    <tr style=\"text-align: right;\">\n",
       "      <th></th>\n",
       "      <th>id</th>\n",
       "      <th>bdate</th>\n",
       "      <th>city</th>\n",
       "      <th>country</th>\n",
       "      <th>last_seen</th>\n",
       "      <th>followers_count</th>\n",
       "      <th>sex</th>\n",
       "      <th>costs</th>\n",
       "      <th>games</th>\n",
       "    </tr>\n",
       "  </thead>\n",
       "  <tbody>\n",
       "    <tr>\n",
       "      <th>3334</th>\n",
       "      <td>741237783</td>\n",
       "      <td>4.8.2005</td>\n",
       "      <td>Россия</td>\n",
       "      <td>{'platform': 4, 'time': 1658820057}</td>\n",
       "      <td>NaN</td>\n",
       "      <td>0.0</td>\n",
       "      <td>1</td>\n",
       "      <td>[{'name': 'Fortnite'}]</td>\n",
       "      <td>no</td>\n",
       "    </tr>\n",
       "    <tr>\n",
       "      <th>3335</th>\n",
       "      <td>741237784</td>\n",
       "      <td>30.11.2002</td>\n",
       "      <td>Россия</td>\n",
       "      <td>{'platform': 2, 'time': 1662237422}</td>\n",
       "      <td>0</td>\n",
       "      <td>0.0</td>\n",
       "      <td>0</td>\n",
       "      <td>[{'name': 'PUBG'}, {'name': 'Hearthstone'}, {'...</td>\n",
       "      <td>no</td>\n",
       "    </tr>\n",
       "    <tr>\n",
       "      <th>3336</th>\n",
       "      <td>741237785</td>\n",
       "      <td>5.6.2008</td>\n",
       "      <td>Россия</td>\n",
       "      <td>{'platform': 4, 'time': 1662232523}</td>\n",
       "      <td>1</td>\n",
       "      <td>0.0</td>\n",
       "      <td>0</td>\n",
       "      <td>[{'name': 'FIFA'}]</td>\n",
       "      <td>no</td>\n",
       "    </tr>\n",
       "    <tr>\n",
       "      <th>3337</th>\n",
       "      <td>741237786</td>\n",
       "      <td>24.7.1990</td>\n",
       "      <td>Россия</td>\n",
       "      <td>{'platform': 4, 'time': 1661793146}</td>\n",
       "      <td>NaN</td>\n",
       "      <td>0.0</td>\n",
       "      <td>1</td>\n",
       "      <td>[{'name': 'StarCraft 2'}, {'name': 'Warface'},...</td>\n",
       "      <td>no</td>\n",
       "    </tr>\n",
       "  </tbody>\n",
       "</table>\n",
       "</div>"
      ]
     },
     "execution_count": 65,
     "metadata": {},
     "output_type": "execute_result"
    }
   ],
   "execution_count": 65
  },
  {
   "metadata": {
    "ExecuteTime": {
     "end_time": "2024-12-22T06:41:32.132100Z",
     "start_time": "2024-12-22T06:41:32.123080Z"
    }
   },
   "cell_type": "code",
   "source": [
    "# видно, что значения сдвинулись по признакам\n",
    "# скорее всего, в какой-то момент произошла ошибка при записи данных\n",
    "# можно было бы попытаться восстановить значения, отдав их обратно специалисту по сбору данных,\n",
    "# однако таких значений всего 4 из общего числа наблюдений,\n",
    "# поэтому в данном случаем можно их исключить из датасета,\n",
    "# но проинформировать причастных об ошибке все же стоит\n",
    "\n",
    "df_copy.drop([3334, 3335, 3336, 3337],inplace=True)"
   ],
   "id": "b70378341ef64c0",
   "outputs": [],
   "execution_count": 66
  },
  {
   "metadata": {
    "ExecuteTime": {
     "end_time": "2024-12-22T06:41:44.833094Z",
     "start_time": "2024-12-22T06:41:44.798325Z"
    }
   },
   "cell_type": "code",
   "source": [
    "# снова применим функцию к столбцу\n",
    "df_copy['country'] = df_copy['country'].apply(lambda x: eval(x)['title'])"
   ],
   "id": "1467a1fdf5b59808",
   "outputs": [],
   "execution_count": 67
  },
  {
   "metadata": {
    "ExecuteTime": {
     "end_time": "2024-12-22T06:41:55.134020Z",
     "start_time": "2024-12-22T06:41:55.128959Z"
    }
   },
   "cell_type": "code",
   "source": [
    "# контроль результата\n",
    "df_copy.country"
   ],
   "id": "ebc91ff525c2b838",
   "outputs": [
    {
     "data": {
      "text/plain": [
       "0       Россия\n",
       "1       Россия\n",
       "2       Россия\n",
       "3       Россия\n",
       "4       Россия\n",
       "         ...  \n",
       "3329    Россия\n",
       "3330    Россия\n",
       "3331    Россия\n",
       "3332    Россия\n",
       "3333    Россия\n",
       "Name: country, Length: 3334, dtype: object"
      ]
     },
     "execution_count": 68,
     "metadata": {},
     "output_type": "execute_result"
    }
   ],
   "execution_count": 68
  },
  {
   "metadata": {},
   "cell_type": "markdown",
   "source": "## 'last_seen'",
   "id": "1b660f8d4a2a89e1"
  },
  {
   "metadata": {
    "ExecuteTime": {
     "end_time": "2024-12-22T06:43:00.785923Z",
     "start_time": "2024-12-22T06:43:00.781537Z"
    }
   },
   "cell_type": "code",
   "source": "df_copy['last_seen'][0]",
   "id": "e9498f1a3030fea0",
   "outputs": [
    {
     "data": {
      "text/plain": [
       "\"{'platform': 2, 'time': 1662237362}\""
      ]
     },
     "execution_count": 69,
     "metadata": {},
     "output_type": "execute_result"
    }
   ],
   "execution_count": 69
  },
  {
   "metadata": {
    "ExecuteTime": {
     "end_time": "2024-12-22T07:28:58.473118Z",
     "start_time": "2024-12-22T07:28:58.466245Z"
    }
   },
   "cell_type": "code",
   "source": [
    "# данные содержат пустые значения\n",
    "# перепишем функцию, используемую при обработке признака 'city',\n",
    "# при этом не заменяя пропущенные значения другими\n",
    "def text_to_json_2(text):\n",
    "  if pd.isna(text):\n",
    "    result = np.nan\n",
    "  else:\n",
    "    result = json.loads(text.replace(\"'\", '\"'))['time']\n",
    "  return result"
   ],
   "id": "2b66a471aa86c767",
   "outputs": [],
   "execution_count": 70
  },
  {
   "metadata": {
    "ExecuteTime": {
     "end_time": "2024-12-22T07:29:00.208999Z",
     "start_time": "2024-12-22T07:29:00.197952Z"
    }
   },
   "cell_type": "code",
   "source": [
    "# применяем функцию к столбцу\n",
    "df_copy['last_seen'] = df_copy['last_seen'].apply(text_to_json_2)"
   ],
   "id": "a4252e88d9d263e3",
   "outputs": [],
   "execution_count": 71
  },
  {
   "metadata": {
    "ExecuteTime": {
     "end_time": "2024-12-22T07:29:12.482374Z",
     "start_time": "2024-12-22T07:29:12.475588Z"
    }
   },
   "cell_type": "code",
   "source": [
    "# контроль результата\n",
    "df_copy.last_seen"
   ],
   "id": "d6238b0bc10da3ef",
   "outputs": [
    {
     "data": {
      "text/plain": [
       "0       1.662237e+09\n",
       "1       1.661322e+09\n",
       "2       1.662203e+09\n",
       "3       1.613708e+09\n",
       "4       1.619551e+09\n",
       "            ...     \n",
       "3329    1.662186e+09\n",
       "3330    1.658820e+09\n",
       "3331    1.662237e+09\n",
       "3332    1.662233e+09\n",
       "3333    1.661793e+09\n",
       "Name: last_seen, Length: 3334, dtype: float64"
      ]
     },
     "execution_count": 72,
     "metadata": {},
     "output_type": "execute_result"
    }
   ],
   "execution_count": 72
  },
  {
   "metadata": {
    "ExecuteTime": {
     "end_time": "2024-12-22T07:29:57.066067Z",
     "start_time": "2024-12-22T07:29:57.059421Z"
    }
   },
   "cell_type": "code",
   "source": [
    "# данные в формате float64, при этом большой размерности,\n",
    "# поэтому отображаются неудобно\n",
    "# один из способов форматирования\n",
    "# (число с плавающей точкой отобразим без указания знаков после запятой)\n",
    "# (пример для перевода числа в проценты с двумя знаками после запятой - .apply(\"{0:.2%}\".format))\n",
    "# (если необходимо применить форматирование ко всей таблице, то используется метод .applymap())\n",
    "df_copy.last_seen.apply(\"{0:.0f}\".format)"
   ],
   "id": "ae8cb6aa4d41ac86",
   "outputs": [
    {
     "data": {
      "text/plain": [
       "0       1662237362\n",
       "1       1661321803\n",
       "2       1662202619\n",
       "3       1613708136\n",
       "4       1619550770\n",
       "           ...    \n",
       "3329    1662185768\n",
       "3330    1658820057\n",
       "3331    1662237422\n",
       "3332    1662232523\n",
       "3333    1661793146\n",
       "Name: last_seen, Length: 3334, dtype: object"
      ]
     },
     "execution_count": 73,
     "metadata": {},
     "output_type": "execute_result"
    }
   ],
   "execution_count": 73
  },
  {
   "metadata": {},
   "cell_type": "markdown",
   "source": "## 'costs'",
   "id": "802a5a224bc086f2"
  },
  {
   "metadata": {},
   "cell_type": "code",
   "outputs": [],
   "execution_count": null,
   "source": [
    "# обработаем данные альтернативным способом - через обработку текста\n",
    "\n",
    "# необходимо записать данные и о сумме затрат, и о валюте в отдельные столбцы\n",
    "# данные не содержат пустые значения,\n",
    "# поэтому проверку на пропуски можно опустить"
   ],
   "id": "efdd9fc0bbfaa64"
  },
  {
   "metadata": {
    "ExecuteTime": {
     "end_time": "2024-12-22T07:31:39.032469Z",
     "start_time": "2024-12-22T07:31:39.027594Z"
    }
   },
   "cell_type": "code",
   "source": [
    "# демонстрация этапов обработки на одном значении\n",
    "costs = df_copy['costs'][0]\n",
    "costs"
   ],
   "id": "1122012e184baa0e",
   "outputs": [
    {
     "data": {
      "text/plain": [
       "\"{'costs': 25000, 'currency': 'RUR'}\""
      ]
     },
     "execution_count": 74,
     "metadata": {},
     "output_type": "execute_result"
    }
   ],
   "execution_count": 74
  },
  {
   "metadata": {
    "ExecuteTime": {
     "end_time": "2024-12-22T07:32:08.626534Z",
     "start_time": "2024-12-22T07:32:08.622183Z"
    }
   },
   "cell_type": "code",
   "source": [
    "# удаление лишних символов с помощью метода .replace()\n",
    "costs_1 = costs.replace(\"'\", \"\").replace(\"{\", \"\").replace(\"}\", \"\"). replace(\":\", \"\")\n",
    "costs_1"
   ],
   "id": "a109414197117c57",
   "outputs": [
    {
     "data": {
      "text/plain": [
       "'costs 25000, currency RUR'"
      ]
     },
     "execution_count": 75,
     "metadata": {},
     "output_type": "execute_result"
    }
   ],
   "execution_count": 75
  },
  {
   "metadata": {
    "ExecuteTime": {
     "end_time": "2024-12-22T07:32:27.069949Z",
     "start_time": "2024-12-22T07:32:27.064702Z"
    }
   },
   "cell_type": "code",
   "source": [
    "# выделение затрат и валюты в отдельные сущности - элементы списка с помощью метода split()\n",
    "# (в качестве разделителя указываем запятую)\n",
    "costs_2 = costs_1.split(\",\")\n",
    "costs_2"
   ],
   "id": "1ee84e1468c178fe",
   "outputs": [
    {
     "data": {
      "text/plain": [
       "['costs 25000', ' currency RUR']"
      ]
     },
     "execution_count": 76,
     "metadata": {},
     "output_type": "execute_result"
    }
   ],
   "execution_count": 76
  },
  {
   "metadata": {
    "ExecuteTime": {
     "end_time": "2024-12-22T07:33:01.864453Z",
     "start_time": "2024-12-22T07:33:01.860927Z"
    }
   },
   "cell_type": "code",
   "source": [
    "# теперь можно работать с каждой сущностью отдельно\n",
    "# costs - первый элемент списка costs_2[0]\n",
    "# currency - второй элемент списка costs_2[1]\n",
    "print(costs_2[0])\n",
    "print(costs_2[1])"
   ],
   "id": "98cf51cde2542076",
   "outputs": [
    {
     "name": "stdout",
     "output_type": "stream",
     "text": [
      "costs 25000\n",
      " currency RUR\n"
     ]
    }
   ],
   "execution_count": 77
  },
  {
   "metadata": {
    "ExecuteTime": {
     "end_time": "2024-12-22T07:33:19.732639Z",
     "start_time": "2024-12-22T07:33:19.728114Z"
    }
   },
   "cell_type": "code",
   "source": [
    "# выделим саму цифру затрат также с помощью метода split()\n",
    "# (в качестве разделителя - пробел, его можно не указывать, т.к. это значение по умолчанию)\n",
    "# (необходимый элемент списка - с индексом [1])\n",
    "costs_2[0].split()[1]"
   ],
   "id": "92b2a8ccf59f95e7",
   "outputs": [
    {
     "data": {
      "text/plain": [
       "'25000'"
      ]
     },
     "execution_count": 78,
     "metadata": {},
     "output_type": "execute_result"
    }
   ],
   "execution_count": 78
  },
  {
   "metadata": {
    "ExecuteTime": {
     "end_time": "2024-12-22T07:33:38.634397Z",
     "start_time": "2024-12-22T07:33:38.629689Z"
    }
   },
   "cell_type": "code",
   "source": [
    "# выделим валюту также с помощью метода split()\n",
    "# (в качестве разделителя - пробел, его можно не указывать, т.к. это значение по умолчанию)\n",
    "# (необходимый элемент списка - с индексом [1])\n",
    "costs_2[1].split()[1]"
   ],
   "id": "245f767e58e516a9",
   "outputs": [
    {
     "data": {
      "text/plain": [
       "'RUR'"
      ]
     },
     "execution_count": 79,
     "metadata": {},
     "output_type": "execute_result"
    }
   ],
   "execution_count": 79
  },
  {
   "metadata": {
    "ExecuteTime": {
     "end_time": "2024-12-22T07:33:52.518788Z",
     "start_time": "2024-12-22T07:33:52.513963Z"
    }
   },
   "cell_type": "code",
   "source": [
    "# часто бывает, что необходимо избавиться от лишних пробелов в начале или в конце строки\n",
    "# для этой задачи применяется метод strip()\n",
    "# например, вычленим слово \"currency\" из примера выше (слева имеется один лишний пробел)\n",
    "costs_2[1].split()[0].strip()"
   ],
   "id": "a32925354d017903",
   "outputs": [
    {
     "data": {
      "text/plain": [
       "'currency'"
      ]
     },
     "execution_count": 80,
     "metadata": {},
     "output_type": "execute_result"
    }
   ],
   "execution_count": 80
  },
  {
   "metadata": {
    "ExecuteTime": {
     "end_time": "2024-12-22T07:34:39.685778Z",
     "start_time": "2024-12-22T07:34:39.682083Z"
    }
   },
   "cell_type": "code",
   "source": [
    "# объединение кода в функции для каждой сущности\n",
    "# (следует добавлять в функции проверку на пропуски и их обработку, а также обработку исключений)\n",
    "\n",
    "def costs_func(costs_currency):\n",
    "  costs = (costs_currency.replace(\"'\", \"\").replace(\"{\", \"\").replace(\"}\", \"\"). replace(\":\", \"\")\n",
    "                         .split(\",\")[0]\n",
    "                         .split()[1]\n",
    "                         )\n",
    "  return costs\n",
    "\n",
    "\n",
    "def currency_func(costs_currency):\n",
    "  currency = (costs_currency.replace(\"'\", \"\").replace(\"{\", \"\").replace(\"}\", \"\"). replace(\":\", \"\")\n",
    "                         .split(\",\")[1]\n",
    "                         .split()[1]\n",
    "                         )\n",
    "  return currency"
   ],
   "id": "2034896e6ab47b7d",
   "outputs": [],
   "execution_count": 82
  },
  {
   "metadata": {
    "ExecuteTime": {
     "end_time": "2024-12-22T07:34:51.875539Z",
     "start_time": "2024-12-22T07:34:51.871774Z"
    }
   },
   "cell_type": "code",
   "source": [
    "# проверка работоспособности функций на одном значении\n",
    "print(df_copy.costs[10])\n",
    "print(costs_func(df_copy.costs[10]))\n",
    "print(currency_func(df_copy.costs[10]))"
   ],
   "id": "beecc5698d73bf6b",
   "outputs": [
    {
     "name": "stdout",
     "output_type": "stream",
     "text": [
      "{'costs': 25000, 'currency': 'RUR'}\n",
      "25000\n",
      "RUR\n"
     ]
    }
   ],
   "execution_count": 83
  },
  {
   "metadata": {
    "ExecuteTime": {
     "end_time": "2024-12-22T07:35:15.384043Z",
     "start_time": "2024-12-22T07:35:15.374638Z"
    }
   },
   "cell_type": "code",
   "source": [
    "# применим функции ко всему столбцу, при этом создав для каждого признака отдельный столбец\n",
    "df_copy['costs_sum'] = df_copy['costs'].apply(costs_func)\n",
    "df_copy['currency'] = df_copy['costs'].apply(currency_func)"
   ],
   "id": "e279a7b62c75336",
   "outputs": [],
   "execution_count": 84
  },
  {
   "metadata": {
    "ExecuteTime": {
     "end_time": "2024-12-22T07:35:24.065717Z",
     "start_time": "2024-12-22T07:35:24.057455Z"
    }
   },
   "cell_type": "code",
   "source": [
    "# контроль результата\n",
    "df_copy[['costs_sum', 'currency']]"
   ],
   "id": "a5d8caed9020191",
   "outputs": [
    {
     "data": {
      "text/plain": [
       "     costs_sum currency\n",
       "0        25000      RUR\n",
       "1        50000      RUR\n",
       "2        75000      RUR\n",
       "3       100000      RUR\n",
       "4       100000      RUR\n",
       "...        ...      ...\n",
       "3329     50000      RUR\n",
       "3330     50000      RUR\n",
       "3331     50000      RUR\n",
       "3332     25000      RUR\n",
       "3333     25000      RUR\n",
       "\n",
       "[3334 rows x 2 columns]"
      ],
      "text/html": [
       "<div>\n",
       "<style scoped>\n",
       "    .dataframe tbody tr th:only-of-type {\n",
       "        vertical-align: middle;\n",
       "    }\n",
       "\n",
       "    .dataframe tbody tr th {\n",
       "        vertical-align: top;\n",
       "    }\n",
       "\n",
       "    .dataframe thead th {\n",
       "        text-align: right;\n",
       "    }\n",
       "</style>\n",
       "<table border=\"1\" class=\"dataframe\">\n",
       "  <thead>\n",
       "    <tr style=\"text-align: right;\">\n",
       "      <th></th>\n",
       "      <th>costs_sum</th>\n",
       "      <th>currency</th>\n",
       "    </tr>\n",
       "  </thead>\n",
       "  <tbody>\n",
       "    <tr>\n",
       "      <th>0</th>\n",
       "      <td>25000</td>\n",
       "      <td>RUR</td>\n",
       "    </tr>\n",
       "    <tr>\n",
       "      <th>1</th>\n",
       "      <td>50000</td>\n",
       "      <td>RUR</td>\n",
       "    </tr>\n",
       "    <tr>\n",
       "      <th>2</th>\n",
       "      <td>75000</td>\n",
       "      <td>RUR</td>\n",
       "    </tr>\n",
       "    <tr>\n",
       "      <th>3</th>\n",
       "      <td>100000</td>\n",
       "      <td>RUR</td>\n",
       "    </tr>\n",
       "    <tr>\n",
       "      <th>4</th>\n",
       "      <td>100000</td>\n",
       "      <td>RUR</td>\n",
       "    </tr>\n",
       "    <tr>\n",
       "      <th>...</th>\n",
       "      <td>...</td>\n",
       "      <td>...</td>\n",
       "    </tr>\n",
       "    <tr>\n",
       "      <th>3329</th>\n",
       "      <td>50000</td>\n",
       "      <td>RUR</td>\n",
       "    </tr>\n",
       "    <tr>\n",
       "      <th>3330</th>\n",
       "      <td>50000</td>\n",
       "      <td>RUR</td>\n",
       "    </tr>\n",
       "    <tr>\n",
       "      <th>3331</th>\n",
       "      <td>50000</td>\n",
       "      <td>RUR</td>\n",
       "    </tr>\n",
       "    <tr>\n",
       "      <th>3332</th>\n",
       "      <td>25000</td>\n",
       "      <td>RUR</td>\n",
       "    </tr>\n",
       "    <tr>\n",
       "      <th>3333</th>\n",
       "      <td>25000</td>\n",
       "      <td>RUR</td>\n",
       "    </tr>\n",
       "  </tbody>\n",
       "</table>\n",
       "<p>3334 rows × 2 columns</p>\n",
       "</div>"
      ]
     },
     "execution_count": 85,
     "metadata": {},
     "output_type": "execute_result"
    }
   ],
   "execution_count": 85
  },
  {
   "metadata": {
    "ExecuteTime": {
     "end_time": "2024-12-22T07:35:45.098984Z",
     "start_time": "2024-12-22T07:35:45.093240Z"
    }
   },
   "cell_type": "code",
   "source": [
    "# исключим исходный столбец costs\n",
    "df_copy.drop(columns='costs', inplace=True)"
   ],
   "id": "8ae6622aceb7cced",
   "outputs": [],
   "execution_count": 86
  },
  {
   "metadata": {
    "ExecuteTime": {
     "end_time": "2024-12-22T07:36:13.059817Z",
     "start_time": "2024-12-22T07:36:13.056542Z"
    }
   },
   "cell_type": "code",
   "source": [
    "# переименуем столбец costs_sum в costs\n",
    "df_copy.rename(columns={'costs_sum': 'costs'}, inplace=True)"
   ],
   "id": "7d3591f98662822b",
   "outputs": [],
   "execution_count": 90
  },
  {
   "metadata": {
    "ExecuteTime": {
     "end_time": "2024-12-22T07:36:14.290268Z",
     "start_time": "2024-12-22T07:36:14.285525Z"
    }
   },
   "cell_type": "code",
   "source": [
    "# контроль результата\n",
    "df_copy.columns"
   ],
   "id": "2bcd7f39ffc2aec9",
   "outputs": [
    {
     "data": {
      "text/plain": [
       "Index(['id', 'bdate', 'city', 'country', 'last_seen', 'followers_count', 'sex',\n",
       "       'games', 'costs', 'currency'],\n",
       "      dtype='object')"
      ]
     },
     "execution_count": 91,
     "metadata": {},
     "output_type": "execute_result"
    }
   ],
   "execution_count": 91
  },
  {
   "metadata": {
    "ExecuteTime": {
     "end_time": "2024-12-22T07:36:35.991904Z",
     "start_time": "2024-12-22T07:36:35.983745Z"
    }
   },
   "cell_type": "code",
   "source": [
    "# контроль результата\n",
    "df_copy[['costs', 'currency']]"
   ],
   "id": "5c22345987c8a09e",
   "outputs": [
    {
     "data": {
      "text/plain": [
       "       costs currency\n",
       "0      25000      RUR\n",
       "1      50000      RUR\n",
       "2      75000      RUR\n",
       "3     100000      RUR\n",
       "4     100000      RUR\n",
       "...      ...      ...\n",
       "3329   50000      RUR\n",
       "3330   50000      RUR\n",
       "3331   50000      RUR\n",
       "3332   25000      RUR\n",
       "3333   25000      RUR\n",
       "\n",
       "[3334 rows x 2 columns]"
      ],
      "text/html": [
       "<div>\n",
       "<style scoped>\n",
       "    .dataframe tbody tr th:only-of-type {\n",
       "        vertical-align: middle;\n",
       "    }\n",
       "\n",
       "    .dataframe tbody tr th {\n",
       "        vertical-align: top;\n",
       "    }\n",
       "\n",
       "    .dataframe thead th {\n",
       "        text-align: right;\n",
       "    }\n",
       "</style>\n",
       "<table border=\"1\" class=\"dataframe\">\n",
       "  <thead>\n",
       "    <tr style=\"text-align: right;\">\n",
       "      <th></th>\n",
       "      <th>costs</th>\n",
       "      <th>currency</th>\n",
       "    </tr>\n",
       "  </thead>\n",
       "  <tbody>\n",
       "    <tr>\n",
       "      <th>0</th>\n",
       "      <td>25000</td>\n",
       "      <td>RUR</td>\n",
       "    </tr>\n",
       "    <tr>\n",
       "      <th>1</th>\n",
       "      <td>50000</td>\n",
       "      <td>RUR</td>\n",
       "    </tr>\n",
       "    <tr>\n",
       "      <th>2</th>\n",
       "      <td>75000</td>\n",
       "      <td>RUR</td>\n",
       "    </tr>\n",
       "    <tr>\n",
       "      <th>3</th>\n",
       "      <td>100000</td>\n",
       "      <td>RUR</td>\n",
       "    </tr>\n",
       "    <tr>\n",
       "      <th>4</th>\n",
       "      <td>100000</td>\n",
       "      <td>RUR</td>\n",
       "    </tr>\n",
       "    <tr>\n",
       "      <th>...</th>\n",
       "      <td>...</td>\n",
       "      <td>...</td>\n",
       "    </tr>\n",
       "    <tr>\n",
       "      <th>3329</th>\n",
       "      <td>50000</td>\n",
       "      <td>RUR</td>\n",
       "    </tr>\n",
       "    <tr>\n",
       "      <th>3330</th>\n",
       "      <td>50000</td>\n",
       "      <td>RUR</td>\n",
       "    </tr>\n",
       "    <tr>\n",
       "      <th>3331</th>\n",
       "      <td>50000</td>\n",
       "      <td>RUR</td>\n",
       "    </tr>\n",
       "    <tr>\n",
       "      <th>3332</th>\n",
       "      <td>25000</td>\n",
       "      <td>RUR</td>\n",
       "    </tr>\n",
       "    <tr>\n",
       "      <th>3333</th>\n",
       "      <td>25000</td>\n",
       "      <td>RUR</td>\n",
       "    </tr>\n",
       "  </tbody>\n",
       "</table>\n",
       "<p>3334 rows × 2 columns</p>\n",
       "</div>"
      ]
     },
     "execution_count": 92,
     "metadata": {},
     "output_type": "execute_result"
    }
   ],
   "execution_count": 92
  },
  {
   "metadata": {},
   "cell_type": "markdown",
   "source": "## 'games'",
   "id": "f9c3dcff0f1bb0c8"
  },
  {
   "metadata": {
    "ExecuteTime": {
     "end_time": "2024-12-22T07:37:09.482043Z",
     "start_time": "2024-12-22T07:37:09.476580Z"
    }
   },
   "cell_type": "code",
   "source": [
    "# преобразуем данные столбца games в списки игр\n",
    "df_copy.games"
   ],
   "id": "486d9e3ca880d02f",
   "outputs": [
    {
     "data": {
      "text/plain": [
       "0       [{'name': 'Dota 2'}, {'name': 'CS:GO'}, {'name...\n",
       "1       [{'name': 'League of Legends'}, {'name': 'Valo...\n",
       "2                                  [{'name': 'Fortnite'}]\n",
       "3       [{'name': 'PUBG'}, {'name': 'Hearthstone'}, {'...\n",
       "4                                      [{'name': 'FIFA'}]\n",
       "                              ...                        \n",
       "3329    [{'name': 'PUBG'}, {'name': 'Hearthstone'}, {'...\n",
       "3330    [{'name': 'PUBG'}, {'name': 'Hearthstone'}, {'...\n",
       "3331                                  [{'name': 'CS:GO'}]\n",
       "3332                                  [{'name': 'CS:GO'}]\n",
       "3333                                  [{'name': 'CS:GO'}]\n",
       "Name: games, Length: 3334, dtype: object"
      ]
     },
     "execution_count": 93,
     "metadata": {},
     "output_type": "execute_result"
    }
   ],
   "execution_count": 93
  },
  {
   "metadata": {},
   "cell_type": "code",
   "outputs": [],
   "execution_count": null,
   "source": [
    "# данные не содержат пустые значения,\n",
    "# поэтому проверку на пропуски можно опустить"
   ],
   "id": "3cd1c48f0fe39460"
  },
  {
   "metadata": {
    "ExecuteTime": {
     "end_time": "2024-12-22T07:37:26.401503Z",
     "start_time": "2024-12-22T07:37:26.396947Z"
    }
   },
   "cell_type": "code",
   "source": [
    "# демонстрация этапов обработки на одном значении\n",
    "games = df_copy.games[0]\n",
    "games"
   ],
   "id": "2c6a886662496847",
   "outputs": [
    {
     "data": {
      "text/plain": [
       "\"[{'name': 'Dota 2'}, {'name': 'CS:GO'}, {'name': 'Warcraft III'}]\""
      ]
     },
     "execution_count": 94,
     "metadata": {},
     "output_type": "execute_result"
    }
   ],
   "execution_count": 94
  },
  {
   "metadata": {
    "ExecuteTime": {
     "end_time": "2024-12-22T07:37:37.515416Z",
     "start_time": "2024-12-22T07:37:37.510815Z"
    }
   },
   "cell_type": "code",
   "source": [
    "# используем функцию eval(), чтобы преобразовать строковое значение в список\n",
    "games_1 = eval(games)\n",
    "games_1"
   ],
   "id": "67f36b4ade11664a",
   "outputs": [
    {
     "data": {
      "text/plain": [
       "[{'name': 'Dota 2'}, {'name': 'CS:GO'}, {'name': 'Warcraft III'}]"
      ]
     },
     "execution_count": 95,
     "metadata": {},
     "output_type": "execute_result"
    }
   ],
   "execution_count": 95
  },
  {
   "metadata": {
    "ExecuteTime": {
     "end_time": "2024-12-22T07:37:48.689101Z",
     "start_time": "2024-12-22T07:37:48.684263Z"
    }
   },
   "cell_type": "code",
   "source": [
    "# необходимо создать список, в который будут записаны наименования игр\n",
    "# в цикле for необходимо пройтись по элементам списка, достать значения словарей\n",
    "# и записать их в список с помощью метода append()\n",
    "res = []\n",
    "for game in games_1:\n",
    "  game_clean = game['name']\n",
    "  res.append(game_clean)\n",
    "\n",
    "res"
   ],
   "id": "8e901345d2482243",
   "outputs": [
    {
     "data": {
      "text/plain": [
       "['Dota 2', 'CS:GO', 'Warcraft III']"
      ]
     },
     "execution_count": 96,
     "metadata": {},
     "output_type": "execute_result"
    }
   ],
   "execution_count": 96
  },
  {
   "metadata": {
    "ExecuteTime": {
     "end_time": "2024-12-22T07:38:02.766119Z",
     "start_time": "2024-12-22T07:38:02.762642Z"
    }
   },
   "cell_type": "code",
   "source": [
    "# объединение кода в функцию\n",
    "# (следует добавить в функцию проверку на пропуски и их обработку, а также обработку исключений)\n",
    "\n",
    "def games_func(games):\n",
    "  res = []\n",
    "  for game in eval(games):\n",
    "    game_clean = game['name']\n",
    "    res.append(game_clean)\n",
    "\n",
    "  return res"
   ],
   "id": "7776f084c3c292dd",
   "outputs": [],
   "execution_count": 97
  },
  {
   "metadata": {
    "ExecuteTime": {
     "end_time": "2024-12-22T07:38:11.828744Z",
     "start_time": "2024-12-22T07:38:11.825122Z"
    }
   },
   "cell_type": "code",
   "source": [
    "# проверка работоспособности функций на одном значении\n",
    "print(df_copy.games[10])\n",
    "print(games_func(df_copy.games[10]))"
   ],
   "id": "ac50e9e6981a4cb",
   "outputs": [
    {
     "name": "stdout",
     "output_type": "stream",
     "text": [
      "[{'name': 'League of Legends'}]\n",
      "['League of Legends']\n"
     ]
    }
   ],
   "execution_count": 98
  },
  {
   "metadata": {
    "ExecuteTime": {
     "end_time": "2024-12-22T07:38:26.245173Z",
     "start_time": "2024-12-22T07:38:26.204980Z"
    }
   },
   "cell_type": "code",
   "source": [
    "# применим функции ко всему столбцу, при этом создав отдельный столбец\n",
    "df_copy['games_clean'] = df_copy['games'].apply(games_func)"
   ],
   "id": "a479f27d7599c384",
   "outputs": [],
   "execution_count": 99
  },
  {
   "metadata": {
    "ExecuteTime": {
     "end_time": "2024-12-22T07:38:38.656255Z",
     "start_time": "2024-12-22T07:38:38.650421Z"
    }
   },
   "cell_type": "code",
   "source": [
    "# контроль результата\n",
    "df_copy['games_clean']"
   ],
   "id": "7132e1342d2bca55",
   "outputs": [
    {
     "data": {
      "text/plain": [
       "0                     [Dota 2, CS:GO, Warcraft III]\n",
       "1       [League of Legends, Valorant, Apex Legends]\n",
       "2                                        [Fortnite]\n",
       "3                    [PUBG, Hearthstone, Overwatch]\n",
       "4                                            [FIFA]\n",
       "                           ...                     \n",
       "3329                 [PUBG, Hearthstone, Overwatch]\n",
       "3330                 [PUBG, Hearthstone, Overwatch]\n",
       "3331                                        [CS:GO]\n",
       "3332                                        [CS:GO]\n",
       "3333                                        [CS:GO]\n",
       "Name: games_clean, Length: 3334, dtype: object"
      ]
     },
     "execution_count": 100,
     "metadata": {},
     "output_type": "execute_result"
    }
   ],
   "execution_count": 100
  },
  {
   "metadata": {
    "ExecuteTime": {
     "end_time": "2024-12-22T07:39:05.534599Z",
     "start_time": "2024-12-22T07:39:05.530153Z"
    }
   },
   "cell_type": "code",
   "source": [
    "# исключим исходный столбец games\n",
    "df_copy.drop(columns='games', inplace=True)"
   ],
   "id": "8f6c682069d55b65",
   "outputs": [],
   "execution_count": 101
  },
  {
   "metadata": {
    "ExecuteTime": {
     "end_time": "2024-12-22T07:39:18.632404Z",
     "start_time": "2024-12-22T07:39:18.628678Z"
    }
   },
   "cell_type": "code",
   "source": [
    "# переименуем столбец games_clean в games\n",
    "df_copy.rename(columns={'games_clean': 'games'}, inplace=True)"
   ],
   "id": "9c2c458501600959",
   "outputs": [],
   "execution_count": 102
  },
  {
   "metadata": {
    "ExecuteTime": {
     "end_time": "2024-12-22T07:39:19.290091Z",
     "start_time": "2024-12-22T07:39:19.285561Z"
    }
   },
   "cell_type": "code",
   "source": [
    "# контроль результата\n",
    "df_copy.columns"
   ],
   "id": "a26e0c3a69c2c530",
   "outputs": [
    {
     "data": {
      "text/plain": [
       "Index(['id', 'bdate', 'city', 'country', 'last_seen', 'followers_count', 'sex',\n",
       "       'costs', 'currency', 'games'],\n",
       "      dtype='object')"
      ]
     },
     "execution_count": 103,
     "metadata": {},
     "output_type": "execute_result"
    }
   ],
   "execution_count": 103
  },
  {
   "metadata": {
    "ExecuteTime": {
     "end_time": "2024-12-22T07:39:27.107884Z",
     "start_time": "2024-12-22T07:39:27.102393Z"
    }
   },
   "cell_type": "code",
   "source": [
    "# контроль результата\n",
    "df_copy['games']"
   ],
   "id": "85c93947e55e797b",
   "outputs": [
    {
     "data": {
      "text/plain": [
       "0                     [Dota 2, CS:GO, Warcraft III]\n",
       "1       [League of Legends, Valorant, Apex Legends]\n",
       "2                                        [Fortnite]\n",
       "3                    [PUBG, Hearthstone, Overwatch]\n",
       "4                                            [FIFA]\n",
       "                           ...                     \n",
       "3329                 [PUBG, Hearthstone, Overwatch]\n",
       "3330                 [PUBG, Hearthstone, Overwatch]\n",
       "3331                                        [CS:GO]\n",
       "3332                                        [CS:GO]\n",
       "3333                                        [CS:GO]\n",
       "Name: games, Length: 3334, dtype: object"
      ]
     },
     "execution_count": 104,
     "metadata": {},
     "output_type": "execute_result"
    }
   ],
   "execution_count": 104
  },
  {
   "metadata": {},
   "cell_type": "code",
   "outputs": [],
   "execution_count": null,
   "source": [
    "# данные представляют собой списки игр,\n",
    "# поэтому стоит дополнительно произвести их \"распаковку\"\n",
    "# и сохранить полученный датасет с целью последующего анализа\n",
    "# в одной из следующих тем"
   ],
   "id": "f3aa357994df1763"
  },
  {
   "metadata": {},
   "cell_type": "markdown",
   "source": "# **Преобразование данных в необходимый формат**",
   "id": "9bf59fddc57c949a"
  },
  {
   "metadata": {
    "ExecuteTime": {
     "end_time": "2024-12-22T07:57:40.720949Z",
     "start_time": "2024-12-22T07:57:40.712988Z"
    }
   },
   "cell_type": "code",
   "source": [
    "# обзор типов данных\n",
    "df_copy.dtypes"
   ],
   "id": "21b4e7f50290463e",
   "outputs": [
    {
     "data": {
      "text/plain": [
       "id                   int64\n",
       "bdate               object\n",
       "city                object\n",
       "country             object\n",
       "last_seen          float64\n",
       "followers_count    float64\n",
       "sex                  int64\n",
       "costs               object\n",
       "currency            object\n",
       "games               object\n",
       "dtype: object"
      ]
     },
     "execution_count": 105,
     "metadata": {},
     "output_type": "execute_result"
    }
   ],
   "execution_count": 105
  },
  {
   "metadata": {},
   "cell_type": "markdown",
   "source": [
    "**Необходимо преобразовать** следующие признаки:\n",
    "1. 'bdate' - в формат даты и времени datetime\n",
    "2. 'last_seen' - в формат даты и времени datetime\n",
    "3. 'followers_count' - в формат целого числа int\n",
    "4. 'costs' - в формат числа с плавающей точкой float"
   ],
   "id": "ec2771491bd7a0c0"
  },
  {
   "metadata": {},
   "cell_type": "markdown",
   "source": "## 'bdate'",
   "id": "54a0a660a87a29d4"
  },
  {
   "metadata": {},
   "cell_type": "code",
   "outputs": [],
   "execution_count": null,
   "source": [
    "# для работы с данными формата даты и времени в Python существует специальный модуль - datetime,\n",
    "# однако в рамках текущего кейса вполне достаточно аналогичных методов pandas"
   ],
   "id": "fe4f9afd7ee39f24"
  },
  {
   "metadata": {
    "ExecuteTime": {
     "end_time": "2024-12-22T09:03:53.229875Z",
     "start_time": "2024-12-22T09:03:53.220316Z"
    }
   },
   "cell_type": "code",
   "source": "df_copy.bdate",
   "id": "710ce4b377624944",
   "outputs": [
    {
     "data": {
      "text/plain": [
       "0        1.1.2005\n",
       "1        1.1.1985\n",
       "2        1.1.1979\n",
       "3        1.1.2002\n",
       "4        1.1.1989\n",
       "          ...    \n",
       "3329     5.6.2008\n",
       "3330    24.7.1990\n",
       "3331    11.5.2006\n",
       "3332     3.4.2001\n",
       "3333    22.2.2000\n",
       "Name: bdate, Length: 3334, dtype: object"
      ]
     },
     "execution_count": 106,
     "metadata": {},
     "output_type": "execute_result"
    }
   ],
   "execution_count": 106
  },
  {
   "metadata": {
    "ExecuteTime": {
     "end_time": "2024-12-22T09:04:09.698011Z",
     "start_time": "2024-12-22T09:04:09.678984Z"
    }
   },
   "cell_type": "code",
   "source": [
    "# установим нужный формат данных с помощью метода to_datetime()\n",
    "# для корректного перевода значений укажем формат в параметре format,\n",
    "# где на первом месте стоит день, а далее месяц и год\n",
    "df_copy.bdate = pd.to_datetime(df_copy.bdate, format=\"%d.%m.%Y\")\n",
    "df_copy.bdate"
   ],
   "id": "736d9163bb0c016d",
   "outputs": [
    {
     "data": {
      "text/plain": [
       "0      2005-01-01\n",
       "1      1985-01-01\n",
       "2      1979-01-01\n",
       "3      2002-01-01\n",
       "4      1989-01-01\n",
       "          ...    \n",
       "3329   2008-06-05\n",
       "3330   1990-07-24\n",
       "3331   2006-05-11\n",
       "3332   2001-04-03\n",
       "3333   2000-02-22\n",
       "Name: bdate, Length: 3334, dtype: datetime64[ns]"
      ]
     },
     "execution_count": 107,
     "metadata": {},
     "output_type": "execute_result"
    }
   ],
   "execution_count": 107
  },
  {
   "metadata": {},
   "cell_type": "markdown",
   "source": "## 'last_seen'",
   "id": "5907f8f033c20aeb"
  },
  {
   "metadata": {
    "ExecuteTime": {
     "end_time": "2024-12-22T09:39:39.352791Z",
     "start_time": "2024-12-22T09:39:39.308138Z"
    }
   },
   "cell_type": "code",
   "source": "df_copy.last_seen",
   "id": "4b719351ee18ae2d",
   "outputs": [
    {
     "data": {
      "text/plain": [
       "0       1.662237e+09\n",
       "1       1.661322e+09\n",
       "2       1.662203e+09\n",
       "3       1.613708e+09\n",
       "4       1.619551e+09\n",
       "            ...     \n",
       "3329    1.662186e+09\n",
       "3330    1.658820e+09\n",
       "3331    1.662237e+09\n",
       "3332    1.662233e+09\n",
       "3333    1.661793e+09\n",
       "Name: last_seen, Length: 3334, dtype: float64"
      ]
     },
     "execution_count": 108,
     "metadata": {},
     "output_type": "execute_result"
    }
   ],
   "execution_count": 108
  },
  {
   "metadata": {
    "ExecuteTime": {
     "end_time": "2024-12-22T09:40:32.053712Z",
     "start_time": "2024-12-22T09:40:32.047938Z"
    }
   },
   "cell_type": "code",
   "source": [
    "# рассмотрим первое значение\n",
    "# данные представлены в формате Unix time\n",
    "df_copy.last_seen[0]"
   ],
   "id": "89818defdbddfb05",
   "outputs": [
    {
     "data": {
      "text/plain": [
       "np.float64(1662237362.0)"
      ]
     },
     "execution_count": 109,
     "metadata": {},
     "output_type": "execute_result"
    }
   ],
   "execution_count": 109
  },
  {
   "metadata": {
    "ExecuteTime": {
     "end_time": "2024-12-22T09:40:51.448716Z",
     "start_time": "2024-12-22T09:40:51.432574Z"
    }
   },
   "cell_type": "code",
   "source": [
    "# переведем значение в формат даты и времени с помощью метода to_datetime(),\n",
    "# указав параметры origin='unix' (система описания моментов во времени) и unit='s' (значение представляет собой секунды)\n",
    "# (параметр origin='unix' можно опустить, т.к. он принимает данное значение по умолчанию)\n",
    "pd.to_datetime(df_copy.last_seen[0], unit='s', origin='unix')"
   ],
   "id": "31d054a019adbe63",
   "outputs": [
    {
     "data": {
      "text/plain": [
       "Timestamp('2022-09-03 20:36:02')"
      ]
     },
     "execution_count": 110,
     "metadata": {},
     "output_type": "execute_result"
    }
   ],
   "execution_count": 110
  },
  {
   "metadata": {
    "ExecuteTime": {
     "end_time": "2024-12-22T09:41:11.134483Z",
     "start_time": "2024-12-22T09:41:11.128280Z"
    }
   },
   "cell_type": "code",
   "source": [
    "# альтернативный метод Timestamp.utcfromtimestamp() дает аналогичный результат\n",
    "pd.Timestamp.utcfromtimestamp(df_copy.last_seen[0])"
   ],
   "id": "9872fcdf23c6e6d0",
   "outputs": [
    {
     "data": {
      "text/plain": [
       "Timestamp('2022-09-03 20:36:02+0000', tz='UTC')"
      ]
     },
     "execution_count": 111,
     "metadata": {},
     "output_type": "execute_result"
    }
   ],
   "execution_count": 111
  },
  {
   "metadata": {
    "ExecuteTime": {
     "end_time": "2024-12-22T09:41:27.513920Z",
     "start_time": "2024-12-22T09:41:27.502477Z"
    }
   },
   "cell_type": "code",
   "source": [
    "# применим ко всему столбцу\n",
    "df_copy.last_seen = pd.to_datetime(df_copy.last_seen, unit='s')\n",
    "df_copy.last_seen"
   ],
   "id": "3195e90ec7f3aa59",
   "outputs": [
    {
     "data": {
      "text/plain": [
       "0      2022-09-03 20:36:02\n",
       "1      2022-08-24 06:16:43\n",
       "2      2022-09-03 10:56:59\n",
       "3      2021-02-19 04:15:36\n",
       "4      2021-04-27 19:12:50\n",
       "               ...        \n",
       "3329   2022-09-03 06:16:08\n",
       "3330   2022-07-26 07:20:57\n",
       "3331   2022-09-03 20:37:02\n",
       "3332   2022-09-03 19:15:23\n",
       "3333   2022-08-29 17:12:26\n",
       "Name: last_seen, Length: 3334, dtype: datetime64[ns]"
      ]
     },
     "execution_count": 112,
     "metadata": {},
     "output_type": "execute_result"
    }
   ],
   "execution_count": 112
  },
  {
   "metadata": {
    "ExecuteTime": {
     "end_time": "2024-12-22T09:41:57.098791Z",
     "start_time": "2024-12-22T09:41:57.078270Z"
    }
   },
   "cell_type": "code",
   "source": [
    "# отобразим данный признак в формате \"ДД.ММ.ГГГГ\" с помощью метода dt.strftime()\n",
    "# (если впоследствии необходимо работать со значениями признака как с датой, то преобразование делать не нужно,\n",
    "# т.к. метод переводит значения в строковый формат)\n",
    "df_copy.last_seen = df_copy.last_seen.dt.strftime('%d.%m.%Y')\n",
    "df_copy.last_seen"
   ],
   "id": "b08deb80473a0d0a",
   "outputs": [
    {
     "data": {
      "text/plain": [
       "0       03.09.2022\n",
       "1       24.08.2022\n",
       "2       03.09.2022\n",
       "3       19.02.2021\n",
       "4       27.04.2021\n",
       "           ...    \n",
       "3329    03.09.2022\n",
       "3330    26.07.2022\n",
       "3331    03.09.2022\n",
       "3332    03.09.2022\n",
       "3333    29.08.2022\n",
       "Name: last_seen, Length: 3334, dtype: object"
      ]
     },
     "execution_count": 113,
     "metadata": {},
     "output_type": "execute_result"
    }
   ],
   "execution_count": 113
  },
  {
   "metadata": {},
   "cell_type": "markdown",
   "source": "## 'followers_count'",
   "id": "724f7270cff87378"
  },
  {
   "metadata": {
    "ExecuteTime": {
     "end_time": "2024-12-22T09:42:25.289973Z",
     "start_time": "2024-12-22T09:42:25.283585Z"
    }
   },
   "cell_type": "code",
   "source": "df_copy.followers_count",
   "id": "a0b4f148b073a819",
   "outputs": [
    {
     "data": {
      "text/plain": [
       "0       39326.0\n",
       "1       19698.0\n",
       "2           NaN\n",
       "3           NaN\n",
       "4       31433.0\n",
       "         ...   \n",
       "3329        NaN\n",
       "3330        NaN\n",
       "3331        0.0\n",
       "3332        1.0\n",
       "3333        NaN\n",
       "Name: followers_count, Length: 3334, dtype: float64"
      ]
     },
     "execution_count": 114,
     "metadata": {},
     "output_type": "execute_result"
    }
   ],
   "execution_count": 114
  },
  {
   "metadata": {
    "ExecuteTime": {
     "end_time": "2024-12-22T09:42:38.325336Z",
     "start_time": "2024-12-22T09:42:37.479879Z"
    }
   },
   "cell_type": "code",
   "source": [
    "# переведем значения из float в int с помощью метода astype()\n",
    "df_copy.followers_count = df_copy.followers_count.astype('int')\n",
    "df_copy.followers_count"
   ],
   "id": "5f32ef55e039f91c",
   "outputs": [
    {
     "ename": "IntCastingNaNError",
     "evalue": "Cannot convert non-finite values (NA or inf) to integer",
     "output_type": "error",
     "traceback": [
      "\u001B[0;31m---------------------------------------------------------------------------\u001B[0m",
      "\u001B[0;31mIntCastingNaNError\u001B[0m                        Traceback (most recent call last)",
      "Cell \u001B[0;32mIn[115], line 2\u001B[0m\n\u001B[1;32m      1\u001B[0m \u001B[38;5;66;03m# переведем значения из float в int с помощью метода astype()\u001B[39;00m\n\u001B[0;32m----> 2\u001B[0m df_copy\u001B[38;5;241m.\u001B[39mfollowers_count \u001B[38;5;241m=\u001B[39m \u001B[43mdf_copy\u001B[49m\u001B[38;5;241;43m.\u001B[39;49m\u001B[43mfollowers_count\u001B[49m\u001B[38;5;241;43m.\u001B[39;49m\u001B[43mastype\u001B[49m\u001B[43m(\u001B[49m\u001B[38;5;124;43m'\u001B[39;49m\u001B[38;5;124;43mint\u001B[39;49m\u001B[38;5;124;43m'\u001B[39;49m\u001B[43m)\u001B[49m\n\u001B[1;32m      3\u001B[0m df_copy\u001B[38;5;241m.\u001B[39mfollowers_count\n",
      "File \u001B[0;32m~/PyCharmProjects/data-cleaning-learn/venv/lib/python3.12/site-packages/pandas/core/generic.py:6643\u001B[0m, in \u001B[0;36mNDFrame.astype\u001B[0;34m(self, dtype, copy, errors)\u001B[0m\n\u001B[1;32m   6637\u001B[0m     results \u001B[38;5;241m=\u001B[39m [\n\u001B[1;32m   6638\u001B[0m         ser\u001B[38;5;241m.\u001B[39mastype(dtype, copy\u001B[38;5;241m=\u001B[39mcopy, errors\u001B[38;5;241m=\u001B[39merrors) \u001B[38;5;28;01mfor\u001B[39;00m _, ser \u001B[38;5;129;01min\u001B[39;00m \u001B[38;5;28mself\u001B[39m\u001B[38;5;241m.\u001B[39mitems()\n\u001B[1;32m   6639\u001B[0m     ]\n\u001B[1;32m   6641\u001B[0m \u001B[38;5;28;01melse\u001B[39;00m:\n\u001B[1;32m   6642\u001B[0m     \u001B[38;5;66;03m# else, only a single dtype is given\u001B[39;00m\n\u001B[0;32m-> 6643\u001B[0m     new_data \u001B[38;5;241m=\u001B[39m \u001B[38;5;28;43mself\u001B[39;49m\u001B[38;5;241;43m.\u001B[39;49m\u001B[43m_mgr\u001B[49m\u001B[38;5;241;43m.\u001B[39;49m\u001B[43mastype\u001B[49m\u001B[43m(\u001B[49m\u001B[43mdtype\u001B[49m\u001B[38;5;241;43m=\u001B[39;49m\u001B[43mdtype\u001B[49m\u001B[43m,\u001B[49m\u001B[43m \u001B[49m\u001B[43mcopy\u001B[49m\u001B[38;5;241;43m=\u001B[39;49m\u001B[43mcopy\u001B[49m\u001B[43m,\u001B[49m\u001B[43m \u001B[49m\u001B[43merrors\u001B[49m\u001B[38;5;241;43m=\u001B[39;49m\u001B[43merrors\u001B[49m\u001B[43m)\u001B[49m\n\u001B[1;32m   6644\u001B[0m     res \u001B[38;5;241m=\u001B[39m \u001B[38;5;28mself\u001B[39m\u001B[38;5;241m.\u001B[39m_constructor_from_mgr(new_data, axes\u001B[38;5;241m=\u001B[39mnew_data\u001B[38;5;241m.\u001B[39maxes)\n\u001B[1;32m   6645\u001B[0m     \u001B[38;5;28;01mreturn\u001B[39;00m res\u001B[38;5;241m.\u001B[39m__finalize__(\u001B[38;5;28mself\u001B[39m, method\u001B[38;5;241m=\u001B[39m\u001B[38;5;124m\"\u001B[39m\u001B[38;5;124mastype\u001B[39m\u001B[38;5;124m\"\u001B[39m)\n",
      "File \u001B[0;32m~/PyCharmProjects/data-cleaning-learn/venv/lib/python3.12/site-packages/pandas/core/internals/managers.py:430\u001B[0m, in \u001B[0;36mBaseBlockManager.astype\u001B[0;34m(self, dtype, copy, errors)\u001B[0m\n\u001B[1;32m    427\u001B[0m \u001B[38;5;28;01melif\u001B[39;00m using_copy_on_write():\n\u001B[1;32m    428\u001B[0m     copy \u001B[38;5;241m=\u001B[39m \u001B[38;5;28;01mFalse\u001B[39;00m\n\u001B[0;32m--> 430\u001B[0m \u001B[38;5;28;01mreturn\u001B[39;00m \u001B[38;5;28;43mself\u001B[39;49m\u001B[38;5;241;43m.\u001B[39;49m\u001B[43mapply\u001B[49m\u001B[43m(\u001B[49m\n\u001B[1;32m    431\u001B[0m \u001B[43m    \u001B[49m\u001B[38;5;124;43m\"\u001B[39;49m\u001B[38;5;124;43mastype\u001B[39;49m\u001B[38;5;124;43m\"\u001B[39;49m\u001B[43m,\u001B[49m\n\u001B[1;32m    432\u001B[0m \u001B[43m    \u001B[49m\u001B[43mdtype\u001B[49m\u001B[38;5;241;43m=\u001B[39;49m\u001B[43mdtype\u001B[49m\u001B[43m,\u001B[49m\n\u001B[1;32m    433\u001B[0m \u001B[43m    \u001B[49m\u001B[43mcopy\u001B[49m\u001B[38;5;241;43m=\u001B[39;49m\u001B[43mcopy\u001B[49m\u001B[43m,\u001B[49m\n\u001B[1;32m    434\u001B[0m \u001B[43m    \u001B[49m\u001B[43merrors\u001B[49m\u001B[38;5;241;43m=\u001B[39;49m\u001B[43merrors\u001B[49m\u001B[43m,\u001B[49m\n\u001B[1;32m    435\u001B[0m \u001B[43m    \u001B[49m\u001B[43musing_cow\u001B[49m\u001B[38;5;241;43m=\u001B[39;49m\u001B[43musing_copy_on_write\u001B[49m\u001B[43m(\u001B[49m\u001B[43m)\u001B[49m\u001B[43m,\u001B[49m\n\u001B[1;32m    436\u001B[0m \u001B[43m\u001B[49m\u001B[43m)\u001B[49m\n",
      "File \u001B[0;32m~/PyCharmProjects/data-cleaning-learn/venv/lib/python3.12/site-packages/pandas/core/internals/managers.py:363\u001B[0m, in \u001B[0;36mBaseBlockManager.apply\u001B[0;34m(self, f, align_keys, **kwargs)\u001B[0m\n\u001B[1;32m    361\u001B[0m         applied \u001B[38;5;241m=\u001B[39m b\u001B[38;5;241m.\u001B[39mapply(f, \u001B[38;5;241m*\u001B[39m\u001B[38;5;241m*\u001B[39mkwargs)\n\u001B[1;32m    362\u001B[0m     \u001B[38;5;28;01melse\u001B[39;00m:\n\u001B[0;32m--> 363\u001B[0m         applied \u001B[38;5;241m=\u001B[39m \u001B[38;5;28;43mgetattr\u001B[39;49m\u001B[43m(\u001B[49m\u001B[43mb\u001B[49m\u001B[43m,\u001B[49m\u001B[43m \u001B[49m\u001B[43mf\u001B[49m\u001B[43m)\u001B[49m\u001B[43m(\u001B[49m\u001B[38;5;241;43m*\u001B[39;49m\u001B[38;5;241;43m*\u001B[39;49m\u001B[43mkwargs\u001B[49m\u001B[43m)\u001B[49m\n\u001B[1;32m    364\u001B[0m     result_blocks \u001B[38;5;241m=\u001B[39m extend_blocks(applied, result_blocks)\n\u001B[1;32m    366\u001B[0m out \u001B[38;5;241m=\u001B[39m \u001B[38;5;28mtype\u001B[39m(\u001B[38;5;28mself\u001B[39m)\u001B[38;5;241m.\u001B[39mfrom_blocks(result_blocks, \u001B[38;5;28mself\u001B[39m\u001B[38;5;241m.\u001B[39maxes)\n",
      "File \u001B[0;32m~/PyCharmProjects/data-cleaning-learn/venv/lib/python3.12/site-packages/pandas/core/internals/blocks.py:758\u001B[0m, in \u001B[0;36mBlock.astype\u001B[0;34m(self, dtype, copy, errors, using_cow, squeeze)\u001B[0m\n\u001B[1;32m    755\u001B[0m         \u001B[38;5;28;01mraise\u001B[39;00m \u001B[38;5;167;01mValueError\u001B[39;00m(\u001B[38;5;124m\"\u001B[39m\u001B[38;5;124mCan not squeeze with more than one column.\u001B[39m\u001B[38;5;124m\"\u001B[39m)\n\u001B[1;32m    756\u001B[0m     values \u001B[38;5;241m=\u001B[39m values[\u001B[38;5;241m0\u001B[39m, :]  \u001B[38;5;66;03m# type: ignore[call-overload]\u001B[39;00m\n\u001B[0;32m--> 758\u001B[0m new_values \u001B[38;5;241m=\u001B[39m \u001B[43mastype_array_safe\u001B[49m\u001B[43m(\u001B[49m\u001B[43mvalues\u001B[49m\u001B[43m,\u001B[49m\u001B[43m \u001B[49m\u001B[43mdtype\u001B[49m\u001B[43m,\u001B[49m\u001B[43m \u001B[49m\u001B[43mcopy\u001B[49m\u001B[38;5;241;43m=\u001B[39;49m\u001B[43mcopy\u001B[49m\u001B[43m,\u001B[49m\u001B[43m \u001B[49m\u001B[43merrors\u001B[49m\u001B[38;5;241;43m=\u001B[39;49m\u001B[43merrors\u001B[49m\u001B[43m)\u001B[49m\n\u001B[1;32m    760\u001B[0m new_values \u001B[38;5;241m=\u001B[39m maybe_coerce_values(new_values)\n\u001B[1;32m    762\u001B[0m refs \u001B[38;5;241m=\u001B[39m \u001B[38;5;28;01mNone\u001B[39;00m\n",
      "File \u001B[0;32m~/PyCharmProjects/data-cleaning-learn/venv/lib/python3.12/site-packages/pandas/core/dtypes/astype.py:237\u001B[0m, in \u001B[0;36mastype_array_safe\u001B[0;34m(values, dtype, copy, errors)\u001B[0m\n\u001B[1;32m    234\u001B[0m     dtype \u001B[38;5;241m=\u001B[39m dtype\u001B[38;5;241m.\u001B[39mnumpy_dtype\n\u001B[1;32m    236\u001B[0m \u001B[38;5;28;01mtry\u001B[39;00m:\n\u001B[0;32m--> 237\u001B[0m     new_values \u001B[38;5;241m=\u001B[39m \u001B[43mastype_array\u001B[49m\u001B[43m(\u001B[49m\u001B[43mvalues\u001B[49m\u001B[43m,\u001B[49m\u001B[43m \u001B[49m\u001B[43mdtype\u001B[49m\u001B[43m,\u001B[49m\u001B[43m \u001B[49m\u001B[43mcopy\u001B[49m\u001B[38;5;241;43m=\u001B[39;49m\u001B[43mcopy\u001B[49m\u001B[43m)\u001B[49m\n\u001B[1;32m    238\u001B[0m \u001B[38;5;28;01mexcept\u001B[39;00m (\u001B[38;5;167;01mValueError\u001B[39;00m, \u001B[38;5;167;01mTypeError\u001B[39;00m):\n\u001B[1;32m    239\u001B[0m     \u001B[38;5;66;03m# e.g. _astype_nansafe can fail on object-dtype of strings\u001B[39;00m\n\u001B[1;32m    240\u001B[0m     \u001B[38;5;66;03m#  trying to convert to float\u001B[39;00m\n\u001B[1;32m    241\u001B[0m     \u001B[38;5;28;01mif\u001B[39;00m errors \u001B[38;5;241m==\u001B[39m \u001B[38;5;124m\"\u001B[39m\u001B[38;5;124mignore\u001B[39m\u001B[38;5;124m\"\u001B[39m:\n",
      "File \u001B[0;32m~/PyCharmProjects/data-cleaning-learn/venv/lib/python3.12/site-packages/pandas/core/dtypes/astype.py:182\u001B[0m, in \u001B[0;36mastype_array\u001B[0;34m(values, dtype, copy)\u001B[0m\n\u001B[1;32m    179\u001B[0m     values \u001B[38;5;241m=\u001B[39m values\u001B[38;5;241m.\u001B[39mastype(dtype, copy\u001B[38;5;241m=\u001B[39mcopy)\n\u001B[1;32m    181\u001B[0m \u001B[38;5;28;01melse\u001B[39;00m:\n\u001B[0;32m--> 182\u001B[0m     values \u001B[38;5;241m=\u001B[39m \u001B[43m_astype_nansafe\u001B[49m\u001B[43m(\u001B[49m\u001B[43mvalues\u001B[49m\u001B[43m,\u001B[49m\u001B[43m \u001B[49m\u001B[43mdtype\u001B[49m\u001B[43m,\u001B[49m\u001B[43m \u001B[49m\u001B[43mcopy\u001B[49m\u001B[38;5;241;43m=\u001B[39;49m\u001B[43mcopy\u001B[49m\u001B[43m)\u001B[49m\n\u001B[1;32m    184\u001B[0m \u001B[38;5;66;03m# in pandas we don't store numpy str dtypes, so convert to object\u001B[39;00m\n\u001B[1;32m    185\u001B[0m \u001B[38;5;28;01mif\u001B[39;00m \u001B[38;5;28misinstance\u001B[39m(dtype, np\u001B[38;5;241m.\u001B[39mdtype) \u001B[38;5;129;01mand\u001B[39;00m \u001B[38;5;28missubclass\u001B[39m(values\u001B[38;5;241m.\u001B[39mdtype\u001B[38;5;241m.\u001B[39mtype, \u001B[38;5;28mstr\u001B[39m):\n",
      "File \u001B[0;32m~/PyCharmProjects/data-cleaning-learn/venv/lib/python3.12/site-packages/pandas/core/dtypes/astype.py:101\u001B[0m, in \u001B[0;36m_astype_nansafe\u001B[0;34m(arr, dtype, copy, skipna)\u001B[0m\n\u001B[1;32m     96\u001B[0m     \u001B[38;5;28;01mreturn\u001B[39;00m lib\u001B[38;5;241m.\u001B[39mensure_string_array(\n\u001B[1;32m     97\u001B[0m         arr, skipna\u001B[38;5;241m=\u001B[39mskipna, convert_na_value\u001B[38;5;241m=\u001B[39m\u001B[38;5;28;01mFalse\u001B[39;00m\n\u001B[1;32m     98\u001B[0m     )\u001B[38;5;241m.\u001B[39mreshape(shape)\n\u001B[1;32m    100\u001B[0m \u001B[38;5;28;01melif\u001B[39;00m np\u001B[38;5;241m.\u001B[39missubdtype(arr\u001B[38;5;241m.\u001B[39mdtype, np\u001B[38;5;241m.\u001B[39mfloating) \u001B[38;5;129;01mand\u001B[39;00m dtype\u001B[38;5;241m.\u001B[39mkind \u001B[38;5;129;01min\u001B[39;00m \u001B[38;5;124m\"\u001B[39m\u001B[38;5;124miu\u001B[39m\u001B[38;5;124m\"\u001B[39m:\n\u001B[0;32m--> 101\u001B[0m     \u001B[38;5;28;01mreturn\u001B[39;00m \u001B[43m_astype_float_to_int_nansafe\u001B[49m\u001B[43m(\u001B[49m\u001B[43marr\u001B[49m\u001B[43m,\u001B[49m\u001B[43m \u001B[49m\u001B[43mdtype\u001B[49m\u001B[43m,\u001B[49m\u001B[43m \u001B[49m\u001B[43mcopy\u001B[49m\u001B[43m)\u001B[49m\n\u001B[1;32m    103\u001B[0m \u001B[38;5;28;01melif\u001B[39;00m arr\u001B[38;5;241m.\u001B[39mdtype \u001B[38;5;241m==\u001B[39m \u001B[38;5;28mobject\u001B[39m:\n\u001B[1;32m    104\u001B[0m     \u001B[38;5;66;03m# if we have a datetime/timedelta array of objects\u001B[39;00m\n\u001B[1;32m    105\u001B[0m     \u001B[38;5;66;03m# then coerce to datetime64[ns] and use DatetimeArray.astype\u001B[39;00m\n\u001B[1;32m    107\u001B[0m     \u001B[38;5;28;01mif\u001B[39;00m lib\u001B[38;5;241m.\u001B[39mis_np_dtype(dtype, \u001B[38;5;124m\"\u001B[39m\u001B[38;5;124mM\u001B[39m\u001B[38;5;124m\"\u001B[39m):\n",
      "File \u001B[0;32m~/PyCharmProjects/data-cleaning-learn/venv/lib/python3.12/site-packages/pandas/core/dtypes/astype.py:145\u001B[0m, in \u001B[0;36m_astype_float_to_int_nansafe\u001B[0;34m(values, dtype, copy)\u001B[0m\n\u001B[1;32m    141\u001B[0m \u001B[38;5;250m\u001B[39m\u001B[38;5;124;03m\"\"\"\u001B[39;00m\n\u001B[1;32m    142\u001B[0m \u001B[38;5;124;03mastype with a check preventing converting NaN to an meaningless integer value.\u001B[39;00m\n\u001B[1;32m    143\u001B[0m \u001B[38;5;124;03m\"\"\"\u001B[39;00m\n\u001B[1;32m    144\u001B[0m \u001B[38;5;28;01mif\u001B[39;00m \u001B[38;5;129;01mnot\u001B[39;00m np\u001B[38;5;241m.\u001B[39misfinite(values)\u001B[38;5;241m.\u001B[39mall():\n\u001B[0;32m--> 145\u001B[0m     \u001B[38;5;28;01mraise\u001B[39;00m IntCastingNaNError(\n\u001B[1;32m    146\u001B[0m         \u001B[38;5;124m\"\u001B[39m\u001B[38;5;124mCannot convert non-finite values (NA or inf) to integer\u001B[39m\u001B[38;5;124m\"\u001B[39m\n\u001B[1;32m    147\u001B[0m     )\n\u001B[1;32m    148\u001B[0m \u001B[38;5;28;01mif\u001B[39;00m dtype\u001B[38;5;241m.\u001B[39mkind \u001B[38;5;241m==\u001B[39m \u001B[38;5;124m\"\u001B[39m\u001B[38;5;124mu\u001B[39m\u001B[38;5;124m\"\u001B[39m:\n\u001B[1;32m    149\u001B[0m     \u001B[38;5;66;03m# GH#45151\u001B[39;00m\n\u001B[1;32m    150\u001B[0m     \u001B[38;5;28;01mif\u001B[39;00m \u001B[38;5;129;01mnot\u001B[39;00m (values \u001B[38;5;241m>\u001B[39m\u001B[38;5;241m=\u001B[39m \u001B[38;5;241m0\u001B[39m)\u001B[38;5;241m.\u001B[39mall():\n",
      "\u001B[0;31mIntCastingNaNError\u001B[0m: Cannot convert non-finite values (NA or inf) to integer"
     ]
    }
   ],
   "execution_count": 115
  },
  {
   "metadata": {
    "ExecuteTime": {
     "end_time": "2024-12-22T09:42:49.159478Z",
     "start_time": "2024-12-22T09:42:49.148611Z"
    }
   },
   "cell_type": "code",
   "source": [
    "# ошибка, связанная с наличием пропущенных значений по признаку\n",
    "# вместо классического питоновского типа данных 'int' применим тип данных 'Int64', используемый NumPy и Pandas\n",
    "df_copy.followers_count = df_copy.followers_count.astype('Int64')\n",
    "df_copy.followers_count"
   ],
   "id": "d2e83b4c5a621db7",
   "outputs": [
    {
     "data": {
      "text/plain": [
       "0       39326\n",
       "1       19698\n",
       "2        <NA>\n",
       "3        <NA>\n",
       "4       31433\n",
       "        ...  \n",
       "3329     <NA>\n",
       "3330     <NA>\n",
       "3331        0\n",
       "3332        1\n",
       "3333     <NA>\n",
       "Name: followers_count, Length: 3334, dtype: Int64"
      ]
     },
     "execution_count": 116,
     "metadata": {},
     "output_type": "execute_result"
    }
   ],
   "execution_count": 116
  },
  {
   "metadata": {},
   "cell_type": "markdown",
   "source": "## 'costs'",
   "id": "2ce06db137b1537c"
  },
  {
   "metadata": {
    "ExecuteTime": {
     "end_time": "2024-12-22T09:43:11.911578Z",
     "start_time": "2024-12-22T09:43:11.906207Z"
    }
   },
   "cell_type": "code",
   "source": "df_copy.costs",
   "id": "9faf73b53a9c50e6",
   "outputs": [
    {
     "data": {
      "text/plain": [
       "0        25000\n",
       "1        50000\n",
       "2        75000\n",
       "3       100000\n",
       "4       100000\n",
       "         ...  \n",
       "3329     50000\n",
       "3330     50000\n",
       "3331     50000\n",
       "3332     25000\n",
       "3333     25000\n",
       "Name: costs, Length: 3334, dtype: object"
      ]
     },
     "execution_count": 117,
     "metadata": {},
     "output_type": "execute_result"
    }
   ],
   "execution_count": 117
  },
  {
   "metadata": {
    "ExecuteTime": {
     "end_time": "2024-12-22T09:43:19.824004Z",
     "start_time": "2024-12-22T09:43:19.809778Z"
    }
   },
   "cell_type": "code",
   "source": [
    "# переведем данные в числовой формат с помощью метода to_numeric()\n",
    "# параметр downcast='float' принудительно переводит в тип float\n",
    "df_copy.costs = pd.to_numeric(df_copy.costs, downcast='float')\n",
    "df_copy.costs"
   ],
   "id": "4e50ffcd7800ef0b",
   "outputs": [
    {
     "data": {
      "text/plain": [
       "0        25000.0\n",
       "1        50000.0\n",
       "2        75000.0\n",
       "3       100000.0\n",
       "4       100000.0\n",
       "          ...   \n",
       "3329     50000.0\n",
       "3330     50000.0\n",
       "3331     50000.0\n",
       "3332     25000.0\n",
       "3333     25000.0\n",
       "Name: costs, Length: 3334, dtype: float32"
      ]
     },
     "execution_count": 118,
     "metadata": {},
     "output_type": "execute_result"
    }
   ],
   "execution_count": 118
  },
  {
   "metadata": {},
   "cell_type": "markdown",
   "source": "## Расчет дополнительных признаков",
   "id": "689ce8d8b3a39cbd"
  },
  {
   "metadata": {},
   "cell_type": "markdown",
   "source": "### 'age'",
   "id": "8c6a6efdfea6600d"
  },
  {
   "metadata": {
    "ExecuteTime": {
     "end_time": "2024-12-22T09:59:19.107629Z",
     "start_time": "2024-12-22T09:59:19.102563Z"
    }
   },
   "cell_type": "code",
   "source": [
    "# для расчета необходимо из текущей даты вычесть дату рождения (признак \"bdate\")\n",
    "# текущую дату можно получить с помощью метода Timestamp.today()\n",
    "current_day = pd.Timestamp.today()\n",
    "current_day"
   ],
   "id": "6acfbbb8e8b7514f",
   "outputs": [
    {
     "data": {
      "text/plain": [
       "Timestamp('2024-12-22 14:59:19.103908')"
      ]
     },
     "execution_count": 120,
     "metadata": {},
     "output_type": "execute_result"
    }
   ],
   "execution_count": 120
  },
  {
   "metadata": {
    "ExecuteTime": {
     "end_time": "2024-12-22T09:59:33.255555Z",
     "start_time": "2024-12-22T09:59:33.250896Z"
    }
   },
   "cell_type": "code",
   "source": [
    "# извлечем значение года из даты с помощью атрибута year\n",
    "current_year = current_day.year\n",
    "current_year"
   ],
   "id": "ead4c85efd9a2706",
   "outputs": [
    {
     "data": {
      "text/plain": [
       "2024"
      ]
     },
     "execution_count": 121,
     "metadata": {},
     "output_type": "execute_result"
    }
   ],
   "execution_count": 121
  },
  {
   "metadata": {
    "ExecuteTime": {
     "end_time": "2024-12-22T09:59:57.155158Z",
     "start_time": "2024-12-22T09:59:56.967943Z"
    }
   },
   "cell_type": "code",
   "source": [
    "# рассчитаем значения возраста и сохраним полученные значения в признак age\n",
    "# при этом необходимо каждую дату рождения перевести в значение года аналогично через атрибут year\n",
    "# для получения доступа к каждому значению объекта Series \"bdate\" используем метод apply() и lambda-функцию\n",
    "df_copy['age'] = current_year - df_copy.bdate.apply(lambda x: x.year)\n",
    "df_copy.age"
   ],
   "id": "9fdbf7e1b9a55c1d",
   "outputs": [
    {
     "data": {
      "text/plain": [
       "0       19\n",
       "1       39\n",
       "2       45\n",
       "3       22\n",
       "4       35\n",
       "        ..\n",
       "3329    16\n",
       "3330    34\n",
       "3331    18\n",
       "3332    23\n",
       "3333    24\n",
       "Name: age, Length: 3334, dtype: int64"
      ]
     },
     "execution_count": 122,
     "metadata": {},
     "output_type": "execute_result"
    }
   ],
   "execution_count": 122
  },
  {
   "metadata": {
    "ExecuteTime": {
     "end_time": "2024-12-22T10:09:12.838967Z",
     "start_time": "2024-12-22T10:09:12.825677Z"
    }
   },
   "cell_type": "code",
   "source": [
    "# исключим исходный столбец bdate\n",
    "df_copy.drop(columns='bdate', inplace=True)"
   ],
   "id": "bc7394fc2201279",
   "outputs": [],
   "execution_count": 123
  },
  {
   "metadata": {
    "ExecuteTime": {
     "end_time": "2024-12-22T10:09:22.853096Z",
     "start_time": "2024-12-22T10:09:22.848534Z"
    }
   },
   "cell_type": "code",
   "source": [
    "# контроль результата\n",
    "df_copy.columns"
   ],
   "id": "c701be1345edb30b",
   "outputs": [
    {
     "data": {
      "text/plain": [
       "Index(['id', 'city', 'country', 'last_seen', 'followers_count', 'sex', 'costs',\n",
       "       'currency', 'games', 'age'],\n",
       "      dtype='object')"
      ]
     },
     "execution_count": 124,
     "metadata": {},
     "output_type": "execute_result"
    }
   ],
   "execution_count": 124
  },
  {
   "metadata": {},
   "cell_type": "markdown",
   "source": "### 'costs_to_rur'",
   "id": "62eaab53ad2d9cbe"
  },
  {
   "metadata": {
    "ExecuteTime": {
     "end_time": "2024-12-22T10:09:59.132908Z",
     "start_time": "2024-12-22T10:09:59.123102Z"
    }
   },
   "cell_type": "code",
   "source": "df_copy[['costs', 'currency']]",
   "id": "782a57e0f2af9a05",
   "outputs": [
    {
     "data": {
      "text/plain": [
       "         costs currency\n",
       "0      25000.0      RUR\n",
       "1      50000.0      RUR\n",
       "2      75000.0      RUR\n",
       "3     100000.0      RUR\n",
       "4     100000.0      RUR\n",
       "...        ...      ...\n",
       "3329   50000.0      RUR\n",
       "3330   50000.0      RUR\n",
       "3331   50000.0      RUR\n",
       "3332   25000.0      RUR\n",
       "3333   25000.0      RUR\n",
       "\n",
       "[3334 rows x 2 columns]"
      ],
      "text/html": [
       "<div>\n",
       "<style scoped>\n",
       "    .dataframe tbody tr th:only-of-type {\n",
       "        vertical-align: middle;\n",
       "    }\n",
       "\n",
       "    .dataframe tbody tr th {\n",
       "        vertical-align: top;\n",
       "    }\n",
       "\n",
       "    .dataframe thead th {\n",
       "        text-align: right;\n",
       "    }\n",
       "</style>\n",
       "<table border=\"1\" class=\"dataframe\">\n",
       "  <thead>\n",
       "    <tr style=\"text-align: right;\">\n",
       "      <th></th>\n",
       "      <th>costs</th>\n",
       "      <th>currency</th>\n",
       "    </tr>\n",
       "  </thead>\n",
       "  <tbody>\n",
       "    <tr>\n",
       "      <th>0</th>\n",
       "      <td>25000.0</td>\n",
       "      <td>RUR</td>\n",
       "    </tr>\n",
       "    <tr>\n",
       "      <th>1</th>\n",
       "      <td>50000.0</td>\n",
       "      <td>RUR</td>\n",
       "    </tr>\n",
       "    <tr>\n",
       "      <th>2</th>\n",
       "      <td>75000.0</td>\n",
       "      <td>RUR</td>\n",
       "    </tr>\n",
       "    <tr>\n",
       "      <th>3</th>\n",
       "      <td>100000.0</td>\n",
       "      <td>RUR</td>\n",
       "    </tr>\n",
       "    <tr>\n",
       "      <th>4</th>\n",
       "      <td>100000.0</td>\n",
       "      <td>RUR</td>\n",
       "    </tr>\n",
       "    <tr>\n",
       "      <th>...</th>\n",
       "      <td>...</td>\n",
       "      <td>...</td>\n",
       "    </tr>\n",
       "    <tr>\n",
       "      <th>3329</th>\n",
       "      <td>50000.0</td>\n",
       "      <td>RUR</td>\n",
       "    </tr>\n",
       "    <tr>\n",
       "      <th>3330</th>\n",
       "      <td>50000.0</td>\n",
       "      <td>RUR</td>\n",
       "    </tr>\n",
       "    <tr>\n",
       "      <th>3331</th>\n",
       "      <td>50000.0</td>\n",
       "      <td>RUR</td>\n",
       "    </tr>\n",
       "    <tr>\n",
       "      <th>3332</th>\n",
       "      <td>25000.0</td>\n",
       "      <td>RUR</td>\n",
       "    </tr>\n",
       "    <tr>\n",
       "      <th>3333</th>\n",
       "      <td>25000.0</td>\n",
       "      <td>RUR</td>\n",
       "    </tr>\n",
       "  </tbody>\n",
       "</table>\n",
       "<p>3334 rows × 2 columns</p>\n",
       "</div>"
      ]
     },
     "execution_count": 125,
     "metadata": {},
     "output_type": "execute_result"
    }
   ],
   "execution_count": 125
  },
  {
   "metadata": {
    "ExecuteTime": {
     "end_time": "2024-12-22T10:10:32.290176Z",
     "start_time": "2024-12-22T10:10:32.284887Z"
    }
   },
   "cell_type": "code",
   "source": [
    "# проверим список уникальных значений с помощью метода unique()\n",
    "df_copy['currency'].unique()"
   ],
   "id": "d8a04068be9a479e",
   "outputs": [
    {
     "data": {
      "text/plain": [
       "array(['RUR', 'USD', 'KZT', 'EUR'], dtype=object)"
      ]
     },
     "execution_count": 126,
     "metadata": {},
     "output_type": "execute_result"
    }
   ],
   "execution_count": 126
  },
  {
   "metadata": {
    "ExecuteTime": {
     "end_time": "2024-12-22T10:10:46.894196Z",
     "start_time": "2024-12-22T10:10:46.890850Z"
    }
   },
   "cell_type": "code",
   "source": [
    "# необходимо привести значения к единой валюте - рублям\n",
    "# создадим словарь значений (курс валют выберем на текущую дату обработки данных)\n",
    "rates = dict(RUR=1, USD=60.51, EUR=62.42, KZT=0.13)"
   ],
   "id": "3ea2963e52751538",
   "outputs": [],
   "execution_count": 127
  },
  {
   "metadata": {
    "ExecuteTime": {
     "end_time": "2024-12-22T10:11:00.274879Z",
     "start_time": "2024-12-22T10:11:00.267802Z"
    }
   },
   "cell_type": "code",
   "source": [
    "# рассчитаем столбец costs_to_rur по формуле (rates * costs),\n",
    "# при этом применяя курс в зависимости от указанной валюты\n",
    "# посредством замены значений из словаря rates с помощью метода map()\n",
    "df_copy['costs_to_rur'] = df_copy['currency'].map(rates) * df_copy['costs']\n",
    "df_copy['costs_to_rur']"
   ],
   "id": "8d679d48487c495",
   "outputs": [
    {
     "data": {
      "text/plain": [
       "0        25000.0\n",
       "1        50000.0\n",
       "2        75000.0\n",
       "3       100000.0\n",
       "4       100000.0\n",
       "          ...   \n",
       "3329     50000.0\n",
       "3330     50000.0\n",
       "3331     50000.0\n",
       "3332     25000.0\n",
       "3333     25000.0\n",
       "Name: costs_to_rur, Length: 3334, dtype: float64"
      ]
     },
     "execution_count": 128,
     "metadata": {},
     "output_type": "execute_result"
    }
   ],
   "execution_count": 128
  },
  {
   "metadata": {
    "ExecuteTime": {
     "end_time": "2024-12-22T10:12:06.832762Z",
     "start_time": "2024-12-22T10:12:06.827669Z"
    }
   },
   "cell_type": "code",
   "source": [
    "# исключим столбцы costs и currency\n",
    "df_copy.drop(columns=['costs', 'currency'], inplace=True)"
   ],
   "id": "22e89009ecf10039",
   "outputs": [],
   "execution_count": 129
  },
  {
   "metadata": {
    "ExecuteTime": {
     "end_time": "2024-12-22T10:12:08.819602Z",
     "start_time": "2024-12-22T10:12:08.815169Z"
    }
   },
   "cell_type": "code",
   "source": [
    "# контроль результата\n",
    "df_copy.columns"
   ],
   "id": "78763c74968fa849",
   "outputs": [
    {
     "data": {
      "text/plain": [
       "Index(['id', 'city', 'country', 'last_seen', 'followers_count', 'sex', 'games',\n",
       "       'age', 'costs_to_rur'],\n",
       "      dtype='object')"
      ]
     },
     "execution_count": 130,
     "metadata": {},
     "output_type": "execute_result"
    }
   ],
   "execution_count": 130
  },
  {
   "metadata": {},
   "cell_type": "markdown",
   "source": "## Декодирование значений",
   "id": "61cf5f4c42164e4c"
  },
  {
   "metadata": {},
   "cell_type": "markdown",
   "source": "### 'sex'",
   "id": "d1fb105a9b9a54fd"
  },
  {
   "metadata": {},
   "cell_type": "code",
   "outputs": [],
   "execution_count": null,
   "source": [
    "# по тех документации ВКонтакте:\n",
    "# 1 - женский пол,\n",
    "# 2 - мужской пол,\n",
    "# 0 - пол не указан"
   ],
   "id": "cc262ab8db5d9b57"
  },
  {
   "metadata": {
    "ExecuteTime": {
     "end_time": "2024-12-22T10:12:50.054354Z",
     "start_time": "2024-12-22T10:12:50.048224Z"
    }
   },
   "cell_type": "code",
   "source": [
    "# проверим список уникальных значений с помощью метода unique()\n",
    "df_copy.sex.unique()"
   ],
   "id": "8b542b5fb3434ea5",
   "outputs": [
    {
     "data": {
      "text/plain": [
       "array([1, 2])"
      ]
     },
     "execution_count": 131,
     "metadata": {},
     "output_type": "execute_result"
    }
   ],
   "execution_count": 131
  },
  {
   "metadata": {
    "ExecuteTime": {
     "end_time": "2024-12-22T10:13:06.598578Z",
     "start_time": "2024-12-22T10:13:06.595420Z"
    }
   },
   "cell_type": "code",
   "source": [
    "# создадим словарь значений в соответствии с тех документацией ВКонтакте\n",
    "sex_dict = {1: \"женский\", 2: \"мужской\", 0: \"не указан\"}"
   ],
   "id": "681c68f7c632fe96",
   "outputs": [],
   "execution_count": 132
  },
  {
   "metadata": {
    "ExecuteTime": {
     "end_time": "2024-12-22T10:13:32.864174Z",
     "start_time": "2024-12-22T10:13:32.807502Z"
    }
   },
   "cell_type": "code",
   "source": [
    "# декодируем значения\n",
    "# (для получения доступа к каждому значению объекта Series \"sex\" используем метод apply() и lambda-функцию)\n",
    "df_copy.sex = df_copy.sex.apply(lambda x: sex_dict[x])"
   ],
   "id": "c752806dc5f5a26c",
   "outputs": [
    {
     "ename": "KeyError",
     "evalue": "'женский'",
     "output_type": "error",
     "traceback": [
      "\u001B[0;31m---------------------------------------------------------------------------\u001B[0m",
      "\u001B[0;31mKeyError\u001B[0m                                  Traceback (most recent call last)",
      "Cell \u001B[0;32mIn[134], line 3\u001B[0m\n\u001B[1;32m      1\u001B[0m \u001B[38;5;66;03m# декодируем значения\u001B[39;00m\n\u001B[1;32m      2\u001B[0m \u001B[38;5;66;03m# (для получения доступа к каждому значению объекта Series \"sex\" используем метод apply() и lambda-функцию)\u001B[39;00m\n\u001B[0;32m----> 3\u001B[0m df_copy\u001B[38;5;241m.\u001B[39msex \u001B[38;5;241m=\u001B[39m \u001B[43mdf_copy\u001B[49m\u001B[38;5;241;43m.\u001B[39;49m\u001B[43msex\u001B[49m\u001B[38;5;241;43m.\u001B[39;49m\u001B[43mapply\u001B[49m\u001B[43m(\u001B[49m\u001B[38;5;28;43;01mlambda\u001B[39;49;00m\u001B[43m \u001B[49m\u001B[43mx\u001B[49m\u001B[43m:\u001B[49m\u001B[43m \u001B[49m\u001B[43msex_dict\u001B[49m\u001B[43m[\u001B[49m\u001B[43mx\u001B[49m\u001B[43m]\u001B[49m\u001B[43m)\u001B[49m\n",
      "File \u001B[0;32m~/PyCharmProjects/data-cleaning-learn/venv/lib/python3.12/site-packages/pandas/core/series.py:4924\u001B[0m, in \u001B[0;36mSeries.apply\u001B[0;34m(self, func, convert_dtype, args, by_row, **kwargs)\u001B[0m\n\u001B[1;32m   4789\u001B[0m \u001B[38;5;28;01mdef\u001B[39;00m \u001B[38;5;21mapply\u001B[39m(\n\u001B[1;32m   4790\u001B[0m     \u001B[38;5;28mself\u001B[39m,\n\u001B[1;32m   4791\u001B[0m     func: AggFuncType,\n\u001B[0;32m   (...)\u001B[0m\n\u001B[1;32m   4796\u001B[0m     \u001B[38;5;241m*\u001B[39m\u001B[38;5;241m*\u001B[39mkwargs,\n\u001B[1;32m   4797\u001B[0m ) \u001B[38;5;241m-\u001B[39m\u001B[38;5;241m>\u001B[39m DataFrame \u001B[38;5;241m|\u001B[39m Series:\n\u001B[1;32m   4798\u001B[0m \u001B[38;5;250m    \u001B[39m\u001B[38;5;124;03m\"\"\"\u001B[39;00m\n\u001B[1;32m   4799\u001B[0m \u001B[38;5;124;03m    Invoke function on values of Series.\u001B[39;00m\n\u001B[1;32m   4800\u001B[0m \n\u001B[0;32m   (...)\u001B[0m\n\u001B[1;32m   4915\u001B[0m \u001B[38;5;124;03m    dtype: float64\u001B[39;00m\n\u001B[1;32m   4916\u001B[0m \u001B[38;5;124;03m    \"\"\"\u001B[39;00m\n\u001B[1;32m   4917\u001B[0m     \u001B[38;5;28;01mreturn\u001B[39;00m \u001B[43mSeriesApply\u001B[49m\u001B[43m(\u001B[49m\n\u001B[1;32m   4918\u001B[0m \u001B[43m        \u001B[49m\u001B[38;5;28;43mself\u001B[39;49m\u001B[43m,\u001B[49m\n\u001B[1;32m   4919\u001B[0m \u001B[43m        \u001B[49m\u001B[43mfunc\u001B[49m\u001B[43m,\u001B[49m\n\u001B[1;32m   4920\u001B[0m \u001B[43m        \u001B[49m\u001B[43mconvert_dtype\u001B[49m\u001B[38;5;241;43m=\u001B[39;49m\u001B[43mconvert_dtype\u001B[49m\u001B[43m,\u001B[49m\n\u001B[1;32m   4921\u001B[0m \u001B[43m        \u001B[49m\u001B[43mby_row\u001B[49m\u001B[38;5;241;43m=\u001B[39;49m\u001B[43mby_row\u001B[49m\u001B[43m,\u001B[49m\n\u001B[1;32m   4922\u001B[0m \u001B[43m        \u001B[49m\u001B[43margs\u001B[49m\u001B[38;5;241;43m=\u001B[39;49m\u001B[43margs\u001B[49m\u001B[43m,\u001B[49m\n\u001B[1;32m   4923\u001B[0m \u001B[43m        \u001B[49m\u001B[43mkwargs\u001B[49m\u001B[38;5;241;43m=\u001B[39;49m\u001B[43mkwargs\u001B[49m\u001B[43m,\u001B[49m\n\u001B[0;32m-> 4924\u001B[0m \u001B[43m    \u001B[49m\u001B[43m)\u001B[49m\u001B[38;5;241;43m.\u001B[39;49m\u001B[43mapply\u001B[49m\u001B[43m(\u001B[49m\u001B[43m)\u001B[49m\n",
      "File \u001B[0;32m~/PyCharmProjects/data-cleaning-learn/venv/lib/python3.12/site-packages/pandas/core/apply.py:1427\u001B[0m, in \u001B[0;36mSeriesApply.apply\u001B[0;34m(self)\u001B[0m\n\u001B[1;32m   1424\u001B[0m     \u001B[38;5;28;01mreturn\u001B[39;00m \u001B[38;5;28mself\u001B[39m\u001B[38;5;241m.\u001B[39mapply_compat()\n\u001B[1;32m   1426\u001B[0m \u001B[38;5;66;03m# self.func is Callable\u001B[39;00m\n\u001B[0;32m-> 1427\u001B[0m \u001B[38;5;28;01mreturn\u001B[39;00m \u001B[38;5;28;43mself\u001B[39;49m\u001B[38;5;241;43m.\u001B[39;49m\u001B[43mapply_standard\u001B[49m\u001B[43m(\u001B[49m\u001B[43m)\u001B[49m\n",
      "File \u001B[0;32m~/PyCharmProjects/data-cleaning-learn/venv/lib/python3.12/site-packages/pandas/core/apply.py:1507\u001B[0m, in \u001B[0;36mSeriesApply.apply_standard\u001B[0;34m(self)\u001B[0m\n\u001B[1;32m   1501\u001B[0m \u001B[38;5;66;03m# row-wise access\u001B[39;00m\n\u001B[1;32m   1502\u001B[0m \u001B[38;5;66;03m# apply doesn't have a `na_action` keyword and for backward compat reasons\u001B[39;00m\n\u001B[1;32m   1503\u001B[0m \u001B[38;5;66;03m# we need to give `na_action=\"ignore\"` for categorical data.\u001B[39;00m\n\u001B[1;32m   1504\u001B[0m \u001B[38;5;66;03m# TODO: remove the `na_action=\"ignore\"` when that default has been changed in\u001B[39;00m\n\u001B[1;32m   1505\u001B[0m \u001B[38;5;66;03m#  Categorical (GH51645).\u001B[39;00m\n\u001B[1;32m   1506\u001B[0m action \u001B[38;5;241m=\u001B[39m \u001B[38;5;124m\"\u001B[39m\u001B[38;5;124mignore\u001B[39m\u001B[38;5;124m\"\u001B[39m \u001B[38;5;28;01mif\u001B[39;00m \u001B[38;5;28misinstance\u001B[39m(obj\u001B[38;5;241m.\u001B[39mdtype, CategoricalDtype) \u001B[38;5;28;01melse\u001B[39;00m \u001B[38;5;28;01mNone\u001B[39;00m\n\u001B[0;32m-> 1507\u001B[0m mapped \u001B[38;5;241m=\u001B[39m \u001B[43mobj\u001B[49m\u001B[38;5;241;43m.\u001B[39;49m\u001B[43m_map_values\u001B[49m\u001B[43m(\u001B[49m\n\u001B[1;32m   1508\u001B[0m \u001B[43m    \u001B[49m\u001B[43mmapper\u001B[49m\u001B[38;5;241;43m=\u001B[39;49m\u001B[43mcurried\u001B[49m\u001B[43m,\u001B[49m\u001B[43m \u001B[49m\u001B[43mna_action\u001B[49m\u001B[38;5;241;43m=\u001B[39;49m\u001B[43maction\u001B[49m\u001B[43m,\u001B[49m\u001B[43m \u001B[49m\u001B[43mconvert\u001B[49m\u001B[38;5;241;43m=\u001B[39;49m\u001B[38;5;28;43mself\u001B[39;49m\u001B[38;5;241;43m.\u001B[39;49m\u001B[43mconvert_dtype\u001B[49m\n\u001B[1;32m   1509\u001B[0m \u001B[43m\u001B[49m\u001B[43m)\u001B[49m\n\u001B[1;32m   1511\u001B[0m \u001B[38;5;28;01mif\u001B[39;00m \u001B[38;5;28mlen\u001B[39m(mapped) \u001B[38;5;129;01mand\u001B[39;00m \u001B[38;5;28misinstance\u001B[39m(mapped[\u001B[38;5;241m0\u001B[39m], ABCSeries):\n\u001B[1;32m   1512\u001B[0m     \u001B[38;5;66;03m# GH#43986 Need to do list(mapped) in order to get treated as nested\u001B[39;00m\n\u001B[1;32m   1513\u001B[0m     \u001B[38;5;66;03m#  See also GH#25959 regarding EA support\u001B[39;00m\n\u001B[1;32m   1514\u001B[0m     \u001B[38;5;28;01mreturn\u001B[39;00m obj\u001B[38;5;241m.\u001B[39m_constructor_expanddim(\u001B[38;5;28mlist\u001B[39m(mapped), index\u001B[38;5;241m=\u001B[39mobj\u001B[38;5;241m.\u001B[39mindex)\n",
      "File \u001B[0;32m~/PyCharmProjects/data-cleaning-learn/venv/lib/python3.12/site-packages/pandas/core/base.py:921\u001B[0m, in \u001B[0;36mIndexOpsMixin._map_values\u001B[0;34m(self, mapper, na_action, convert)\u001B[0m\n\u001B[1;32m    918\u001B[0m \u001B[38;5;28;01mif\u001B[39;00m \u001B[38;5;28misinstance\u001B[39m(arr, ExtensionArray):\n\u001B[1;32m    919\u001B[0m     \u001B[38;5;28;01mreturn\u001B[39;00m arr\u001B[38;5;241m.\u001B[39mmap(mapper, na_action\u001B[38;5;241m=\u001B[39mna_action)\n\u001B[0;32m--> 921\u001B[0m \u001B[38;5;28;01mreturn\u001B[39;00m \u001B[43malgorithms\u001B[49m\u001B[38;5;241;43m.\u001B[39;49m\u001B[43mmap_array\u001B[49m\u001B[43m(\u001B[49m\u001B[43marr\u001B[49m\u001B[43m,\u001B[49m\u001B[43m \u001B[49m\u001B[43mmapper\u001B[49m\u001B[43m,\u001B[49m\u001B[43m \u001B[49m\u001B[43mna_action\u001B[49m\u001B[38;5;241;43m=\u001B[39;49m\u001B[43mna_action\u001B[49m\u001B[43m,\u001B[49m\u001B[43m \u001B[49m\u001B[43mconvert\u001B[49m\u001B[38;5;241;43m=\u001B[39;49m\u001B[43mconvert\u001B[49m\u001B[43m)\u001B[49m\n",
      "File \u001B[0;32m~/PyCharmProjects/data-cleaning-learn/venv/lib/python3.12/site-packages/pandas/core/algorithms.py:1743\u001B[0m, in \u001B[0;36mmap_array\u001B[0;34m(arr, mapper, na_action, convert)\u001B[0m\n\u001B[1;32m   1741\u001B[0m values \u001B[38;5;241m=\u001B[39m arr\u001B[38;5;241m.\u001B[39mastype(\u001B[38;5;28mobject\u001B[39m, copy\u001B[38;5;241m=\u001B[39m\u001B[38;5;28;01mFalse\u001B[39;00m)\n\u001B[1;32m   1742\u001B[0m \u001B[38;5;28;01mif\u001B[39;00m na_action \u001B[38;5;129;01mis\u001B[39;00m \u001B[38;5;28;01mNone\u001B[39;00m:\n\u001B[0;32m-> 1743\u001B[0m     \u001B[38;5;28;01mreturn\u001B[39;00m \u001B[43mlib\u001B[49m\u001B[38;5;241;43m.\u001B[39;49m\u001B[43mmap_infer\u001B[49m\u001B[43m(\u001B[49m\u001B[43mvalues\u001B[49m\u001B[43m,\u001B[49m\u001B[43m \u001B[49m\u001B[43mmapper\u001B[49m\u001B[43m,\u001B[49m\u001B[43m \u001B[49m\u001B[43mconvert\u001B[49m\u001B[38;5;241;43m=\u001B[39;49m\u001B[43mconvert\u001B[49m\u001B[43m)\u001B[49m\n\u001B[1;32m   1744\u001B[0m \u001B[38;5;28;01melse\u001B[39;00m:\n\u001B[1;32m   1745\u001B[0m     \u001B[38;5;28;01mreturn\u001B[39;00m lib\u001B[38;5;241m.\u001B[39mmap_infer_mask(\n\u001B[1;32m   1746\u001B[0m         values, mapper, mask\u001B[38;5;241m=\u001B[39misna(values)\u001B[38;5;241m.\u001B[39mview(np\u001B[38;5;241m.\u001B[39muint8), convert\u001B[38;5;241m=\u001B[39mconvert\n\u001B[1;32m   1747\u001B[0m     )\n",
      "File \u001B[0;32mlib.pyx:2972\u001B[0m, in \u001B[0;36mpandas._libs.lib.map_infer\u001B[0;34m()\u001B[0m\n",
      "Cell \u001B[0;32mIn[134], line 3\u001B[0m, in \u001B[0;36m<lambda>\u001B[0;34m(x)\u001B[0m\n\u001B[1;32m      1\u001B[0m \u001B[38;5;66;03m# декодируем значения\u001B[39;00m\n\u001B[1;32m      2\u001B[0m \u001B[38;5;66;03m# (для получения доступа к каждому значению объекта Series \"sex\" используем метод apply() и lambda-функцию)\u001B[39;00m\n\u001B[0;32m----> 3\u001B[0m df_copy\u001B[38;5;241m.\u001B[39msex \u001B[38;5;241m=\u001B[39m df_copy\u001B[38;5;241m.\u001B[39msex\u001B[38;5;241m.\u001B[39mapply(\u001B[38;5;28;01mlambda\u001B[39;00m x: \u001B[43msex_dict\u001B[49m\u001B[43m[\u001B[49m\u001B[43mx\u001B[49m\u001B[43m]\u001B[49m)\n",
      "\u001B[0;31mKeyError\u001B[0m: 'женский'"
     ]
    }
   ],
   "execution_count": 134
  },
  {
   "metadata": {
    "ExecuteTime": {
     "end_time": "2024-12-22T10:13:51.240888Z",
     "start_time": "2024-12-22T10:13:51.236542Z"
    }
   },
   "cell_type": "code",
   "source": [
    "# контроль результата\n",
    "df_copy.sex.unique()"
   ],
   "id": "942c44b5c1210505",
   "outputs": [
    {
     "data": {
      "text/plain": [
       "array(['женский', 'мужской'], dtype=object)"
      ]
     },
     "execution_count": 135,
     "metadata": {},
     "output_type": "execute_result"
    }
   ],
   "execution_count": 135
  }
 ],
 "metadata": {
  "kernelspec": {
   "display_name": "Python 3",
   "language": "python",
   "name": "python3"
  },
  "language_info": {
   "codemirror_mode": {
    "name": "ipython",
    "version": 2
   },
   "file_extension": ".py",
   "mimetype": "text/x-python",
   "name": "python",
   "nbconvert_exporter": "python",
   "pygments_lexer": "ipython2",
   "version": "2.7.6"
  }
 },
 "nbformat": 4,
 "nbformat_minor": 5
}
