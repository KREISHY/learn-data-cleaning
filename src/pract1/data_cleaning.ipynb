{
 "cells": [
  {
   "metadata": {
    "collapsed": true
   },
   "cell_type": "code",
   "source": [
    "import pandas as pd\n",
    "import numpy as np\n",
    "import json"
   ],
   "id": "initial_id",
   "outputs": [],
   "execution_count": null
  },
  {
   "metadata": {},
   "cell_type": "markdown",
   "source": "Read file shop_users.csv",
   "id": "66f5903bd3f5b881"
  },
  {
   "metadata": {},
   "cell_type": "code",
   "source": "df = pd.read_csv('shop_users.csv')",
   "id": "8496ccdb50d6191c",
   "outputs": [],
   "execution_count": null
  },
  {
   "metadata": {},
   "cell_type": "markdown",
   "source": "# *View*",
   "id": "4ad0f2f25b78f86c"
  },
  {
   "metadata": {
    "ExecuteTime": {
     "end_time": "2024-12-21T08:11:37.872160Z",
     "start_time": "2024-12-21T08:11:37.860210Z"
    }
   },
   "cell_type": "code",
   "source": "df",
   "id": "632118a00b1c4c67",
   "outputs": [
    {
     "data": {
      "text/plain": [
       "      Unnamed: 0         id       bdate  \\\n",
       "0              0         19    1.1.2005   \n",
       "1              1        510    1.1.1985   \n",
       "2              2        674    1.1.1979   \n",
       "3              3       1018    1.1.2002   \n",
       "4              4       1586    1.1.1989   \n",
       "...          ...        ...         ...   \n",
       "3520        3520  741237782   22.2.2000   \n",
       "3521        3521  741237783    4.8.2005   \n",
       "3522        3522  741237784  30.11.2002   \n",
       "3523        3523  741237785    5.6.2008   \n",
       "3524        3524  741237786   24.7.1990   \n",
       "\n",
       "                                        city  \\\n",
       "0     {'id': 2, 'title': 'Saint-Petersburg'}   \n",
       "1                                        NaN   \n",
       "2         {'id': 99, 'title': 'Новосибирск'}   \n",
       "3     {'id': 2, 'title': 'Saint-Petersburg'}   \n",
       "4                                        NaN   \n",
       "...                                      ...   \n",
       "3520                                     NaN   \n",
       "3521            {'id': 1, 'title': 'Россия'}   \n",
       "3522            {'id': 1, 'title': 'Россия'}   \n",
       "3523            {'id': 1, 'title': 'Россия'}   \n",
       "3524            {'id': 1, 'title': 'Россия'}   \n",
       "\n",
       "                                  country  \\\n",
       "0            {'id': 1, 'title': 'Россия'}   \n",
       "1            {'id': 1, 'title': 'Россия'}   \n",
       "2            {'id': 1, 'title': 'Россия'}   \n",
       "3            {'id': 1, 'title': 'Россия'}   \n",
       "4            {'id': 1, 'title': 'Россия'}   \n",
       "...                                   ...   \n",
       "3520         {'id': 1, 'title': 'Россия'}   \n",
       "3521  {'platform': 4, 'time': 1658820057}   \n",
       "3522  {'platform': 2, 'time': 1662237422}   \n",
       "3523  {'platform': 4, 'time': 1662232523}   \n",
       "3524  {'platform': 4, 'time': 1661793146}   \n",
       "\n",
       "                                last_seen  followers_count  common_count  sex  \\\n",
       "0     {'platform': 2, 'time': 1662237362}          39326.0             0    1   \n",
       "1     {'platform': 7, 'time': 1661321803}          19698.0             0    2   \n",
       "2     {'platform': 7, 'time': 1662202619}              NaN             0    2   \n",
       "3     {'platform': 1, 'time': 1613708136}              NaN             0    2   \n",
       "4     {'platform': 7, 'time': 1619550770}          31433.0             0    2   \n",
       "...                                   ...              ...           ...  ...   \n",
       "3520  {'platform': 4, 'time': 1661793146}              NaN             0    2   \n",
       "3521                                  NaN              0.0             2    1   \n",
       "3522                                    0              0.0             2    0   \n",
       "3523                                    1              0.0             2    0   \n",
       "3524                                  NaN              0.0             2    1   \n",
       "\n",
       "      is_closed home_town                             relation  \\\n",
       "0           0.0       NaN                                  NaN   \n",
       "1           0.0       NaN                                  NaN   \n",
       "2           1.0       NaN                                  NaN   \n",
       "3           1.0       NaN                                  NaN   \n",
       "4           0.0       NaN                                  NaN   \n",
       "...         ...       ...                                  ...   \n",
       "3520        1.0       NaN                                  NaN   \n",
       "3521        NaN       NaN  {'costs': 50000, 'currency': 'RUR'}   \n",
       "3522        NaN         0  {'costs': 50000, 'currency': 'RUR'}   \n",
       "3523        NaN       NaN  {'costs': 25000, 'currency': 'RUR'}   \n",
       "3524        NaN       NaN  {'costs': 25000, 'currency': 'RUR'}   \n",
       "\n",
       "                                                  costs  \\\n",
       "0                   {'costs': 25000, 'currency': 'RUR'}   \n",
       "1                   {'costs': 50000, 'currency': 'RUR'}   \n",
       "2                   {'costs': 75000, 'currency': 'RUR'}   \n",
       "3                  {'costs': 100000, 'currency': 'RUR'}   \n",
       "4                  {'costs': 100000, 'currency': 'RUR'}   \n",
       "...                                                 ...   \n",
       "3520                {'costs': 25000, 'currency': 'RUR'}   \n",
       "3521                             [{'name': 'Fortnite'}]   \n",
       "3522  [{'name': 'PUBG'}, {'name': 'Hearthstone'}, {'...   \n",
       "3523                                 [{'name': 'FIFA'}]   \n",
       "3524  [{'name': 'StarCraft 2'}, {'name': 'Warface'},...   \n",
       "\n",
       "                                                  games  \n",
       "0     [{'name': 'Dota 2'}, {'name': 'CS:GO'}, {'name...  \n",
       "1     [{'name': 'League of Legends'}, {'name': 'Valo...  \n",
       "2                                [{'name': 'Fortnite'}]  \n",
       "3     [{'name': 'PUBG'}, {'name': 'Hearthstone'}, {'...  \n",
       "4                                    [{'name': 'FIFA'}]  \n",
       "...                                                 ...  \n",
       "3520                                [{'name': 'CS:GO'}]  \n",
       "3521                                                 no  \n",
       "3522                                                 no  \n",
       "3523                                                 no  \n",
       "3524                                                 no  \n",
       "\n",
       "[3525 rows x 14 columns]"
      ],
      "text/html": [
       "<div>\n",
       "<style scoped>\n",
       "    .dataframe tbody tr th:only-of-type {\n",
       "        vertical-align: middle;\n",
       "    }\n",
       "\n",
       "    .dataframe tbody tr th {\n",
       "        vertical-align: top;\n",
       "    }\n",
       "\n",
       "    .dataframe thead th {\n",
       "        text-align: right;\n",
       "    }\n",
       "</style>\n",
       "<table border=\"1\" class=\"dataframe\">\n",
       "  <thead>\n",
       "    <tr style=\"text-align: right;\">\n",
       "      <th></th>\n",
       "      <th>Unnamed: 0</th>\n",
       "      <th>id</th>\n",
       "      <th>bdate</th>\n",
       "      <th>city</th>\n",
       "      <th>country</th>\n",
       "      <th>last_seen</th>\n",
       "      <th>followers_count</th>\n",
       "      <th>common_count</th>\n",
       "      <th>sex</th>\n",
       "      <th>is_closed</th>\n",
       "      <th>home_town</th>\n",
       "      <th>relation</th>\n",
       "      <th>costs</th>\n",
       "      <th>games</th>\n",
       "    </tr>\n",
       "  </thead>\n",
       "  <tbody>\n",
       "    <tr>\n",
       "      <th>0</th>\n",
       "      <td>0</td>\n",
       "      <td>19</td>\n",
       "      <td>1.1.2005</td>\n",
       "      <td>{'id': 2, 'title': 'Saint-Petersburg'}</td>\n",
       "      <td>{'id': 1, 'title': 'Россия'}</td>\n",
       "      <td>{'platform': 2, 'time': 1662237362}</td>\n",
       "      <td>39326.0</td>\n",
       "      <td>0</td>\n",
       "      <td>1</td>\n",
       "      <td>0.0</td>\n",
       "      <td>NaN</td>\n",
       "      <td>NaN</td>\n",
       "      <td>{'costs': 25000, 'currency': 'RUR'}</td>\n",
       "      <td>[{'name': 'Dota 2'}, {'name': 'CS:GO'}, {'name...</td>\n",
       "    </tr>\n",
       "    <tr>\n",
       "      <th>1</th>\n",
       "      <td>1</td>\n",
       "      <td>510</td>\n",
       "      <td>1.1.1985</td>\n",
       "      <td>NaN</td>\n",
       "      <td>{'id': 1, 'title': 'Россия'}</td>\n",
       "      <td>{'platform': 7, 'time': 1661321803}</td>\n",
       "      <td>19698.0</td>\n",
       "      <td>0</td>\n",
       "      <td>2</td>\n",
       "      <td>0.0</td>\n",
       "      <td>NaN</td>\n",
       "      <td>NaN</td>\n",
       "      <td>{'costs': 50000, 'currency': 'RUR'}</td>\n",
       "      <td>[{'name': 'League of Legends'}, {'name': 'Valo...</td>\n",
       "    </tr>\n",
       "    <tr>\n",
       "      <th>2</th>\n",
       "      <td>2</td>\n",
       "      <td>674</td>\n",
       "      <td>1.1.1979</td>\n",
       "      <td>{'id': 99, 'title': 'Новосибирск'}</td>\n",
       "      <td>{'id': 1, 'title': 'Россия'}</td>\n",
       "      <td>{'platform': 7, 'time': 1662202619}</td>\n",
       "      <td>NaN</td>\n",
       "      <td>0</td>\n",
       "      <td>2</td>\n",
       "      <td>1.0</td>\n",
       "      <td>NaN</td>\n",
       "      <td>NaN</td>\n",
       "      <td>{'costs': 75000, 'currency': 'RUR'}</td>\n",
       "      <td>[{'name': 'Fortnite'}]</td>\n",
       "    </tr>\n",
       "    <tr>\n",
       "      <th>3</th>\n",
       "      <td>3</td>\n",
       "      <td>1018</td>\n",
       "      <td>1.1.2002</td>\n",
       "      <td>{'id': 2, 'title': 'Saint-Petersburg'}</td>\n",
       "      <td>{'id': 1, 'title': 'Россия'}</td>\n",
       "      <td>{'platform': 1, 'time': 1613708136}</td>\n",
       "      <td>NaN</td>\n",
       "      <td>0</td>\n",
       "      <td>2</td>\n",
       "      <td>1.0</td>\n",
       "      <td>NaN</td>\n",
       "      <td>NaN</td>\n",
       "      <td>{'costs': 100000, 'currency': 'RUR'}</td>\n",
       "      <td>[{'name': 'PUBG'}, {'name': 'Hearthstone'}, {'...</td>\n",
       "    </tr>\n",
       "    <tr>\n",
       "      <th>4</th>\n",
       "      <td>4</td>\n",
       "      <td>1586</td>\n",
       "      <td>1.1.1989</td>\n",
       "      <td>NaN</td>\n",
       "      <td>{'id': 1, 'title': 'Россия'}</td>\n",
       "      <td>{'platform': 7, 'time': 1619550770}</td>\n",
       "      <td>31433.0</td>\n",
       "      <td>0</td>\n",
       "      <td>2</td>\n",
       "      <td>0.0</td>\n",
       "      <td>NaN</td>\n",
       "      <td>NaN</td>\n",
       "      <td>{'costs': 100000, 'currency': 'RUR'}</td>\n",
       "      <td>[{'name': 'FIFA'}]</td>\n",
       "    </tr>\n",
       "    <tr>\n",
       "      <th>...</th>\n",
       "      <td>...</td>\n",
       "      <td>...</td>\n",
       "      <td>...</td>\n",
       "      <td>...</td>\n",
       "      <td>...</td>\n",
       "      <td>...</td>\n",
       "      <td>...</td>\n",
       "      <td>...</td>\n",
       "      <td>...</td>\n",
       "      <td>...</td>\n",
       "      <td>...</td>\n",
       "      <td>...</td>\n",
       "      <td>...</td>\n",
       "      <td>...</td>\n",
       "    </tr>\n",
       "    <tr>\n",
       "      <th>3520</th>\n",
       "      <td>3520</td>\n",
       "      <td>741237782</td>\n",
       "      <td>22.2.2000</td>\n",
       "      <td>NaN</td>\n",
       "      <td>{'id': 1, 'title': 'Россия'}</td>\n",
       "      <td>{'platform': 4, 'time': 1661793146}</td>\n",
       "      <td>NaN</td>\n",
       "      <td>0</td>\n",
       "      <td>2</td>\n",
       "      <td>1.0</td>\n",
       "      <td>NaN</td>\n",
       "      <td>NaN</td>\n",
       "      <td>{'costs': 25000, 'currency': 'RUR'}</td>\n",
       "      <td>[{'name': 'CS:GO'}]</td>\n",
       "    </tr>\n",
       "    <tr>\n",
       "      <th>3521</th>\n",
       "      <td>3521</td>\n",
       "      <td>741237783</td>\n",
       "      <td>4.8.2005</td>\n",
       "      <td>{'id': 1, 'title': 'Россия'}</td>\n",
       "      <td>{'platform': 4, 'time': 1658820057}</td>\n",
       "      <td>NaN</td>\n",
       "      <td>0.0</td>\n",
       "      <td>2</td>\n",
       "      <td>1</td>\n",
       "      <td>NaN</td>\n",
       "      <td>NaN</td>\n",
       "      <td>{'costs': 50000, 'currency': 'RUR'}</td>\n",
       "      <td>[{'name': 'Fortnite'}]</td>\n",
       "      <td>no</td>\n",
       "    </tr>\n",
       "    <tr>\n",
       "      <th>3522</th>\n",
       "      <td>3522</td>\n",
       "      <td>741237784</td>\n",
       "      <td>30.11.2002</td>\n",
       "      <td>{'id': 1, 'title': 'Россия'}</td>\n",
       "      <td>{'platform': 2, 'time': 1662237422}</td>\n",
       "      <td>0</td>\n",
       "      <td>0.0</td>\n",
       "      <td>2</td>\n",
       "      <td>0</td>\n",
       "      <td>NaN</td>\n",
       "      <td>0</td>\n",
       "      <td>{'costs': 50000, 'currency': 'RUR'}</td>\n",
       "      <td>[{'name': 'PUBG'}, {'name': 'Hearthstone'}, {'...</td>\n",
       "      <td>no</td>\n",
       "    </tr>\n",
       "    <tr>\n",
       "      <th>3523</th>\n",
       "      <td>3523</td>\n",
       "      <td>741237785</td>\n",
       "      <td>5.6.2008</td>\n",
       "      <td>{'id': 1, 'title': 'Россия'}</td>\n",
       "      <td>{'platform': 4, 'time': 1662232523}</td>\n",
       "      <td>1</td>\n",
       "      <td>0.0</td>\n",
       "      <td>2</td>\n",
       "      <td>0</td>\n",
       "      <td>NaN</td>\n",
       "      <td>NaN</td>\n",
       "      <td>{'costs': 25000, 'currency': 'RUR'}</td>\n",
       "      <td>[{'name': 'FIFA'}]</td>\n",
       "      <td>no</td>\n",
       "    </tr>\n",
       "    <tr>\n",
       "      <th>3524</th>\n",
       "      <td>3524</td>\n",
       "      <td>741237786</td>\n",
       "      <td>24.7.1990</td>\n",
       "      <td>{'id': 1, 'title': 'Россия'}</td>\n",
       "      <td>{'platform': 4, 'time': 1661793146}</td>\n",
       "      <td>NaN</td>\n",
       "      <td>0.0</td>\n",
       "      <td>2</td>\n",
       "      <td>1</td>\n",
       "      <td>NaN</td>\n",
       "      <td>NaN</td>\n",
       "      <td>{'costs': 25000, 'currency': 'RUR'}</td>\n",
       "      <td>[{'name': 'StarCraft 2'}, {'name': 'Warface'},...</td>\n",
       "      <td>no</td>\n",
       "    </tr>\n",
       "  </tbody>\n",
       "</table>\n",
       "<p>3525 rows × 14 columns</p>\n",
       "</div>"
      ]
     },
     "execution_count": 10,
     "metadata": {},
     "output_type": "execute_result"
    }
   ],
   "execution_count": 10
  },
  {
   "metadata": {},
   "cell_type": "code",
   "source": "df.head(n=2)",
   "id": "b95e0206ad56bacf",
   "outputs": [],
   "execution_count": null
  },
  {
   "metadata": {},
   "cell_type": "code",
   "source": "df.tail(n=3)",
   "id": "96fccdeb5fc30fae",
   "outputs": [],
   "execution_count": null
  },
  {
   "metadata": {},
   "cell_type": "code",
   "source": "df.sample(n=4)",
   "id": "db3c4b824cbe0b66",
   "outputs": [],
   "execution_count": null
  },
  {
   "metadata": {
    "ExecuteTime": {
     "end_time": "2024-12-21T08:13:37.911290Z",
     "start_time": "2024-12-21T08:13:37.905900Z"
    }
   },
   "cell_type": "code",
   "source": "type(df)",
   "id": "847fb5b172dab232",
   "outputs": [
    {
     "data": {
      "text/plain": [
       "pandas.core.series.Series"
      ]
     },
     "execution_count": 15,
     "metadata": {},
     "output_type": "execute_result"
    }
   ],
   "execution_count": 15
  },
  {
   "metadata": {
    "ExecuteTime": {
     "end_time": "2024-12-21T08:13:56.456246Z",
     "start_time": "2024-12-21T08:13:56.451462Z"
    }
   },
   "cell_type": "code",
   "source": "type(df['id'])",
   "id": "876a3a49d43029cf",
   "outputs": [
    {
     "data": {
      "text/plain": [
       "pandas.core.series.Series"
      ]
     },
     "execution_count": 16,
     "metadata": {},
     "output_type": "execute_result"
    }
   ],
   "execution_count": 16
  },
  {
   "metadata": {
    "ExecuteTime": {
     "end_time": "2024-12-21T08:14:19.957889Z",
     "start_time": "2024-12-21T08:14:19.952824Z"
    }
   },
   "cell_type": "code",
   "source": [
    "# size dataset\n",
    "len(df)"
   ],
   "id": "f69f808c98c5234d",
   "outputs": [
    {
     "data": {
      "text/plain": [
       "3525"
      ]
     },
     "execution_count": 17,
     "metadata": {},
     "output_type": "execute_result"
    }
   ],
   "execution_count": 17
  },
  {
   "metadata": {
    "ExecuteTime": {
     "end_time": "2024-12-21T08:14:51.885086Z",
     "start_time": "2024-12-21T08:14:51.880663Z"
    }
   },
   "cell_type": "code",
   "source": "len(df.axes[1])",
   "id": "4e7b5d37f46a9484",
   "outputs": [
    {
     "data": {
      "text/plain": [
       "14"
      ]
     },
     "execution_count": 18,
     "metadata": {},
     "output_type": "execute_result"
    }
   ],
   "execution_count": 18
  },
  {
   "metadata": {
    "ExecuteTime": {
     "end_time": "2024-12-21T08:20:15.922456Z",
     "start_time": "2024-12-21T08:20:15.918103Z"
    }
   },
   "cell_type": "code",
   "source": "df.shape",
   "id": "5c55e69087f96e19",
   "outputs": [
    {
     "data": {
      "text/plain": [
       "(3525, 14)"
      ]
     },
     "execution_count": 20,
     "metadata": {},
     "output_type": "execute_result"
    }
   ],
   "execution_count": 20
  },
  {
   "metadata": {
    "ExecuteTime": {
     "end_time": "2024-12-21T08:20:42.014602Z",
     "start_time": "2024-12-21T08:20:42.006279Z"
    }
   },
   "cell_type": "code",
   "source": "df.dtypes",
   "id": "3c9d2ad3a11927dc",
   "outputs": [
    {
     "data": {
      "text/plain": [
       "Unnamed: 0           int64\n",
       "id                   int64\n",
       "bdate               object\n",
       "city                object\n",
       "country             object\n",
       "last_seen           object\n",
       "followers_count    float64\n",
       "common_count         int64\n",
       "sex                  int64\n",
       "is_closed          float64\n",
       "home_town           object\n",
       "relation            object\n",
       "costs               object\n",
       "games               object\n",
       "dtype: object"
      ]
     },
     "execution_count": 21,
     "metadata": {},
     "output_type": "execute_result"
    }
   ],
   "execution_count": 21
  },
  {
   "metadata": {
    "ExecuteTime": {
     "end_time": "2024-12-21T08:21:19.489355Z",
     "start_time": "2024-12-21T08:21:19.470799Z"
    }
   },
   "cell_type": "code",
   "source": "df.info()",
   "id": "e09b760bd54ed4f5",
   "outputs": [
    {
     "name": "stdout",
     "output_type": "stream",
     "text": [
      "<class 'pandas.core.frame.DataFrame'>\n",
      "RangeIndex: 3525 entries, 0 to 3524\n",
      "Data columns (total 14 columns):\n",
      " #   Column           Non-Null Count  Dtype  \n",
      "---  ------           --------------  -----  \n",
      " 0   Unnamed: 0       3525 non-null   int64  \n",
      " 1   id               3525 non-null   int64  \n",
      " 2   bdate            3525 non-null   object \n",
      " 3   city             1972 non-null   object \n",
      " 4   country          3525 non-null   object \n",
      " 5   last_seen        3499 non-null   object \n",
      " 6   followers_count  2652 non-null   float64\n",
      " 7   common_count     3525 non-null   int64  \n",
      " 8   sex              3525 non-null   int64  \n",
      " 9   is_closed        3521 non-null   float64\n",
      " 10  home_town        558 non-null    object \n",
      " 11  relation         1584 non-null   object \n",
      " 12  costs            3495 non-null   object \n",
      " 13  games            3495 non-null   object \n",
      "dtypes: float64(2), int64(4), object(8)\n",
      "memory usage: 385.7+ KB\n"
     ]
    }
   ],
   "execution_count": 22
  },
  {
   "metadata": {},
   "cell_type": "markdown",
   "source": "## Выявление проблем",
   "id": "afcadc6e224febee"
  },
  {
   "metadata": {},
   "cell_type": "markdown",
   "source": [
    "1. Наличие признаков, не представляющих ценности в рамках кейса ('Unnamed: 0', 'common_count', 'is_closed', 'home_town', 'relation')\n",
    "2. Возможно наличие дубликатов\n",
    "3. Наличие незаполненных значений ('city', 'last_seen', 'followers_count', 'costs', 'games')\n",
    "4. Наличие вложенных значений (словарей по признакам 'city', 'country', 'last_seen', 'costs' и списков словарей по признаку 'games')\n",
    "5. Приведение признаков в необходимый формат (в datetime: 'bdate, 'last_seen', в float: затраты из признака 'costs')\n",
    "6. Необходимость расчета признака 'age' (от признака 'bdate')\n",
    "7. Наличие закодированных значений (по признаку 'sex')\n",
    "8. Возможные другие проблемы, которые могут быть выявлены в процессе предобработки данных"
   ],
   "id": "2a9094340c1adbd2"
  },
  {
   "metadata": {},
   "cell_type": "markdown",
   "source": "## Исключение признаков, не представляющих ценности в рамках кейса",
   "id": "67f32d07c58098c9"
  },
  {
   "metadata": {},
   "cell_type": "markdown",
   "source": "Перед проведением манипуляций рекомендовано создать копию исходного датасета в отдельную переменную, чтобы в случае необходимости или ошибки при обработке без труда вернуться к исходной версии",
   "id": "d8549b92e366d910"
  },
  {
   "metadata": {
    "ExecuteTime": {
     "end_time": "2024-12-21T08:30:33.312067Z",
     "start_time": "2024-12-21T08:30:33.305536Z"
    }
   },
   "cell_type": "code",
   "source": "df_copy = df.copy()",
   "id": "1282b49caa968856",
   "outputs": [],
   "execution_count": 23
  },
  {
   "metadata": {},
   "cell_type": "code",
   "outputs": [],
   "execution_count": null,
   "source": [
    "# при использовании выражения:\n",
    "# df_copy = df\n",
    "# копия не создастся, а датафрейм просто сохранится также в переменную df_copy,\n",
    "# и при его изменении при обращении к переменной df_copy он также будет изменен в переменной df."
   ],
   "id": "708ea4e874d46d01"
  },
  {
   "metadata": {
    "ExecuteTime": {
     "end_time": "2024-12-21T08:32:33.310166Z",
     "start_time": "2024-12-21T08:32:33.305425Z"
    }
   },
   "cell_type": "code",
   "source": [
    "# выводит список колонок датафрейма\n",
    "df_copy.columns"
   ],
   "id": "8237c86585c812d",
   "outputs": [
    {
     "data": {
      "text/plain": [
       "Index(['Unnamed: 0', 'id', 'bdate', 'city', 'country', 'last_seen',\n",
       "       'followers_count', 'common_count', 'sex', 'is_closed', 'home_town',\n",
       "       'relation', 'costs', 'games'],\n",
       "      dtype='object')"
      ]
     },
     "execution_count": 27,
     "metadata": {},
     "output_type": "execute_result"
    }
   ],
   "execution_count": 27
  },
  {
   "metadata": {
    "ExecuteTime": {
     "end_time": "2024-12-21T15:21:01.609670Z",
     "start_time": "2024-12-21T15:21:01.606168Z"
    }
   },
   "cell_type": "code",
   "source": "drop_columns = ['Unnamed: 0', 'common_count', 'is_closed', 'home_town', 'relation']",
   "id": "c89ed14b09e0264a",
   "outputs": [],
   "execution_count": 29
  },
  {
   "metadata": {
    "ExecuteTime": {
     "end_time": "2024-12-21T15:21:03.182005Z",
     "start_time": "2024-12-21T15:21:03.153752Z"
    }
   },
   "cell_type": "code",
   "source": [
    "# параметр inplace=True позволяет автоматически перезаписать текущий датафрейм\n",
    "# без использования конструкции: df_copy = df_copy.drop(columns=columns)\n",
    "df_copy.drop(columns=drop_columns, inplace=True)\n",
    "# также с помощью drop() можно удалять и сами наблюдения (см. тех. документацию)"
   ],
   "id": "9952f99db3001cd0",
   "outputs": [],
   "execution_count": 30
  },
  {
   "metadata": {
    "ExecuteTime": {
     "end_time": "2024-12-21T15:21:04.500755Z",
     "start_time": "2024-12-21T15:21:04.489426Z"
    }
   },
   "cell_type": "code",
   "source": [
    "# проверка списка колонок датафрейма\n",
    "df_copy.columns"
   ],
   "id": "2b9e8977e256337a",
   "outputs": [
    {
     "data": {
      "text/plain": [
       "Index(['id', 'bdate', 'city', 'country', 'last_seen', 'followers_count', 'sex',\n",
       "       'costs', 'games'],\n",
       "      dtype='object')"
      ]
     },
     "execution_count": 31,
     "metadata": {},
     "output_type": "execute_result"
    }
   ],
   "execution_count": 31
  },
  {
   "metadata": {},
   "cell_type": "markdown",
   "source": "## Проверка и исключение дубликатов",
   "id": "60139f9b37564089"
  },
  {
   "metadata": {},
   "cell_type": "markdown",
   "source": "### Проверка на дубликаты",
   "id": "d840ab8a0a048dd4"
  },
  {
   "metadata": {
    "ExecuteTime": {
     "end_time": "2024-12-21T15:22:39.168485Z",
     "start_time": "2024-12-21T15:22:39.135951Z"
    }
   },
   "cell_type": "code",
   "source": [
    "# проверка на дубликаты: выдает объект Series с булевыми значениями True/False\n",
    "df_copy.duplicated()"
   ],
   "id": "ada915438fc188d2",
   "outputs": [
    {
     "data": {
      "text/plain": [
       "0       False\n",
       "1       False\n",
       "2       False\n",
       "3       False\n",
       "4       False\n",
       "        ...  \n",
       "3520    False\n",
       "3521    False\n",
       "3522    False\n",
       "3523    False\n",
       "3524    False\n",
       "Length: 3525, dtype: bool"
      ]
     },
     "execution_count": 32,
     "metadata": {},
     "output_type": "execute_result"
    }
   ],
   "execution_count": 32
  },
  {
   "metadata": {
    "ExecuteTime": {
     "end_time": "2024-12-21T15:23:29.679910Z",
     "start_time": "2024-12-21T15:23:29.672429Z"
    }
   },
   "cell_type": "code",
   "source": [
    "# нас интересует количество дубликатов\n",
    "# т.к. True = 1, False = 0, то необходимо сложить все значения по данному объекту Series\n",
    "df_copy.duplicated().sum()"
   ],
   "id": "1319e39e56a8b802",
   "outputs": [
    {
     "data": {
      "text/plain": [
       "np.int64(158)"
      ]
     },
     "execution_count": 34,
     "metadata": {},
     "output_type": "execute_result"
    }
   ],
   "execution_count": 34
  },
  {
   "metadata": {
    "ExecuteTime": {
     "end_time": "2024-12-21T15:23:45.239506Z",
     "start_time": "2024-12-21T15:23:45.233885Z"
    }
   },
   "cell_type": "code",
   "source": [
    "# проверка дубликатов по столбцу id\n",
    "df_copy.duplicated(subset='id').sum()"
   ],
   "id": "f288e45b7b63e459",
   "outputs": [
    {
     "data": {
      "text/plain": [
       "np.int64(158)"
      ]
     },
     "execution_count": 35,
     "metadata": {},
     "output_type": "execute_result"
    }
   ],
   "execution_count": 35
  },
  {
   "metadata": {
    "ExecuteTime": {
     "end_time": "2024-12-21T15:24:46.639960Z",
     "start_time": "2024-12-21T15:24:46.632955Z"
    }
   },
   "cell_type": "code",
   "source": [
    "# проверка дубликатов по нескольким столбцам\n",
    "# (например, сколько однополых людей, родившихся в одинаковые дни)\n",
    "# параметр keep=False присваивает значения True всем найденным дубликатам\n",
    "# (по умолчанию keep='first', т.е. присваивает значение False первому из совпадений)\n",
    "df_copy.duplicated(subset=['bdate', 'sex'], keep=False).sum()"
   ],
   "id": "2a002888a61bccb4",
   "outputs": [
    {
     "data": {
      "text/plain": [
       "np.int64(1760)"
      ]
     },
     "execution_count": 36,
     "metadata": {},
     "output_type": "execute_result"
    }
   ],
   "execution_count": 36
  },
  {
   "metadata": {},
   "cell_type": "markdown",
   "source": "### Исключение дубликатов",
   "id": "cf230f44d14ae08e"
  },
  {
   "metadata": {
    "ExecuteTime": {
     "end_time": "2024-12-21T15:45:48.274479Z",
     "start_time": "2024-12-21T15:45:48.258811Z"
    }
   },
   "cell_type": "code",
   "source": [
    "# исключение дубликатов по всем признакам датафрейма\n",
    "df_copy.drop_duplicates(inplace=True)"
   ],
   "id": "27a83ef5025c12fe",
   "outputs": [],
   "execution_count": 38
  },
  {
   "metadata": {},
   "cell_type": "code",
   "outputs": [],
   "execution_count": null,
   "source": [
    "# исключение дубликатов по столбцу\n",
    "# (в нашем случае операция аналогична предыдущей)\n",
    "# df_copy.drop_duplicates(subset='id', inplace=True)"
   ],
   "id": "ea242d04df2c6244"
  },
  {
   "metadata": {},
   "cell_type": "code",
   "outputs": [],
   "execution_count": null,
   "source": [
    "# исключение дубликатов по нескольким столбцам\n",
    "# (в нашем случае нет необходимости)\n",
    "# параметр keep=False удаляет все найденные дубликаты\n",
    "# (по умолчанию keep='first', т.е. удаляет все дубликаты, кроме первого)\n",
    "# df_copy.drop_duplicates(subset=['bdate', 'sex'], keep=False, inplace=True)"
   ],
   "id": "a0c78ab4687bf1a2"
  },
  {
   "metadata": {
    "ExecuteTime": {
     "end_time": "2024-12-21T15:45:50.653929Z",
     "start_time": "2024-12-21T15:45:50.649421Z"
    }
   },
   "cell_type": "code",
   "source": "df_copy.shape",
   "id": "e8e428a9353ced01",
   "outputs": [
    {
     "data": {
      "text/plain": [
       "(3367, 9)"
      ]
     },
     "execution_count": 39,
     "metadata": {},
     "output_type": "execute_result"
    }
   ],
   "execution_count": 39
  }
 ],
 "metadata": {
  "kernelspec": {
   "display_name": "Python 3",
   "language": "python",
   "name": "python3"
  },
  "language_info": {
   "codemirror_mode": {
    "name": "ipython",
    "version": 2
   },
   "file_extension": ".py",
   "mimetype": "text/x-python",
   "name": "python",
   "nbconvert_exporter": "python",
   "pygments_lexer": "ipython2",
   "version": "2.7.6"
  }
 },
 "nbformat": 4,
 "nbformat_minor": 5
}
