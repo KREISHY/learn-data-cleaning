{
 "cells": [
  {
   "cell_type": "code",
   "id": "initial_id",
   "metadata": {
    "collapsed": true,
    "ExecuteTime": {
     "end_time": "2025-01-06T16:42:52.644470Z",
     "start_time": "2025-01-06T16:42:52.607235Z"
    }
   },
   "source": "import pandas as pd",
   "outputs": [],
   "execution_count": 8
  },
  {
   "metadata": {},
   "cell_type": "markdown",
   "source": "# Обзор и предобработка данных",
   "id": "55814c5ece89ebd3"
  },
  {
   "metadata": {},
   "cell_type": "markdown",
   "source": "",
   "id": "2525fb6373af76d1"
  },
  {
   "metadata": {
    "ExecuteTime": {
     "end_time": "2025-01-06T18:22:25.997964Z",
     "start_time": "2025-01-06T18:22:25.971627Z"
    }
   },
   "cell_type": "code",
   "source": "dataset = pd.read_csv('movies.csv')",
   "id": "1a1d794c6d12bc18",
   "outputs": [],
   "execution_count": 34
  },
  {
   "metadata": {
    "ExecuteTime": {
     "end_time": "2025-01-06T18:22:30.997306Z",
     "start_time": "2025-01-06T18:22:30.983126Z"
    }
   },
   "cell_type": "code",
   "source": "dataset.head(n=2)",
   "id": "6e69e1211dec76d5",
   "outputs": [
    {
     "data": {
      "text/plain": [
       "                                              poster  \\\n",
       "0  https://m.media-amazon.com/images/S/sash/4Fyxw...   \n",
       "1  https://m.media-amazon.com/images/S/sash/4Fyxw...   \n",
       "\n",
       "                      title certificate  runtime                 genre  \\\n",
       "0  The Shawshank Redemption          15  142 min                 Drama   \n",
       "1           The Dark Knight         12A  152 min  Action, Crime, Drama   \n",
       "\n",
       "   rating                                              about  \\\n",
       "0     9.3  Two imprisoned men bond over a number of years...   \n",
       "1     9.0  When the menace known as the Joker wreaks havo...   \n",
       "\n",
       "            director                                              stars  \\\n",
       "0     Frank Darabont  ('Tim Robbins',), ('Morgan Freeman',), ('Bob G...   \n",
       "1  Christopher Nolan  ('Christian Bale',), ('Heath Ledger',), ('Aaro...   \n",
       "\n",
       "       votes gross_earn  \n",
       "0  26,26,905    $28.34M  \n",
       "1  25,98,173   $534.86M  "
      ],
      "text/html": [
       "<div>\n",
       "<style scoped>\n",
       "    .dataframe tbody tr th:only-of-type {\n",
       "        vertical-align: middle;\n",
       "    }\n",
       "\n",
       "    .dataframe tbody tr th {\n",
       "        vertical-align: top;\n",
       "    }\n",
       "\n",
       "    .dataframe thead th {\n",
       "        text-align: right;\n",
       "    }\n",
       "</style>\n",
       "<table border=\"1\" class=\"dataframe\">\n",
       "  <thead>\n",
       "    <tr style=\"text-align: right;\">\n",
       "      <th></th>\n",
       "      <th>poster</th>\n",
       "      <th>title</th>\n",
       "      <th>certificate</th>\n",
       "      <th>runtime</th>\n",
       "      <th>genre</th>\n",
       "      <th>rating</th>\n",
       "      <th>about</th>\n",
       "      <th>director</th>\n",
       "      <th>stars</th>\n",
       "      <th>votes</th>\n",
       "      <th>gross_earn</th>\n",
       "    </tr>\n",
       "  </thead>\n",
       "  <tbody>\n",
       "    <tr>\n",
       "      <th>0</th>\n",
       "      <td>https://m.media-amazon.com/images/S/sash/4Fyxw...</td>\n",
       "      <td>The Shawshank Redemption</td>\n",
       "      <td>15</td>\n",
       "      <td>142 min</td>\n",
       "      <td>Drama</td>\n",
       "      <td>9.3</td>\n",
       "      <td>Two imprisoned men bond over a number of years...</td>\n",
       "      <td>Frank Darabont</td>\n",
       "      <td>('Tim Robbins',), ('Morgan Freeman',), ('Bob G...</td>\n",
       "      <td>26,26,905</td>\n",
       "      <td>$28.34M</td>\n",
       "    </tr>\n",
       "    <tr>\n",
       "      <th>1</th>\n",
       "      <td>https://m.media-amazon.com/images/S/sash/4Fyxw...</td>\n",
       "      <td>The Dark Knight</td>\n",
       "      <td>12A</td>\n",
       "      <td>152 min</td>\n",
       "      <td>Action, Crime, Drama</td>\n",
       "      <td>9.0</td>\n",
       "      <td>When the menace known as the Joker wreaks havo...</td>\n",
       "      <td>Christopher Nolan</td>\n",
       "      <td>('Christian Bale',), ('Heath Ledger',), ('Aaro...</td>\n",
       "      <td>25,98,173</td>\n",
       "      <td>$534.86M</td>\n",
       "    </tr>\n",
       "  </tbody>\n",
       "</table>\n",
       "</div>"
      ]
     },
     "execution_count": 35,
     "metadata": {},
     "output_type": "execute_result"
    }
   ],
   "execution_count": 35
  },
  {
   "metadata": {
    "ExecuteTime": {
     "end_time": "2025-01-06T18:22:33.237696Z",
     "start_time": "2025-01-06T18:22:33.232762Z"
    }
   },
   "cell_type": "code",
   "source": "dataset.shape",
   "id": "fee0e1303f0ab1a8",
   "outputs": [
    {
     "data": {
      "text/plain": [
       "(5000, 11)"
      ]
     },
     "execution_count": 36,
     "metadata": {},
     "output_type": "execute_result"
    }
   ],
   "execution_count": 36
  },
  {
   "metadata": {
    "ExecuteTime": {
     "end_time": "2025-01-06T18:22:34.841708Z",
     "start_time": "2025-01-06T18:22:34.830063Z"
    }
   },
   "cell_type": "code",
   "source": "dataset.info()",
   "id": "d22042a1531313e0",
   "outputs": [
    {
     "name": "stdout",
     "output_type": "stream",
     "text": [
      "<class 'pandas.core.frame.DataFrame'>\n",
      "RangeIndex: 5000 entries, 0 to 4999\n",
      "Data columns (total 11 columns):\n",
      " #   Column       Non-Null Count  Dtype  \n",
      "---  ------       --------------  -----  \n",
      " 0   poster       5000 non-null   object \n",
      " 1   title        5000 non-null   object \n",
      " 2   certificate  5000 non-null   object \n",
      " 3   runtime      5000 non-null   object \n",
      " 4   genre        4970 non-null   object \n",
      " 5   rating       5000 non-null   float64\n",
      " 6   about        4986 non-null   object \n",
      " 7   director     5000 non-null   object \n",
      " 8   stars        5000 non-null   object \n",
      " 9   votes        5000 non-null   object \n",
      " 10  gross_earn   4585 non-null   object \n",
      "dtypes: float64(1), object(10)\n",
      "memory usage: 429.8+ KB\n"
     ]
    }
   ],
   "execution_count": 37
  },
  {
   "metadata": {
    "ExecuteTime": {
     "end_time": "2025-01-06T18:22:37.310008Z",
     "start_time": "2025-01-06T18:22:37.304037Z"
    }
   },
   "cell_type": "code",
   "source": "dataset['title'].nunique(), \"уникальных фильмов из\", len(dataset)",
   "id": "be54d5d62d32477b",
   "outputs": [
    {
     "data": {
      "text/plain": [
       "(4891, 'уникальных фильмов из', 5000)"
      ]
     },
     "execution_count": 38,
     "metadata": {},
     "output_type": "execute_result"
    }
   ],
   "execution_count": 38
  },
  {
   "metadata": {
    "ExecuteTime": {
     "end_time": "2025-01-06T18:22:41.202641Z",
     "start_time": "2025-01-06T18:22:41.171468Z"
    }
   },
   "cell_type": "code",
   "source": "dataset.describe(include='all')",
   "id": "eaea05e44fbe1881",
   "outputs": [
    {
     "data": {
      "text/plain": [
       "                                                   poster     title  \\\n",
       "count                                                5000      5000   \n",
       "unique                                                  1      4891   \n",
       "top     https://m.media-amazon.com/images/S/sash/4Fyxw...  Godzilla   \n",
       "freq                                                 5000         3   \n",
       "mean                                                  NaN       NaN   \n",
       "std                                                   NaN       NaN   \n",
       "min                                                   NaN       NaN   \n",
       "25%                                                   NaN       NaN   \n",
       "50%                                                   NaN       NaN   \n",
       "75%                                                   NaN       NaN   \n",
       "max                                                   NaN       NaN   \n",
       "\n",
       "       certificate runtime                   genre       rating         about  \\\n",
       "count         5000    5000                    4970  5000.000000          4986   \n",
       "unique          39     178                     346          NaN          4976   \n",
       "top             15  97 min  Comedy, Drama, Romance          NaN  The story of   \n",
       "freq          1843     139                     242          NaN             8   \n",
       "mean           NaN     NaN                     NaN     6.692300           NaN   \n",
       "std            NaN     NaN                     NaN     0.973649           NaN   \n",
       "min            NaN     NaN                     NaN     1.500000           NaN   \n",
       "25%            NaN     NaN                     NaN     6.100000           NaN   \n",
       "50%            NaN     NaN                     NaN     6.800000           NaN   \n",
       "75%            NaN     NaN                     NaN     7.400000           NaN   \n",
       "max            NaN     NaN                     NaN     9.300000           NaN   \n",
       "\n",
       "           director                                              stars  \\\n",
       "count          5000                                               5000   \n",
       "unique         1969                                               4969   \n",
       "top     Woody Allen  ('William Shatner',), ('Leonard Nimoy',), ('De...   \n",
       "freq             38                                                  6   \n",
       "mean            NaN                                                NaN   \n",
       "std             NaN                                                NaN   \n",
       "min             NaN                                                NaN   \n",
       "25%             NaN                                                NaN   \n",
       "50%             NaN                                                NaN   \n",
       "75%             NaN                                                NaN   \n",
       "max             NaN                                                NaN   \n",
       "\n",
       "         votes gross_earn  \n",
       "count     5000       4585  \n",
       "unique    4918       3372  \n",
       "top     35,423     $0.01M  \n",
       "freq         2         27  \n",
       "mean       NaN        NaN  \n",
       "std        NaN        NaN  \n",
       "min        NaN        NaN  \n",
       "25%        NaN        NaN  \n",
       "50%        NaN        NaN  \n",
       "75%        NaN        NaN  \n",
       "max        NaN        NaN  "
      ],
      "text/html": [
       "<div>\n",
       "<style scoped>\n",
       "    .dataframe tbody tr th:only-of-type {\n",
       "        vertical-align: middle;\n",
       "    }\n",
       "\n",
       "    .dataframe tbody tr th {\n",
       "        vertical-align: top;\n",
       "    }\n",
       "\n",
       "    .dataframe thead th {\n",
       "        text-align: right;\n",
       "    }\n",
       "</style>\n",
       "<table border=\"1\" class=\"dataframe\">\n",
       "  <thead>\n",
       "    <tr style=\"text-align: right;\">\n",
       "      <th></th>\n",
       "      <th>poster</th>\n",
       "      <th>title</th>\n",
       "      <th>certificate</th>\n",
       "      <th>runtime</th>\n",
       "      <th>genre</th>\n",
       "      <th>rating</th>\n",
       "      <th>about</th>\n",
       "      <th>director</th>\n",
       "      <th>stars</th>\n",
       "      <th>votes</th>\n",
       "      <th>gross_earn</th>\n",
       "    </tr>\n",
       "  </thead>\n",
       "  <tbody>\n",
       "    <tr>\n",
       "      <th>count</th>\n",
       "      <td>5000</td>\n",
       "      <td>5000</td>\n",
       "      <td>5000</td>\n",
       "      <td>5000</td>\n",
       "      <td>4970</td>\n",
       "      <td>5000.000000</td>\n",
       "      <td>4986</td>\n",
       "      <td>5000</td>\n",
       "      <td>5000</td>\n",
       "      <td>5000</td>\n",
       "      <td>4585</td>\n",
       "    </tr>\n",
       "    <tr>\n",
       "      <th>unique</th>\n",
       "      <td>1</td>\n",
       "      <td>4891</td>\n",
       "      <td>39</td>\n",
       "      <td>178</td>\n",
       "      <td>346</td>\n",
       "      <td>NaN</td>\n",
       "      <td>4976</td>\n",
       "      <td>1969</td>\n",
       "      <td>4969</td>\n",
       "      <td>4918</td>\n",
       "      <td>3372</td>\n",
       "    </tr>\n",
       "    <tr>\n",
       "      <th>top</th>\n",
       "      <td>https://m.media-amazon.com/images/S/sash/4Fyxw...</td>\n",
       "      <td>Godzilla</td>\n",
       "      <td>15</td>\n",
       "      <td>97 min</td>\n",
       "      <td>Comedy, Drama, Romance</td>\n",
       "      <td>NaN</td>\n",
       "      <td>The story of</td>\n",
       "      <td>Woody Allen</td>\n",
       "      <td>('William Shatner',), ('Leonard Nimoy',), ('De...</td>\n",
       "      <td>35,423</td>\n",
       "      <td>$0.01M</td>\n",
       "    </tr>\n",
       "    <tr>\n",
       "      <th>freq</th>\n",
       "      <td>5000</td>\n",
       "      <td>3</td>\n",
       "      <td>1843</td>\n",
       "      <td>139</td>\n",
       "      <td>242</td>\n",
       "      <td>NaN</td>\n",
       "      <td>8</td>\n",
       "      <td>38</td>\n",
       "      <td>6</td>\n",
       "      <td>2</td>\n",
       "      <td>27</td>\n",
       "    </tr>\n",
       "    <tr>\n",
       "      <th>mean</th>\n",
       "      <td>NaN</td>\n",
       "      <td>NaN</td>\n",
       "      <td>NaN</td>\n",
       "      <td>NaN</td>\n",
       "      <td>NaN</td>\n",
       "      <td>6.692300</td>\n",
       "      <td>NaN</td>\n",
       "      <td>NaN</td>\n",
       "      <td>NaN</td>\n",
       "      <td>NaN</td>\n",
       "      <td>NaN</td>\n",
       "    </tr>\n",
       "    <tr>\n",
       "      <th>std</th>\n",
       "      <td>NaN</td>\n",
       "      <td>NaN</td>\n",
       "      <td>NaN</td>\n",
       "      <td>NaN</td>\n",
       "      <td>NaN</td>\n",
       "      <td>0.973649</td>\n",
       "      <td>NaN</td>\n",
       "      <td>NaN</td>\n",
       "      <td>NaN</td>\n",
       "      <td>NaN</td>\n",
       "      <td>NaN</td>\n",
       "    </tr>\n",
       "    <tr>\n",
       "      <th>min</th>\n",
       "      <td>NaN</td>\n",
       "      <td>NaN</td>\n",
       "      <td>NaN</td>\n",
       "      <td>NaN</td>\n",
       "      <td>NaN</td>\n",
       "      <td>1.500000</td>\n",
       "      <td>NaN</td>\n",
       "      <td>NaN</td>\n",
       "      <td>NaN</td>\n",
       "      <td>NaN</td>\n",
       "      <td>NaN</td>\n",
       "    </tr>\n",
       "    <tr>\n",
       "      <th>25%</th>\n",
       "      <td>NaN</td>\n",
       "      <td>NaN</td>\n",
       "      <td>NaN</td>\n",
       "      <td>NaN</td>\n",
       "      <td>NaN</td>\n",
       "      <td>6.100000</td>\n",
       "      <td>NaN</td>\n",
       "      <td>NaN</td>\n",
       "      <td>NaN</td>\n",
       "      <td>NaN</td>\n",
       "      <td>NaN</td>\n",
       "    </tr>\n",
       "    <tr>\n",
       "      <th>50%</th>\n",
       "      <td>NaN</td>\n",
       "      <td>NaN</td>\n",
       "      <td>NaN</td>\n",
       "      <td>NaN</td>\n",
       "      <td>NaN</td>\n",
       "      <td>6.800000</td>\n",
       "      <td>NaN</td>\n",
       "      <td>NaN</td>\n",
       "      <td>NaN</td>\n",
       "      <td>NaN</td>\n",
       "      <td>NaN</td>\n",
       "    </tr>\n",
       "    <tr>\n",
       "      <th>75%</th>\n",
       "      <td>NaN</td>\n",
       "      <td>NaN</td>\n",
       "      <td>NaN</td>\n",
       "      <td>NaN</td>\n",
       "      <td>NaN</td>\n",
       "      <td>7.400000</td>\n",
       "      <td>NaN</td>\n",
       "      <td>NaN</td>\n",
       "      <td>NaN</td>\n",
       "      <td>NaN</td>\n",
       "      <td>NaN</td>\n",
       "    </tr>\n",
       "    <tr>\n",
       "      <th>max</th>\n",
       "      <td>NaN</td>\n",
       "      <td>NaN</td>\n",
       "      <td>NaN</td>\n",
       "      <td>NaN</td>\n",
       "      <td>NaN</td>\n",
       "      <td>9.300000</td>\n",
       "      <td>NaN</td>\n",
       "      <td>NaN</td>\n",
       "      <td>NaN</td>\n",
       "      <td>NaN</td>\n",
       "      <td>NaN</td>\n",
       "    </tr>\n",
       "  </tbody>\n",
       "</table>\n",
       "</div>"
      ]
     },
     "execution_count": 39,
     "metadata": {},
     "output_type": "execute_result"
    }
   ],
   "execution_count": 39
  },
  {
   "metadata": {
    "ExecuteTime": {
     "end_time": "2025-01-06T18:22:44.631748Z",
     "start_time": "2025-01-06T18:22:44.621927Z"
    }
   },
   "cell_type": "code",
   "source": [
    "duplicates = dataset.duplicated()\n",
    "print(f\"Количество дубликатов: {duplicates.sum()}\")\n"
   ],
   "id": "33a57b5acbec2496",
   "outputs": [
    {
     "name": "stdout",
     "output_type": "stream",
     "text": [
      "Количество дубликатов: 0\n"
     ]
    }
   ],
   "execution_count": 40
  },
  {
   "metadata": {
    "ExecuteTime": {
     "end_time": "2025-01-06T18:27:11.591839Z",
     "start_time": "2025-01-06T18:27:11.584989Z"
    }
   },
   "cell_type": "code",
   "source": [
    "# Проверка пропусков\n",
    "missing_data = dataset.isnull().sum()\n",
    "print(f\"Пропущенные значения:\\n{missing_data}\")"
   ],
   "id": "4ee041b23776ab2e",
   "outputs": [
    {
     "name": "stdout",
     "output_type": "stream",
     "text": [
      "Пропущенные значения:\n",
      "poster           0\n",
      "title            0\n",
      "certificate      0\n",
      "runtime          0\n",
      "genre           30\n",
      "rating           0\n",
      "about           14\n",
      "director         0\n",
      "stars            0\n",
      "votes            0\n",
      "gross_earn     415\n",
      "dtype: int64\n"
     ]
    }
   ],
   "execution_count": 43
  },
  {
   "metadata": {},
   "cell_type": "markdown",
   "source": [
    "# Вывод\n",
    "1. Размеры датасета:\n",
    "    - Датасет содержит 5000 записей и 11 признаков;\n",
    "    - Всего в датасете представлено 5000 записей, из которых 4891 уникальных;\n",
    "2. Типы данных:\n",
    "    - Основные данные представлены в виде строковых (object) и числовых (float64) типов.\n",
    "    - Некоторые столбцы требуют приведения типов:\n",
    "        - runtime (время) — преобразовать в целочисленный формат;\n",
    "        - votes (голоса) — преобразовать из строки с запятыми в числовой формат;\n",
    "        - gross_earn (доход) — содержит символы $ и запятые, необходимо привести к числовому формату.\n",
    "3. Дубликаты:\n",
    "    - Полных дубликатов нет;\n",
    "    - Выявлено 109 дубликатов, которые составляют 2,18% от общего числа записей.\n",
    "4. Пропущенные значения:\n",
    "    - Пропущенные значения в столбцах:\n",
    "        - genre (жанр) - 30 пропущенных значений (0,6%);\n",
    "        - about - 14 пропущенных значений (0,28%);\n",
    "        - gross_earn - 415 пропущенных значений (8,3%)\n",
    "    - Пропуски в `genre` и `about` можно заполнить строковым значением 'Unknown' или удалить, если их доля мала.\n",
    "    - Для gross_earn необходимо заполнить или удалить строки.\n",
    "5. Возможные проблемы при анализе:\n",
    "    - Неправильные типы данных (например, votes и gross_earn) могут привести к ошибкам в расчетах.\n",
    "    - Пропущенные значения в gross_earn могут исказить результаты анализа доходов фильмов.\n",
    "    - Некоторые строковые признаки, такие как genre, требуют дополнительной обработки для анализа (например, разбиение на подкатегории).\n",
    "    - Малая доля пропусков в about и genre вряд ли критична, но требует внимания."
   ],
   "id": "49dcfc888b403f32"
  },
  {
   "metadata": {},
   "cell_type": "code",
   "outputs": [],
   "execution_count": null,
   "source": "",
   "id": "4469e9246c074071"
  }
 ],
 "metadata": {
  "kernelspec": {
   "display_name": "Python 3",
   "language": "python",
   "name": "python3"
  },
  "language_info": {
   "codemirror_mode": {
    "name": "ipython",
    "version": 2
   },
   "file_extension": ".py",
   "mimetype": "text/x-python",
   "name": "python",
   "nbconvert_exporter": "python",
   "pygments_lexer": "ipython2",
   "version": "2.7.6"
  }
 },
 "nbformat": 4,
 "nbformat_minor": 5
}
